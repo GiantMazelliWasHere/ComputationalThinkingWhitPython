{
 "cells": [
  {
   "cell_type": "markdown",
   "metadata": {},
   "source": [
    "# Calculo do tempo estimado de uma viajem"
   ]
  },
  {
   "cell_type": "code",
   "execution_count": 3,
   "metadata": {},
   "outputs": [
    {
     "name": "stdout",
     "output_type": "stream",
     "text": [
      "o tempo estimado será de 2 horas\n"
     ]
    }
   ],
   "source": [
    "# Coleta de dados\n",
    "velocidade = int(input(\"Qual será a velocidade média do carro? \"))\n",
    "distancia = float(input(\"Qual será a distância percorrida? \"))\n",
    "\n",
    "# Calculo da estimativa de tempo\n",
    "tempo_estimado = round(distancia / velocidade)\n",
    "\n",
    "# Exibindo o tempo estimado\n",
    "print(f\"o tempo estimado será de {tempo_estimado} horas\")"
   ]
  }
 ],
 "metadata": {
  "kernelspec": {
   "display_name": "base",
   "language": "python",
   "name": "python3"
  },
  "language_info": {
   "codemirror_mode": {
    "name": "ipython",
    "version": 3
   },
   "file_extension": ".py",
   "mimetype": "text/x-python",
   "name": "python",
   "nbconvert_exporter": "python",
   "pygments_lexer": "ipython3",
   "version": "3.10.9"
  },
  "orig_nbformat": 4
 },
 "nbformat": 4,
 "nbformat_minor": 2
}
