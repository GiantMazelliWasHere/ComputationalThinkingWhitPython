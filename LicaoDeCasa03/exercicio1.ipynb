{
 "cells": [
  {
   "cell_type": "markdown",
   "metadata": {},
   "source": [
    "# Conversor de Metros para Milimetros"
   ]
  },
  {
   "cell_type": "code",
   "execution_count": 2,
   "metadata": {},
   "outputs": [
    {
     "name": "stdout",
     "output_type": "stream",
     "text": [
      "O valor 10.0 covertido para milimetros fica 10000.0\n"
     ]
    }
   ],
   "source": [
    "# Coletando o dado em metros para conversão\n",
    "metros = float(input(\"Valor em Metros para converter: \"))\n",
    "\n",
    "# Realizando a conversão\n",
    "conversao_para_milimetros = metros * 1000\n",
    "\n",
    "# Exibindo o dado\n",
    "print(f\"O valor {metros} covertido para milimetros fica {conversao_para_milimetros}\")"
   ]
  }
 ],
 "metadata": {
  "kernelspec": {
   "display_name": "base",
   "language": "python",
   "name": "python3"
  },
  "language_info": {
   "codemirror_mode": {
    "name": "ipython",
    "version": 3
   },
   "file_extension": ".py",
   "mimetype": "text/x-python",
   "name": "python",
   "nbconvert_exporter": "python",
   "pygments_lexer": "ipython3",
   "version": "3.10.9"
  },
  "orig_nbformat": 4
 },
 "nbformat": 4,
 "nbformat_minor": 2
}
