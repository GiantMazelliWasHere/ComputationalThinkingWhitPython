{
 "cells": [
  {
   "cell_type": "code",
   "execution_count": 2,
   "metadata": {},
   "outputs": [
    {
     "name": "stdout",
     "output_type": "stream",
     "text": [
      "O valor da potência é igual a: 4.0\n"
     ]
    }
   ],
   "source": [
    "tensao = float(input('Digite valor da tensão'))\n",
    "corrente = float(input('Digite valor de corrente'))\n",
    "\n",
    "p = tensao * corrente\n",
    "\n",
    "print(f'O valor da potência é igual a: {p}')"
   ]
  },
  {
   "cell_type": "code",
   "execution_count": 3,
   "metadata": {},
   "outputs": [
    {
     "name": "stdout",
     "output_type": "stream",
     "text": [
      "O valor da potência é: 127\n"
     ]
    }
   ],
   "source": [
    "def calcula_potencia(v, i):\n",
    "    p = v * i\n",
    "    return p\n",
    "\n",
    "v = 127\n",
    "i = 1\n",
    "\n",
    "resultado = calcula_potencia(v, i)\n",
    "\n",
    "print(f\"O valor da potência é: {resultado}\")"
   ]
  },
  {
   "cell_type": "code",
   "execution_count": null,
   "metadata": {},
   "outputs": [],
   "source": [
    "ordem = [\"first\", \"second\",\"third\"]\n",
    "titulo = [\"King\",\"queen\",\"princess\"]\n",
    "\n",
    "for x in ordem:\n",
    "    for y in titulo:\n",
    "        print(x,y)"
   ]
  },
  {
   "cell_type": "code",
   "execution_count": 7,
   "metadata": {},
   "outputs": [
    {
     "name": "stdout",
     "output_type": "stream",
     "text": [
      "Requirement already satisfied: pandas in c:\\python311\\lib\\site-packages (2.2.0)\n",
      "Requirement already satisfied: numpy<2,>=1.23.2 in c:\\python311\\lib\\site-packages (from pandas) (1.26.3)\n",
      "Requirement already satisfied: python-dateutil>=2.8.2 in c:\\python311\\lib\\site-packages (from pandas) (2.8.2)\n",
      "Requirement already satisfied: pytz>=2020.1 in c:\\python311\\lib\\site-packages (from pandas) (2024.1)\n",
      "Requirement already satisfied: tzdata>=2022.7 in c:\\python311\\lib\\site-packages (from pandas) (2023.4)\n",
      "Requirement already satisfied: six>=1.5 in c:\\python311\\lib\\site-packages (from python-dateutil>=2.8.2->pandas) (1.16.0)\n",
      "Note: you may need to restart the kernel to use updated packages.\n"
     ]
    },
    {
     "name": "stderr",
     "output_type": "stream",
     "text": [
      "\n",
      "[notice] A new release of pip is available: 23.1.2 -> 24.0\n",
      "[notice] To update, run: python.exe -m pip install --upgrade pip\n"
     ]
    }
   ],
   "source": [
    "pip install pandas"
   ]
  },
  {
   "cell_type": "code",
   "execution_count": 5,
   "metadata": {},
   "outputs": [
    {
     "name": "stderr",
     "output_type": "stream",
     "text": [
      "C:\\Users\\logonrmlocal\\AppData\\Local\\Temp\\ipykernel_11176\\4080736814.py:1: DeprecationWarning: \n",
      "Pyarrow will become a required dependency of pandas in the next major release of pandas (pandas 3.0),\n",
      "(to allow more performant data types, such as the Arrow string type, and better interoperability with other libraries)\n",
      "but was not found to be installed on your system.\n",
      "If this would cause problems for you,\n",
      "please provide us feedback at https://github.com/pandas-dev/pandas/issues/54466\n",
      "        \n",
      "  import pandas as pd\n"
     ]
    }
   ],
   "source": [
    "import pandas as pd"
   ]
  },
  {
   "cell_type": "code",
   "execution_count": 6,
   "metadata": {},
   "outputs": [
    {
     "data": {
      "text/html": [
       "<div>\n",
       "<style scoped>\n",
       "    .dataframe tbody tr th:only-of-type {\n",
       "        vertical-align: middle;\n",
       "    }\n",
       "\n",
       "    .dataframe tbody tr th {\n",
       "        vertical-align: top;\n",
       "    }\n",
       "\n",
       "    .dataframe thead th {\n",
       "        text-align: right;\n",
       "    }\n",
       "</style>\n",
       "<table border=\"1\" class=\"dataframe\">\n",
       "  <thead>\n",
       "    <tr style=\"text-align: right;\">\n",
       "      <th></th>\n",
       "      <th>Tipo de Carro</th>\n",
       "      <th>Tipo de Direção</th>\n",
       "      <th>Tipo de Pneus</th>\n",
       "      <th>Faixa de Preço</th>\n",
       "      <th>Potência - CV</th>\n",
       "      <th>Velocidade de Cruzeiro</th>\n",
       "    </tr>\n",
       "  </thead>\n",
       "  <tbody>\n",
       "    <tr>\n",
       "      <th>0</th>\n",
       "      <td>Sedan</td>\n",
       "      <td>Hidraulica</td>\n",
       "      <td>Radial</td>\n",
       "      <td>Alto</td>\n",
       "      <td>120</td>\n",
       "      <td>True</td>\n",
       "    </tr>\n",
       "    <tr>\n",
       "      <th>1</th>\n",
       "      <td>SUV</td>\n",
       "      <td>Elétrica</td>\n",
       "      <td>Diagonal</td>\n",
       "      <td>Médio</td>\n",
       "      <td>130</td>\n",
       "      <td>False</td>\n",
       "    </tr>\n",
       "    <tr>\n",
       "      <th>2</th>\n",
       "      <td>Hathback</td>\n",
       "      <td>Mecânica</td>\n",
       "      <td>Radial</td>\n",
       "      <td>Baixo</td>\n",
       "      <td>100</td>\n",
       "      <td>True</td>\n",
       "    </tr>\n",
       "    <tr>\n",
       "      <th>3</th>\n",
       "      <td>Caminhonete</td>\n",
       "      <td>Elétrica</td>\n",
       "      <td>Diagonal</td>\n",
       "      <td>Alto</td>\n",
       "      <td>180</td>\n",
       "      <td>True</td>\n",
       "    </tr>\n",
       "    <tr>\n",
       "      <th>4</th>\n",
       "      <td>Coupé</td>\n",
       "      <td>Hidraulica</td>\n",
       "      <td>Radial</td>\n",
       "      <td>Médio</td>\n",
       "      <td>200</td>\n",
       "      <td>False</td>\n",
       "    </tr>\n",
       "  </tbody>\n",
       "</table>\n",
       "</div>"
      ],
      "text/plain": [
       "  Tipo de Carro Tipo de Direção Tipo de Pneus Faixa de Preço  Potência - CV  \\\n",
       "0         Sedan      Hidraulica        Radial           Alto            120   \n",
       "1           SUV        Elétrica      Diagonal          Médio            130   \n",
       "2      Hathback        Mecânica        Radial          Baixo            100   \n",
       "3   Caminhonete        Elétrica      Diagonal           Alto            180   \n",
       "4         Coupé      Hidraulica        Radial          Médio            200   \n",
       "\n",
       "   Velocidade de Cruzeiro  \n",
       "0                    True  \n",
       "1                   False  \n",
       "2                    True  \n",
       "3                    True  \n",
       "4                   False  "
      ]
     },
     "execution_count": 6,
     "metadata": {},
     "output_type": "execute_result"
    }
   ],
   "source": [
    "\n",
    "dados = {\n",
    "    'Tipo de Carro': ['Sedan', 'SUV', 'Hathback', 'Caminhonete', 'Coupé'],\n",
    "    'Tipo de Direção': ['Hidraulica', 'Elétrica', 'Mecânica', 'Elétrica', 'Hidraulica'],\n",
    "    'Tipo de Pneus': ['Radial', 'Diagonal', 'Radial', 'Diagonal', 'Radial'],\n",
    "    'Faixa de Preço': ['Alto', 'Médio', 'Baixo', 'Alto', 'Médio'],\n",
    "    'Potência - CV': [120, 130, 100, 180, 200],\n",
    "    'Velocidade de Cruzeiro': [True, False, True, True, False],\n",
    "}\n",
    "\n",
    "df_carros = pd.DataFrame(dados)\n",
    "\n",
    "df_carros"
   ]
  },
  {
   "cell_type": "code",
   "execution_count": 7,
   "metadata": {},
   "outputs": [
    {
     "data": {
      "text/html": [
       "<div>\n",
       "<style scoped>\n",
       "    .dataframe tbody tr th:only-of-type {\n",
       "        vertical-align: middle;\n",
       "    }\n",
       "\n",
       "    .dataframe tbody tr th {\n",
       "        vertical-align: top;\n",
       "    }\n",
       "\n",
       "    .dataframe thead th {\n",
       "        text-align: right;\n",
       "    }\n",
       "</style>\n",
       "<table border=\"1\" class=\"dataframe\">\n",
       "  <thead>\n",
       "    <tr style=\"text-align: right;\">\n",
       "      <th></th>\n",
       "      <th>Tipo de Carro</th>\n",
       "      <th>Tipo de Direção</th>\n",
       "      <th>Tipo de Pneus</th>\n",
       "      <th>Faixa de Preço</th>\n",
       "      <th>Potência - CV</th>\n",
       "      <th>Velocidade de Cruzeiro</th>\n",
       "    </tr>\n",
       "  </thead>\n",
       "  <tbody>\n",
       "    <tr>\n",
       "      <th>0</th>\n",
       "      <td>Sedan</td>\n",
       "      <td>Hidraulica</td>\n",
       "      <td>Radial</td>\n",
       "      <td>Alto</td>\n",
       "      <td>120</td>\n",
       "      <td>True</td>\n",
       "    </tr>\n",
       "    <tr>\n",
       "      <th>1</th>\n",
       "      <td>SUV</td>\n",
       "      <td>Elétrica</td>\n",
       "      <td>Diagonal</td>\n",
       "      <td>Médio</td>\n",
       "      <td>130</td>\n",
       "      <td>False</td>\n",
       "    </tr>\n",
       "    <tr>\n",
       "      <th>2</th>\n",
       "      <td>Hathback</td>\n",
       "      <td>Mecânica</td>\n",
       "      <td>Radial</td>\n",
       "      <td>Baixo</td>\n",
       "      <td>100</td>\n",
       "      <td>True</td>\n",
       "    </tr>\n",
       "    <tr>\n",
       "      <th>3</th>\n",
       "      <td>Caminhonete</td>\n",
       "      <td>Elétrica</td>\n",
       "      <td>Diagonal</td>\n",
       "      <td>Alto</td>\n",
       "      <td>180</td>\n",
       "      <td>True</td>\n",
       "    </tr>\n",
       "    <tr>\n",
       "      <th>4</th>\n",
       "      <td>Coupé</td>\n",
       "      <td>Hidraulica</td>\n",
       "      <td>Radial</td>\n",
       "      <td>Médio</td>\n",
       "      <td>200</td>\n",
       "      <td>False</td>\n",
       "    </tr>\n",
       "  </tbody>\n",
       "</table>\n",
       "</div>"
      ],
      "text/plain": [
       "  Tipo de Carro Tipo de Direção Tipo de Pneus Faixa de Preço  Potência - CV  \\\n",
       "0         Sedan      Hidraulica        Radial           Alto            120   \n",
       "1           SUV        Elétrica      Diagonal          Médio            130   \n",
       "2      Hathback        Mecânica        Radial          Baixo            100   \n",
       "3   Caminhonete        Elétrica      Diagonal           Alto            180   \n",
       "4         Coupé      Hidraulica        Radial          Médio            200   \n",
       "\n",
       "   Velocidade de Cruzeiro  \n",
       "0                    True  \n",
       "1                   False  \n",
       "2                    True  \n",
       "3                    True  \n",
       "4                   False  "
      ]
     },
     "execution_count": 7,
     "metadata": {},
     "output_type": "execute_result"
    }
   ],
   "source": [
    "df_carros"
   ]
  },
  {
   "cell_type": "code",
   "execution_count": 15,
   "metadata": {},
   "outputs": [
    {
     "name": "stdout",
     "output_type": "stream",
     "text": [
      "<class 'pandas.core.frame.DataFrame'>\n",
      "RangeIndex: 5 entries, 0 to 4\n",
      "Data columns (total 6 columns):\n",
      " #   Column                  Non-Null Count  Dtype \n",
      "---  ------                  --------------  ----- \n",
      " 0   Tipo de Carro           5 non-null      object\n",
      " 1   Tipo de Direção         5 non-null      object\n",
      " 2   Tipo de Pneus           5 non-null      object\n",
      " 3   Faixa de Preço          5 non-null      object\n",
      " 4   Potência - CV           5 non-null      int64 \n",
      " 5   Velocidade de Cruzeiro  5 non-null      bool  \n",
      "dtypes: bool(1), int64(1), object(4)\n",
      "memory usage: 337.0+ bytes\n"
     ]
    }
   ],
   "source": [
    "df_carros.info()"
   ]
  },
  {
   "cell_type": "code",
   "execution_count": 16,
   "metadata": {},
   "outputs": [
    {
     "data": {
      "text/html": [
       "<div>\n",
       "<style scoped>\n",
       "    .dataframe tbody tr th:only-of-type {\n",
       "        vertical-align: middle;\n",
       "    }\n",
       "\n",
       "    .dataframe tbody tr th {\n",
       "        vertical-align: top;\n",
       "    }\n",
       "\n",
       "    .dataframe thead th {\n",
       "        text-align: right;\n",
       "    }\n",
       "</style>\n",
       "<table border=\"1\" class=\"dataframe\">\n",
       "  <thead>\n",
       "    <tr style=\"text-align: right;\">\n",
       "      <th></th>\n",
       "      <th>Tipo de Carro</th>\n",
       "      <th>Tipo de Direção</th>\n",
       "      <th>Tipo de Pneus</th>\n",
       "      <th>Faixa de Preço</th>\n",
       "      <th>Potência - CV</th>\n",
       "      <th>Velocidade de Cruzeiro</th>\n",
       "    </tr>\n",
       "  </thead>\n",
       "  <tbody>\n",
       "    <tr>\n",
       "      <th>0</th>\n",
       "      <td>Sedan</td>\n",
       "      <td>Hidraulica</td>\n",
       "      <td>Radial</td>\n",
       "      <td>Alto</td>\n",
       "      <td>120</td>\n",
       "      <td>True</td>\n",
       "    </tr>\n",
       "    <tr>\n",
       "      <th>1</th>\n",
       "      <td>SUV</td>\n",
       "      <td>Elétrica</td>\n",
       "      <td>Diagonal</td>\n",
       "      <td>Médio</td>\n",
       "      <td>130</td>\n",
       "      <td>False</td>\n",
       "    </tr>\n",
       "    <tr>\n",
       "      <th>2</th>\n",
       "      <td>Hathback</td>\n",
       "      <td>Mecânica</td>\n",
       "      <td>Radial</td>\n",
       "      <td>Baixo</td>\n",
       "      <td>100</td>\n",
       "      <td>True</td>\n",
       "    </tr>\n",
       "    <tr>\n",
       "      <th>3</th>\n",
       "      <td>Caminhonete</td>\n",
       "      <td>Elétrica</td>\n",
       "      <td>Diagonal</td>\n",
       "      <td>Alto</td>\n",
       "      <td>180</td>\n",
       "      <td>True</td>\n",
       "    </tr>\n",
       "    <tr>\n",
       "      <th>4</th>\n",
       "      <td>Coupé</td>\n",
       "      <td>Hidraulica</td>\n",
       "      <td>Radial</td>\n",
       "      <td>Médio</td>\n",
       "      <td>200</td>\n",
       "      <td>False</td>\n",
       "    </tr>\n",
       "  </tbody>\n",
       "</table>\n",
       "</div>"
      ],
      "text/plain": [
       "  Tipo de Carro Tipo de Direção Tipo de Pneus Faixa de Preço  Potência - CV  \\\n",
       "0         Sedan      Hidraulica        Radial           Alto            120   \n",
       "1           SUV        Elétrica      Diagonal          Médio            130   \n",
       "2      Hathback        Mecânica        Radial          Baixo            100   \n",
       "3   Caminhonete        Elétrica      Diagonal           Alto            180   \n",
       "4         Coupé      Hidraulica        Radial          Médio            200   \n",
       "\n",
       "   Velocidade de Cruzeiro  \n",
       "0                    True  \n",
       "1                   False  \n",
       "2                    True  \n",
       "3                    True  \n",
       "4                   False  "
      ]
     },
     "execution_count": 16,
     "metadata": {},
     "output_type": "execute_result"
    }
   ],
   "source": [
    "df_carros.head()"
   ]
  },
  {
   "cell_type": "code",
   "execution_count": 17,
   "metadata": {},
   "outputs": [],
   "source": [
    "a = df_carros['Tipo de Carro']"
   ]
  },
  {
   "cell_type": "code",
   "execution_count": 18,
   "metadata": {},
   "outputs": [
    {
     "data": {
      "text/plain": [
       "0          Sedan\n",
       "1            SUV\n",
       "2       Hathback\n",
       "3    Caminhonete\n",
       "4          Coupé\n",
       "Name: Tipo de Carro, dtype: object"
      ]
     },
     "execution_count": 18,
     "metadata": {},
     "output_type": "execute_result"
    }
   ],
   "source": [
    "a"
   ]
  },
  {
   "cell_type": "code",
   "execution_count": 9,
   "metadata": {},
   "outputs": [
    {
     "name": "stdout",
     "output_type": "stream",
     "text": [
      "Minimia: 100\n",
      "Máxima: 200\n",
      "Média: 146.0\n",
      "Mediana: 130.0\n"
     ]
    }
   ],
   "source": [
    "print(f\"Minimia: {df_carros['Potência - CV'].min()}\")\n",
    "print(f\"Máxima: { df_carros['Potência - CV'].max()}\")\n",
    "print(f\"Média: {df_carros['Potência - CV'].mean()}\")\n",
    "print(f\"Mediana: {df_carros['Potência - CV'].median()}\")"
   ]
  },
  {
   "cell_type": "code",
   "execution_count": 10,
   "metadata": {},
   "outputs": [
    {
     "data": {
      "text/html": [
       "<div>\n",
       "<style scoped>\n",
       "    .dataframe tbody tr th:only-of-type {\n",
       "        vertical-align: middle;\n",
       "    }\n",
       "\n",
       "    .dataframe tbody tr th {\n",
       "        vertical-align: top;\n",
       "    }\n",
       "\n",
       "    .dataframe thead th {\n",
       "        text-align: right;\n",
       "    }\n",
       "</style>\n",
       "<table border=\"1\" class=\"dataframe\">\n",
       "  <thead>\n",
       "    <tr style=\"text-align: right;\">\n",
       "      <th></th>\n",
       "      <th>Tipo de Carro</th>\n",
       "      <th>Tipo de Direção</th>\n",
       "      <th>Tipo de Pneus</th>\n",
       "      <th>Faixa de Preço</th>\n",
       "      <th>Potência - CV</th>\n",
       "      <th>Velocidade de Cruzeiro</th>\n",
       "    </tr>\n",
       "  </thead>\n",
       "  <tbody>\n",
       "    <tr>\n",
       "      <th>0</th>\n",
       "      <td>Sedan</td>\n",
       "      <td>Hidraulica</td>\n",
       "      <td>Radial</td>\n",
       "      <td>Alto</td>\n",
       "      <td>120</td>\n",
       "      <td>True</td>\n",
       "    </tr>\n",
       "  </tbody>\n",
       "</table>\n",
       "</div>"
      ],
      "text/plain": [
       "  Tipo de Carro Tipo de Direção Tipo de Pneus Faixa de Preço  Potência - CV  \\\n",
       "0         Sedan      Hidraulica        Radial           Alto            120   \n",
       "\n",
       "   Velocidade de Cruzeiro  \n",
       "0                    True  "
      ]
     },
     "execution_count": 10,
     "metadata": {},
     "output_type": "execute_result"
    }
   ],
   "source": [
    "def filtra_por_valor(df_carros, coluna, valor):\n",
    "    return df_carros[df_carros[coluna] == valor]\n",
    "\n",
    "filtra_por_valor(df_carros, 'Tipo de Carro', 'Sedan')"
   ]
  },
  {
   "cell_type": "code",
   "execution_count": 22,
   "metadata": {},
   "outputs": [
    {
     "name": "stdout",
     "output_type": "stream",
     "text": [
      "O carros são Caminhonete:\n",
      "0          Sedan\n",
      "1            SUV\n",
      "2       Hathback\n",
      "3    Caminhonete\n",
      "4          Coupé\n",
      "Name: Tipo de Carro, dtype: object\n",
      "\n",
      "O carros são SUV:\n",
      "0          Sedan\n",
      "1            SUV\n",
      "2       Hathback\n",
      "3    Caminhonete\n",
      "4          Coupé\n",
      "Name: Tipo de Carro, dtype: object\n",
      "\n",
      "O carros são Caminhonete:\n",
      "0          Sedan\n",
      "1            SUV\n",
      "2       Hathback\n",
      "3    Caminhonete\n",
      "4          Coupé\n",
      "Name: Tipo de Carro, dtype: object\n",
      "\n",
      "O carros são SUV:\n",
      "0          Sedan\n",
      "1            SUV\n",
      "2       Hathback\n",
      "3    Caminhonete\n",
      "4          Coupé\n",
      "Name: Tipo de Carro, dtype: object\n",
      "\n"
     ]
    }
   ],
   "source": [
    "nomes_desejados = ['Moacir', 'Mirtes']\n",
    "carros_desejados = ['Caminhonete', 'SUV']\n",
    "\n",
    "for nome in nomes_desejados:\n",
    "    for carro in carros_desejados:\n",
    "        dados = df_carros.loc[df_carros['Tipo de Carro'] == carro]\n",
    "        print(f\"O carros são {dados}:\\n{df_carros['Tipo de Carro']}\\n\")"
   ]
  }
 ],
 "metadata": {
  "kernelspec": {
   "display_name": "Python 3",
   "language": "python",
   "name": "python3"
  },
  "language_info": {
   "codemirror_mode": {
    "name": "ipython",
    "version": 3
   },
   "file_extension": ".py",
   "mimetype": "text/x-python",
   "name": "python",
   "nbconvert_exporter": "python",
   "pygments_lexer": "ipython3",
   "version": "3.11.4"
  },
  "orig_nbformat": 4
 },
 "nbformat": 4,
 "nbformat_minor": 2
}
