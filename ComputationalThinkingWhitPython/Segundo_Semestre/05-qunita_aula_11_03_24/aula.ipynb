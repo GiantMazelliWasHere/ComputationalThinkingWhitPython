{
 "cells": [
  {
   "cell_type": "markdown",
   "metadata": {},
   "source": [
    "### Intalação das bibliotecas usadas"
   ]
  },
  {
   "cell_type": "code",
   "execution_count": null,
   "metadata": {},
   "outputs": [],
   "source": [
    "pip install pandas"
   ]
  },
  {
   "cell_type": "code",
   "execution_count": null,
   "metadata": {},
   "outputs": [],
   "source": [
    "pip install numpy"
   ]
  },
  {
   "cell_type": "code",
   "execution_count": null,
   "metadata": {},
   "outputs": [],
   "source": [
    "pip install matplotlib"
   ]
  },
  {
   "cell_type": "markdown",
   "metadata": {},
   "source": [
    "### Importando as bibliotecas"
   ]
  },
  {
   "cell_type": "code",
   "execution_count": null,
   "metadata": {},
   "outputs": [],
   "source": [
    "import pandas as pd\n",
    "import numpy as np\n",
    "import matplotlib.pyplot as plt"
   ]
  },
  {
   "cell_type": "markdown",
   "metadata": {},
   "source": [
    "## Exercício 1"
   ]
  },
  {
   "cell_type": "code",
   "execution_count": null,
   "metadata": {},
   "outputs": [],
   "source": [
    "def calcular_media(lista):\n",
    "    return sum(lista)/len(lista)\n",
    "\n",
    "numeros = [10,20,30,40,50]\n",
    "media = calcular_media(numeros)\n",
    "print(\"A média dos números é:\", media)"
   ]
  },
  {
   "cell_type": "markdown",
   "metadata": {},
   "source": [
    "## Exercício 2"
   ]
  },
  {
   "cell_type": "code",
   "execution_count": null,
   "metadata": {},
   "outputs": [],
   "source": [
    "def maximo(lista):\n",
    "    return max(lista)\n",
    "\n",
    "numeros = [1,5,7]\n",
    "resultado = maximo(numeros)\n",
    "print(resultado)"
   ]
  },
  {
   "cell_type": "markdown",
   "metadata": {},
   "source": [
    "## Exercício 3"
   ]
  },
  {
   "cell_type": "code",
   "execution_count": null,
   "metadata": {},
   "outputs": [],
   "source": [
    "def pos_negs(lista):\n",
    "    positivos= [num for num in lista if num > 0]\n",
    "    negativos= [num for num in lista if num < 0]\n",
    "    return positivos,negativos\n",
    "\n",
    "numeros = [10,-20,30,40,50,-6,-7,-8]\n",
    "\n",
    "positivos, negativos = pos_negs(numeros)\n",
    "print(positivos)\n",
    "print(negativos)"
   ]
  },
  {
   "cell_type": "markdown",
   "metadata": {},
   "source": [
    "## Exercício 4"
   ]
  },
  {
   "cell_type": "code",
   "execution_count": null,
   "metadata": {},
   "outputs": [],
   "source": [
    "def soma_quadrados(lista):\n",
    "    quadrados=[]\n",
    "    for n in lista:\n",
    "        quadrados.append(n**2)\n",
    "\n",
    "    soma = sum(quadrados)\n",
    "    print(f\"Soma dos quadrados:{soma}\")\n",
    "\n",
    "numeros = [1,4,8,9,5,10]\n",
    "soma_quadrados(numeros)"
   ]
  },
  {
   "cell_type": "markdown",
   "metadata": {},
   "source": [
    "## Exercício 5"
   ]
  },
  {
   "cell_type": "code",
   "execution_count": null,
   "metadata": {},
   "outputs": [],
   "source": [
    "def num_rep(lista, elemento):\n",
    "    return lista.count(elemento)\n",
    "numeros = [1,2,3,4,5,1,2,3]\n",
    "elemento= 3\n",
    "ocorrencias = num_rep(numeros, elemento)"
   ]
  },
  {
   "cell_type": "markdown",
   "metadata": {},
   "source": [
    "## Exercício 6"
   ]
  },
  {
   "cell_type": "code",
   "execution_count": null,
   "metadata": {},
   "outputs": [],
   "source": [
    "def inverte_lista(lista):\n",
    "    return lista[::-1]\n",
    "\n",
    "numeros = [1,2,3,4,5]\n",
    "lista_invertida= inverte_lista(numeros)\n",
    "print(\"Lista invertida:\", lista_invertida)"
   ]
  },
  {
   "cell_type": "markdown",
   "metadata": {},
   "source": [
    "## Exercício 7"
   ]
  },
  {
   "cell_type": "code",
   "execution_count": null,
   "metadata": {},
   "outputs": [],
   "source": [
    "def esta_ordenada_crescente(lista):\n",
    "    return lista == sorted(lista)\n",
    "numeros = [1,2,3,4,5]\n",
    "esta_ordenada = esta_ordenada_crescente(numeros)\n",
    "print(\"A lista está ordenada de forma crescente?\",esta_ordenada)"
   ]
  },
  {
   "cell_type": "markdown",
   "metadata": {},
   "source": [
    "## Exercício 8"
   ]
  },
  {
   "cell_type": "code",
   "execution_count": null,
   "metadata": {},
   "outputs": [],
   "source": [
    "def remover_duplicados(lista):\n",
    "    return list(set(lista))\n",
    "numeros = [1,2,3,4,5,1,2,3]\n",
    "sem_duplicados = remover_duplicados(numeros)\n",
    "print(\"Lista sem elementos duplicados\", sem_duplicados)"
   ]
  },
  {
   "cell_type": "markdown",
   "metadata": {},
   "source": [
    "## Analise de Dados"
   ]
  },
  {
   "cell_type": "code",
   "execution_count": null,
   "metadata": {},
   "outputs": [],
   "source": [
    "dados = pd.read_csv(r'C:\\Users\\logonrmlocal\\Desktop\\arga/manutencao_preditiva.csv')\n",
    "dados"
   ]
  },
  {
   "cell_type": "code",
   "execution_count": null,
   "metadata": {},
   "outputs": [],
   "source": [
    "x = [['UDI']]\n",
    "y1= dados[['Temperatura Ar [K]']]\n",
    "y2 = dados[['Temperatura Processo [K]']]"
   ]
  },
  {
   "cell_type": "code",
   "execution_count": null,
   "metadata": {},
   "outputs": [],
   "source": [
    "dados_filtrado = dados.head(5)\n",
    "\n",
    "torque = dados[['Torque [Nm]']]\n",
    "rotacao = dados[['Velocidade Rotacao [rpm]']]"
   ]
  },
  {
   "cell_type": "code",
   "execution_count": null,
   "metadata": {},
   "outputs": [],
   "source": [
    "dados_novo = dados_filtrado[['Torque [Nm]', 'Velocidade Rotacao [rpm]']].values\n",
    "dados_novo"
   ]
  },
  {
   "cell_type": "code",
   "execution_count": null,
   "metadata": {},
   "outputs": [],
   "source": [
    "soma = np.sum(dados_novo)\n",
    "soma"
   ]
  },
  {
   "cell_type": "code",
   "execution_count": null,
   "metadata": {},
   "outputs": [],
   "source": [
    "valores_minimos_por_linhas = np.min(dados_novo, axis = 1)\n",
    "\n",
    "print(f\"Valores minimos em cada linha da mariz: {valores_minimos_por_linhas} \")"
   ]
  },
  {
   "cell_type": "code",
   "execution_count": null,
   "metadata": {},
   "outputs": [],
   "source": [
    "matriz_transposta = np.transpose(dados_novo)\n",
    "matriz_transposta"
   ]
  },
  {
   "cell_type": "markdown",
   "metadata": {},
   "source": [
    "## Exercício 1"
   ]
  },
  {
   "cell_type": "code",
   "execution_count": null,
   "metadata": {},
   "outputs": [],
   "source": [
    "dados1 = dados[['Torque [Nm]','Velocidade Rotacao [rpm]']]\n",
    "dados2 = dados[['Temperatura Processo [K]','Velocidade Rotacao [rpm]']]"
   ]
  },
  {
   "cell_type": "markdown",
   "metadata": {},
   "source": [
    "## Exercício 2"
   ]
  },
  {
   "cell_type": "code",
   "execution_count": null,
   "metadata": {},
   "outputs": [],
   "source": [
    "dados_filtrado1 = dados1.head(10).values\n",
    "dados_filtrados2 = dados2.iloc[15:26]\n",
    "dados_filtrados2"
   ]
  },
  {
   "cell_type": "markdown",
   "metadata": {},
   "source": [
    "## Exercício 3"
   ]
  },
  {
   "cell_type": "code",
   "execution_count": null,
   "metadata": {},
   "outputs": [],
   "source": [
    "matrix1 = dados1.head(10)\n",
    "matrix2 = dados2.iloc[15:26].values"
   ]
  },
  {
   "cell_type": "markdown",
   "metadata": {},
   "source": [
    "## Exercício 4"
   ]
  },
  {
   "cell_type": "code",
   "execution_count": null,
   "metadata": {},
   "outputs": [],
   "source": [
    "soma1 = np.sum(matrix1)\n",
    "soma2 = np.sum(matrix2)"
   ]
  },
  {
   "cell_type": "markdown",
   "metadata": {},
   "source": [
    "## Exercício 5"
   ]
  },
  {
   "cell_type": "code",
   "execution_count": null,
   "metadata": {},
   "outputs": [],
   "source": [
    "min1 = np.min(dados1, axis=0)\n",
    "max1 = np.max(dados1, axis=0)\n",
    "min2 = np.min(dados2, axis=0)\n",
    "max2 = np.max(dados2, axis=0)"
   ]
  },
  {
   "cell_type": "markdown",
   "metadata": {},
   "source": [
    "## Exercício 6"
   ]
  },
  {
   "cell_type": "code",
   "execution_count": null,
   "metadata": {},
   "outputs": [],
   "source": [
    "med1 = np.mean(dados1, axis=0)\n",
    "med2 = np.mean(dados2, axis=0)"
   ]
  },
  {
   "cell_type": "markdown",
   "metadata": {},
   "source": [
    "## Exercício 7"
   ]
  },
  {
   "cell_type": "code",
   "execution_count": null,
   "metadata": {},
   "outputs": [],
   "source": [
    "transposta1 = np.transpose(dados1)\n",
    "transposta2 = np.transpose(dados2)"
   ]
  },
  {
   "cell_type": "markdown",
   "metadata": {},
   "source": [
    "## Exercício 8"
   ]
  },
  {
   "cell_type": "code",
   "execution_count": null,
   "metadata": {},
   "outputs": [],
   "source": [
    "med1_transposta = np.mean(transposta1, axis=1)\n",
    "med2_transposta = np.mean(transposta2, axis=1)"
   ]
  }
 ],
 "metadata": {
  "kernelspec": {
   "display_name": "Python 3",
   "language": "python",
   "name": "python3"
  },
  "language_info": {
   "name": "python",
   "version": "3.12.2"
  }
 },
 "nbformat": 4,
 "nbformat_minor": 2
}
