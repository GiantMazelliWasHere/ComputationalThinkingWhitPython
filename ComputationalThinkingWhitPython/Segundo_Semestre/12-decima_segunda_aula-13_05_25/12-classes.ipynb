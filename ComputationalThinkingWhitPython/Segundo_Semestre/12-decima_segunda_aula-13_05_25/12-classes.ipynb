{
 "cells": [
  {
   "attachments": {},
   "cell_type": "markdown",
   "metadata": {},
   "source": [
    "# Classes"
   ]
  },
  {
   "cell_type": "code",
   "execution_count": 1,
   "metadata": {},
   "outputs": [],
   "source": [
    "class Myclass:\n",
    "    Myvar = 0"
   ]
  },
  {
   "cell_type": "code",
   "execution_count": 4,
   "metadata": {},
   "outputs": [],
   "source": [
    "MyInstance = Myclass()"
   ]
  },
  {
   "cell_type": "code",
   "execution_count": 5,
   "metadata": {},
   "outputs": [
    {
     "data": {
      "text/plain": [
       "__main__.Myclass"
      ]
     },
     "execution_count": 5,
     "metadata": {},
     "output_type": "execute_result"
    }
   ],
   "source": [
    "MyInstance.__class__"
   ]
  },
  {
   "cell_type": "code",
   "execution_count": 9,
   "metadata": {},
   "outputs": [],
   "source": [
    "class MyClass:\n",
    "    def SayHello():\n",
    "        print('Hello World!')"
   ]
  },
  {
   "cell_type": "code",
   "execution_count": 10,
   "metadata": {},
   "outputs": [
    {
     "name": "stdout",
     "output_type": "stream",
     "text": [
      "Hello World!\n"
     ]
    }
   ],
   "source": [
    "MyInstance = MyClass()\n",
    "MyClass.SayHello()"
   ]
  },
  {
   "cell_type": "code",
   "execution_count": 13,
   "metadata": {},
   "outputs": [],
   "source": [
    "class MyClass:\n",
    "    Greetings = ''\n",
    "\n",
    "    def __init__(self, name='there'):\n",
    "        self.Greetings = name + \"!\"\n",
    "\n",
    "    def SayHello(self):\n",
    "        print('Hello {0}'.format(self.Greetings))"
   ]
  },
  {
   "cell_type": "code",
   "execution_count": 14,
   "metadata": {},
   "outputs": [
    {
     "name": "stdout",
     "output_type": "stream",
     "text": [
      "Hello there!\n"
     ]
    }
   ],
   "source": [
    "MyInstance = MyClass()\n",
    "MyInstance.SayHello()"
   ]
  },
  {
   "cell_type": "code",
   "execution_count": 15,
   "metadata": {},
   "outputs": [
    {
     "name": "stdout",
     "output_type": "stream",
     "text": [
      "Hello Anna!\n"
     ]
    }
   ],
   "source": [
    "MyInstance2 = MyClass(\"Anna\")\n",
    "MyInstance2.SayHello()"
   ]
  },
  {
   "attachments": {},
   "cell_type": "markdown",
   "metadata": {},
   "source": [
    "# Exemplos"
   ]
  },
  {
   "attachments": {},
   "cell_type": "markdown",
   "metadata": {},
   "source": [
    "## Estrutura classe cachorro\n",
    "\n",
    "nome e idade // sentar e rolar"
   ]
  },
  {
   "cell_type": "code",
   "execution_count": 16,
   "metadata": {},
   "outputs": [],
   "source": [
    "class Dog:\n",
    "\n",
    "    def __init__(self, nome, idade):\n",
    "        self.nome = nome\n",
    "        self.idade = idade\n",
    "    \n",
    "    def sentar(self):\n",
    "        \"\"\"Simula um cachorro sentando\"\"\"\n",
    "        print(f\"{self.nome} está sentado\")\n",
    "\n",
    "    def rolar(self):\n",
    "        print(f\"{self.nome} rolou\")"
   ]
  },
  {
   "cell_type": "code",
   "execution_count": 21,
   "metadata": {},
   "outputs": [
    {
     "name": "stdout",
     "output_type": "stream",
     "text": [
      "Cachorro 1\n",
      "\n",
      "O nome do cachorro é Luffy\n",
      "A idade do cachorro é 4\n",
      "Luffy está sentado\n",
      "Luffy rolou\n",
      "\n",
      "Cachorro 2\n",
      "\n",
      "O nome do cachorro é Zoro\n",
      "A idade do cachorro é 3\n",
      "Zoro está sentado\n",
      "Zoro rolou\n"
     ]
    }
   ],
   "source": [
    "cachorro1 = Dog('Luffy', 4)\n",
    "cachorro2 = Dog('Zoro', 3)\n",
    "\n",
    "print('Cachorro 1\\n')\n",
    "print(f\"O nome do cachorro é {cachorro1.nome}\")\n",
    "print(f\"A idade do cachorro é {cachorro1.idade}\")\n",
    "cachorro1.sentar()\n",
    "cachorro1.rolar()\n",
    "\n",
    "print('\\nCachorro 2\\n')\n",
    "print(f\"O nome do cachorro é {cachorro2.nome}\")\n",
    "print(f\"A idade do cachorro é {cachorro2.idade}\")\n",
    "cachorro2.sentar()\n",
    "cachorro2.rolar()"
   ]
  },
  {
   "cell_type": "code",
   "execution_count": 41,
   "metadata": {},
   "outputs": [],
   "source": [
    "class Conta:\n",
    "    def __init__(self, quantia):\n",
    "        self.saldo = quantia\n",
    "\n",
    "    def deposito(self, quantia):\n",
    "        self.saldo = self.saldo + quantia\n",
    "        return self.saldo\n",
    "\n",
    "    def levantamento(self, quantia):\n",
    "        if self.saldo - quantia > 0:\n",
    "            self.saldo = self.saldo - quantia\n",
    "            return self.saldo\n",
    "        else:\n",
    "            print(\"Saldo insuficiente\")\n",
    "\n",
    "    def consulta(self):\n",
    "        return self.saldo"
   ]
  },
  {
   "cell_type": "code",
   "execution_count": 45,
   "metadata": {},
   "outputs": [
    {
     "name": "stdout",
     "output_type": "stream",
     "text": [
      "saldo inicial:  100\n",
      "saldo após depósito:  150\n",
      "saldo após levantamento:  120\n",
      "Saldo insuficiente\n"
     ]
    }
   ],
   "source": [
    "# Teste para conta 1\n",
    "\n",
    "conta1 = Conta(100)\n",
    "print('saldo inicial: ', conta1.consulta())\n",
    "\n",
    "conta1.deposito(50)\n",
    "print('saldo após depósito: ', conta1.consulta())\n",
    "\n",
    "conta1.levantamento(30)\n",
    "print('saldo após levantamento: ', conta1.consulta())\n",
    "\n",
    "conta1.levantamento(200)"
   ]
  },
  {
   "cell_type": "code",
   "execution_count": 46,
   "metadata": {},
   "outputs": [
    {
     "name": "stdout",
     "output_type": "stream",
     "text": [
      "saldo inicial:  200\n",
      "saldo após depósito:  220\n",
      "saldo após levantamento:  180\n",
      "Saldo insuficiente\n"
     ]
    }
   ],
   "source": [
    "# Teste para conta 2\n",
    "\n",
    "conta2 = Conta(200)\n",
    "print('saldo inicial: ', conta2.consulta())\n",
    "\n",
    "conta2.deposito(20)\n",
    "print('saldo após depósito: ', conta2.consulta())\n",
    "\n",
    "conta2.levantamento(40)\n",
    "print('saldo após levantamento: ', conta2.consulta())\n",
    "\n",
    "conta2.levantamento(200)"
   ]
  },
  {
   "attachments": {},
   "cell_type": "markdown",
   "metadata": {},
   "source": [
    "# Exercicio 1"
   ]
  },
  {
   "cell_type": "code",
   "execution_count": 47,
   "metadata": {},
   "outputs": [],
   "source": [
    "class Restaurante:\n",
    "    def __init__(self, restaurante_nome,cozinha_tipo):\n",
    "        self.nome = restaurante_nome\n",
    "        self.tipo = cozinha_tipo\n",
    "    \n",
    "    def descrever_restaurante(self):\n",
    "        print(f\"O restaurante {self.nome} é especializado em cozinha {self.tipo}\")\n",
    "\n",
    "    def open_restaurante(self):\n",
    "        print(f\"O restaurante {self.nome} está aberto\")"
   ]
  },
  {
   "cell_type": "code",
   "execution_count": 48,
   "metadata": {},
   "outputs": [
    {
     "name": "stdout",
     "output_type": "stream",
     "text": [
      "Over the Wall\n",
      "Mexicana\n",
      "O restaurante Over the Wall é especializado em cozinha Mexicana\n",
      "O restaurante Over the Wall está aberto\n"
     ]
    }
   ],
   "source": [
    "# Instancia 1\n",
    "wall = Restaurante('Over the Wall', 'Mexicana')\n",
    "\n",
    "# Nome\n",
    "print(wall.nome)\n",
    "\n",
    "# tipo\n",
    "print(wall.tipo)\n",
    "\n",
    "# modulo de descrição\n",
    "wall.descrever_restaurante()\n",
    "\n",
    "# modulo de indicar que o restaurante está aberto\n",
    "wall.open_restaurante()"
   ]
  },
  {
   "cell_type": "code",
   "execution_count": 50,
   "metadata": {},
   "outputs": [
    {
     "name": "stdout",
     "output_type": "stream",
     "text": [
      "Nome: Bala achada\n",
      "Tipo: Carioca\n",
      "O restaurante Bala achada é especializado em cozinha Carioca\n",
      "O restaurante Bala achada está aberto\n"
     ]
    }
   ],
   "source": [
    "# Instancia 2\n",
    "rj = Restaurante('Bala achada', 'Carioca')\n",
    "\n",
    "# Nome\n",
    "print(\"Nome:\",rj.nome)\n",
    "\n",
    "# tipo\n",
    "print(\"Tipo:\", rj.tipo)\n",
    "\n",
    "# modulo de descrição\n",
    "rj.descrever_restaurante()\n",
    "\n",
    "# modulo de indicar que o restaurante está aberto\n",
    "rj.open_restaurante()"
   ]
  },
  {
   "cell_type": "code",
   "execution_count": 51,
   "metadata": {},
   "outputs": [
    {
     "name": "stdout",
     "output_type": "stream",
     "text": [
      "Collecting pandas\n",
      "  Downloading pandas-2.2.2-cp311-cp311-win_amd64.whl (11.6 MB)\n",
      "                                              0.0/11.6 MB ? eta -:--:--\n",
      "                                              0.3/11.6 MB 5.9 MB/s eta 0:00:02\n",
      "     -----                                    1.6/11.6 MB 20.7 MB/s eta 0:00:01\n",
      "     -----                                    1.6/11.6 MB 20.7 MB/s eta 0:00:01\n",
      "     -----                                    1.6/11.6 MB 20.7 MB/s eta 0:00:01\n",
      "     -----                                    1.6/11.6 MB 20.7 MB/s eta 0:00:01\n",
      "     -----                                    1.6/11.6 MB 20.7 MB/s eta 0:00:01\n",
      "     -----                                    1.7/11.6 MB 5.4 MB/s eta 0:00:02\n",
      "     --------                                 2.5/11.6 MB 6.7 MB/s eta 0:00:02\n",
      "     ----------                               3.2/11.6 MB 7.5 MB/s eta 0:00:02\n",
      "     -----------                              3.5/11.6 MB 7.9 MB/s eta 0:00:02\n",
      "     -----------                              3.5/11.6 MB 7.9 MB/s eta 0:00:02\n",
      "     -----------                              3.5/11.6 MB 7.9 MB/s eta 0:00:02\n",
      "     -----------                              3.5/11.6 MB 7.9 MB/s eta 0:00:02\n",
      "     -----------                              3.5/11.6 MB 7.9 MB/s eta 0:00:02\n",
      "     -----------                              3.5/11.6 MB 7.9 MB/s eta 0:00:02\n",
      "     -----------                              3.5/11.6 MB 7.9 MB/s eta 0:00:02\n",
      "     -----------                              3.5/11.6 MB 7.9 MB/s eta 0:00:02\n",
      "     -----------                              3.5/11.6 MB 7.9 MB/s eta 0:00:02\n",
      "     -----------                              3.5/11.6 MB 7.9 MB/s eta 0:00:02\n",
      "     -----------                              3.5/11.6 MB 7.9 MB/s eta 0:00:02\n",
      "     -----------                              3.5/11.6 MB 7.9 MB/s eta 0:00:02\n",
      "     -----------                              3.5/11.6 MB 7.9 MB/s eta 0:00:02\n",
      "     -----------                              3.5/11.6 MB 7.9 MB/s eta 0:00:02\n",
      "     ------------                             3.5/11.6 MB 3.2 MB/s eta 0:00:03\n",
      "     -------------                            4.0/11.6 MB 3.4 MB/s eta 0:00:03\n",
      "     --------------                           4.3/11.6 MB 3.6 MB/s eta 0:00:03\n",
      "     ---------------                          4.6/11.6 MB 3.7 MB/s eta 0:00:02\n",
      "     ----------------                         4.9/11.6 MB 3.8 MB/s eta 0:00:02\n",
      "     ------------------                       5.3/11.6 MB 4.0 MB/s eta 0:00:02\n",
      "     ------------------                       5.3/11.6 MB 4.0 MB/s eta 0:00:02\n",
      "     ------------------                       5.3/11.6 MB 4.0 MB/s eta 0:00:02\n",
      "     ------------------                       5.3/11.6 MB 4.0 MB/s eta 0:00:02\n",
      "     ------------------                       5.3/11.6 MB 4.0 MB/s eta 0:00:02\n",
      "     ------------------                       5.3/11.6 MB 4.0 MB/s eta 0:00:02\n",
      "     ------------------                       5.3/11.6 MB 4.0 MB/s eta 0:00:02\n",
      "     ------------------                       5.3/11.6 MB 4.0 MB/s eta 0:00:02\n",
      "     ------------------                       5.3/11.6 MB 4.0 MB/s eta 0:00:02\n",
      "     ------------------                       5.3/11.6 MB 4.0 MB/s eta 0:00:02\n",
      "     ------------------                       5.3/11.6 MB 4.0 MB/s eta 0:00:02\n",
      "     ------------------                       5.3/11.6 MB 4.0 MB/s eta 0:00:02\n",
      "     ------------------                       5.3/11.6 MB 4.0 MB/s eta 0:00:02\n",
      "     ------------------                       5.3/11.6 MB 4.0 MB/s eta 0:00:02\n",
      "     ------------------                       5.5/11.6 MB 2.7 MB/s eta 0:00:03\n",
      "     -------------------                      5.7/11.6 MB 2.8 MB/s eta 0:00:03\n",
      "     --------------------                     5.9/11.6 MB 2.8 MB/s eta 0:00:03\n",
      "     ---------------------                    6.3/11.6 MB 2.9 MB/s eta 0:00:02\n",
      "     ----------------------                   6.6/11.6 MB 3.0 MB/s eta 0:00:02\n",
      "     -----------------------                  7.0/11.6 MB 3.1 MB/s eta 0:00:02\n",
      "     ------------------------                 7.2/11.6 MB 3.2 MB/s eta 0:00:02\n",
      "     ------------------------                 7.2/11.6 MB 3.2 MB/s eta 0:00:02\n",
      "     ------------------------                 7.2/11.6 MB 3.2 MB/s eta 0:00:02\n",
      "     ------------------------                 7.2/11.6 MB 3.2 MB/s eta 0:00:02\n",
      "     ------------------------                 7.2/11.6 MB 3.2 MB/s eta 0:00:02\n",
      "     ------------------------                 7.2/11.6 MB 2.9 MB/s eta 0:00:02\n",
      "     -------------------------                7.5/11.6 MB 2.9 MB/s eta 0:00:02\n",
      "     ---------------------------              7.9/11.6 MB 3.0 MB/s eta 0:00:02\n",
      "     ----------------------------             8.2/11.6 MB 3.1 MB/s eta 0:00:02\n",
      "     ------------------------------           8.7/11.6 MB 3.2 MB/s eta 0:00:01\n",
      "     -------------------------------          9.0/11.6 MB 3.3 MB/s eta 0:00:01\n",
      "     -------------------------------          9.0/11.6 MB 3.3 MB/s eta 0:00:01\n",
      "     -------------------------------          9.0/11.6 MB 3.3 MB/s eta 0:00:01\n",
      "     -------------------------------          9.0/11.6 MB 3.3 MB/s eta 0:00:01\n",
      "     -------------------------------          9.0/11.6 MB 3.3 MB/s eta 0:00:01\n",
      "     -------------------------------          9.0/11.6 MB 3.3 MB/s eta 0:00:01\n",
      "     -------------------------------          9.0/11.6 MB 3.3 MB/s eta 0:00:01\n",
      "     -------------------------------          9.0/11.6 MB 3.3 MB/s eta 0:00:01\n",
      "     -------------------------------          9.0/11.6 MB 3.3 MB/s eta 0:00:01\n",
      "     -------------------------------          9.0/11.6 MB 3.3 MB/s eta 0:00:01\n",
      "     -------------------------------          9.0/11.6 MB 3.3 MB/s eta 0:00:01\n",
      "     -------------------------------          9.0/11.6 MB 3.3 MB/s eta 0:00:01\n",
      "     -------------------------------          9.0/11.6 MB 3.3 MB/s eta 0:00:01\n",
      "     -------------------------------          9.0/11.6 MB 3.3 MB/s eta 0:00:01\n",
      "     -------------------------------          9.0/11.6 MB 3.3 MB/s eta 0:00:01\n",
      "     -------------------------------          9.2/11.6 MB 2.6 MB/s eta 0:00:01\n",
      "     --------------------------------         9.5/11.6 MB 2.7 MB/s eta 0:00:01\n",
      "     ----------------------------------       10.1/11.6 MB 2.8 MB/s eta 0:00:01\n",
      "     -------------------------------------    10.9/11.6 MB 2.9 MB/s eta 0:00:01\n",
      "     -------------------------------------    10.9/11.6 MB 2.9 MB/s eta 0:00:01\n",
      "     -------------------------------------    10.9/11.6 MB 2.9 MB/s eta 0:00:01\n",
      "     -------------------------------------    10.9/11.6 MB 2.9 MB/s eta 0:00:01\n",
      "     -------------------------------------    10.9/11.6 MB 2.9 MB/s eta 0:00:01\n",
      "     -------------------------------------    10.9/11.6 MB 2.9 MB/s eta 0:00:01\n",
      "     -------------------------------------    10.9/11.6 MB 2.9 MB/s eta 0:00:01\n",
      "     -------------------------------------    10.9/11.6 MB 2.9 MB/s eta 0:00:01\n",
      "     -------------------------------------    10.9/11.6 MB 2.9 MB/s eta 0:00:01\n",
      "     -------------------------------------    10.9/11.6 MB 2.9 MB/s eta 0:00:01\n",
      "     -------------------------------------    10.9/11.6 MB 2.9 MB/s eta 0:00:01\n",
      "     -------------------------------------    10.9/11.6 MB 2.9 MB/s eta 0:00:01\n",
      "     -------------------------------------    10.9/11.6 MB 2.9 MB/s eta 0:00:01\n",
      "     -------------------------------------    10.9/11.6 MB 2.9 MB/s eta 0:00:01\n",
      "     -------------------------------------    10.9/11.6 MB 2.4 MB/s eta 0:00:01\n",
      "     -------------------------------------    11.0/11.6 MB 2.4 MB/s eta 0:00:01\n",
      "     ---------------------------------------  11.6/11.6 MB 2.4 MB/s eta 0:00:01\n",
      "     ---------------------------------------  11.6/11.6 MB 2.4 MB/s eta 0:00:01\n",
      "     ---------------------------------------  11.6/11.6 MB 2.4 MB/s eta 0:00:01\n",
      "     ---------------------------------------- 11.6/11.6 MB 2.3 MB/s eta 0:00:00\n",
      "Collecting numpy>=1.23.2 (from pandas)\n",
      "  Downloading numpy-1.26.4-cp311-cp311-win_amd64.whl (15.8 MB)\n",
      "                                              0.0/15.8 MB ? eta -:--:--\n",
      "     -                                        0.7/15.8 MB 14.9 MB/s eta 0:00:02\n",
      "     ---                                      1.3/15.8 MB 13.8 MB/s eta 0:00:02\n",
      "     ---                                      1.5/15.8 MB 14.1 MB/s eta 0:00:02\n",
      "     ---                                      1.5/15.8 MB 14.1 MB/s eta 0:00:02\n",
      "     ---                                      1.5/15.8 MB 14.1 MB/s eta 0:00:02\n",
      "     ---                                      1.5/15.8 MB 14.1 MB/s eta 0:00:02\n",
      "     ---                                      1.5/15.8 MB 14.1 MB/s eta 0:00:02\n",
      "     ---                                      1.6/15.8 MB 4.5 MB/s eta 0:00:04\n",
      "     ---                                      1.6/15.8 MB 4.5 MB/s eta 0:00:04\n",
      "     ----                                     1.7/15.8 MB 3.6 MB/s eta 0:00:04\n",
      "     -----                                    2.1/15.8 MB 4.0 MB/s eta 0:00:04\n",
      "     ------                                   2.5/15.8 MB 4.4 MB/s eta 0:00:04\n",
      "     -------                                  2.9/15.8 MB 4.7 MB/s eta 0:00:03\n",
      "     --------                                 3.3/15.8 MB 5.0 MB/s eta 0:00:03\n",
      "     --------                                 3.4/15.8 MB 4.9 MB/s eta 0:00:03\n",
      "     --------                                 3.4/15.8 MB 4.9 MB/s eta 0:00:03\n",
      "     --------                                 3.4/15.8 MB 4.9 MB/s eta 0:00:03\n",
      "     --------                                 3.4/15.8 MB 4.9 MB/s eta 0:00:03\n",
      "     --------                                 3.4/15.8 MB 4.9 MB/s eta 0:00:03\n",
      "     --------                                 3.5/15.8 MB 3.7 MB/s eta 0:00:04\n",
      "     ---------                                3.6/15.8 MB 3.7 MB/s eta 0:00:04\n",
      "     ---------                                3.7/15.8 MB 3.6 MB/s eta 0:00:04\n",
      "     ---------                                3.9/15.8 MB 3.6 MB/s eta 0:00:04\n",
      "     ----------                               4.1/15.8 MB 3.6 MB/s eta 0:00:04\n",
      "     ----------                               4.3/15.8 MB 3.6 MB/s eta 0:00:04\n",
      "     -----------                              4.6/15.8 MB 3.7 MB/s eta 0:00:04\n",
      "     ------------                             4.9/15.8 MB 3.8 MB/s eta 0:00:03\n",
      "     -------------                            5.2/15.8 MB 4.0 MB/s eta 0:00:03\n",
      "     -------------                            5.2/15.8 MB 4.0 MB/s eta 0:00:03\n",
      "     -------------                            5.2/15.8 MB 4.0 MB/s eta 0:00:03\n",
      "     -------------                            5.2/15.8 MB 4.0 MB/s eta 0:00:03\n",
      "     -------------                            5.2/15.8 MB 4.0 MB/s eta 0:00:03\n",
      "     -------------                            5.2/15.8 MB 4.0 MB/s eta 0:00:03\n",
      "     -------------                            5.5/15.8 MB 3.4 MB/s eta 0:00:04\n",
      "     --------------                           5.8/15.8 MB 3.5 MB/s eta 0:00:03\n",
      "     ---------------                          6.1/15.8 MB 3.6 MB/s eta 0:00:03\n",
      "     ----------------                         6.4/15.8 MB 3.7 MB/s eta 0:00:03\n",
      "     -----------------                        6.7/15.8 MB 3.7 MB/s eta 0:00:03\n",
      "     -----------------                        7.1/15.8 MB 3.9 MB/s eta 0:00:03\n",
      "     -----------------                        7.1/15.8 MB 3.9 MB/s eta 0:00:03\n",
      "     -----------------                        7.1/15.8 MB 3.9 MB/s eta 0:00:03\n",
      "     -----------------                        7.1/15.8 MB 3.9 MB/s eta 0:00:03\n",
      "     -----------------                        7.1/15.8 MB 3.9 MB/s eta 0:00:03\n",
      "     -----------------                        7.1/15.8 MB 3.4 MB/s eta 0:00:03\n",
      "     -----------------                        7.1/15.8 MB 3.4 MB/s eta 0:00:03\n",
      "     -----------------                        7.1/15.8 MB 3.3 MB/s eta 0:00:03\n",
      "     ------------------                       7.3/15.8 MB 3.3 MB/s eta 0:00:03\n",
      "     -------------------                      7.5/15.8 MB 3.3 MB/s eta 0:00:03\n",
      "     -------------------                      7.8/15.8 MB 3.4 MB/s eta 0:00:03\n",
      "     --------------------                     8.2/15.8 MB 3.5 MB/s eta 0:00:03\n",
      "     ---------------------                    8.5/15.8 MB 3.5 MB/s eta 0:00:03\n",
      "     ----------------------                   8.9/15.8 MB 3.6 MB/s eta 0:00:02\n",
      "     ----------------------                   8.9/15.8 MB 3.6 MB/s eta 0:00:02\n",
      "     ----------------------                   8.9/15.8 MB 3.6 MB/s eta 0:00:02\n",
      "     ----------------------                   8.9/15.8 MB 3.6 MB/s eta 0:00:02\n",
      "     ----------------------                   8.9/15.8 MB 3.6 MB/s eta 0:00:02\n",
      "     ----------------------                   8.9/15.8 MB 3.3 MB/s eta 0:00:03\n",
      "     -----------------------                  9.2/15.8 MB 3.3 MB/s eta 0:00:02\n",
      "     ------------------------                 9.6/15.8 MB 3.4 MB/s eta 0:00:02\n",
      "     -------------------------                10.1/15.8 MB 3.6 MB/s eta 0:00:02\n",
      "     --------------------------               10.6/15.8 MB 3.6 MB/s eta 0:00:02\n",
      "     ---------------------------              10.7/15.8 MB 3.6 MB/s eta 0:00:02\n",
      "     ---------------------------              10.7/15.8 MB 3.6 MB/s eta 0:00:02\n",
      "     ---------------------------              10.7/15.8 MB 3.6 MB/s eta 0:00:02\n",
      "     ---------------------------              10.7/15.8 MB 3.6 MB/s eta 0:00:02\n",
      "     ---------------------------              10.7/15.8 MB 3.6 MB/s eta 0:00:02\n",
      "     ---------------------------              10.7/15.8 MB 3.6 MB/s eta 0:00:02\n",
      "     ---------------------------              10.7/15.8 MB 3.6 MB/s eta 0:00:02\n",
      "     ---------------------------              10.7/15.8 MB 3.6 MB/s eta 0:00:02\n",
      "     ---------------------------              10.7/15.8 MB 3.6 MB/s eta 0:00:02\n",
      "     ---------------------------              10.7/15.8 MB 3.6 MB/s eta 0:00:02\n",
      "     ---------------------------              10.7/15.8 MB 3.6 MB/s eta 0:00:02\n",
      "     ---------------------------              10.7/15.8 MB 3.6 MB/s eta 0:00:02\n",
      "     ---------------------------              10.7/15.8 MB 3.6 MB/s eta 0:00:02\n",
      "     ---------------------------              10.7/15.8 MB 3.6 MB/s eta 0:00:02\n",
      "     ---------------------------              11.0/15.8 MB 2.9 MB/s eta 0:00:02\n",
      "     ----------------------------             11.3/15.8 MB 2.9 MB/s eta 0:00:02\n",
      "     -----------------------------            11.6/15.8 MB 2.9 MB/s eta 0:00:02\n",
      "     ------------------------------           12.0/15.8 MB 3.1 MB/s eta 0:00:02\n",
      "     -------------------------------          12.5/15.8 MB 3.2 MB/s eta 0:00:02\n",
      "     -------------------------------          12.6/15.8 MB 3.2 MB/s eta 0:00:02\n",
      "     -------------------------------          12.6/15.8 MB 3.2 MB/s eta 0:00:02\n",
      "     -------------------------------          12.6/15.8 MB 3.2 MB/s eta 0:00:02\n",
      "     -------------------------------          12.6/15.8 MB 3.2 MB/s eta 0:00:02\n",
      "     -------------------------------          12.6/15.8 MB 3.2 MB/s eta 0:00:02\n",
      "     -------------------------------          12.6/15.8 MB 3.2 MB/s eta 0:00:02\n",
      "     -------------------------------          12.6/15.8 MB 3.2 MB/s eta 0:00:02\n",
      "     -------------------------------          12.6/15.8 MB 3.2 MB/s eta 0:00:02\n",
      "     -------------------------------          12.6/15.8 MB 3.2 MB/s eta 0:00:02\n",
      "     -------------------------------          12.6/15.8 MB 3.2 MB/s eta 0:00:02\n",
      "     -------------------------------          12.6/15.8 MB 3.2 MB/s eta 0:00:02\n",
      "     -------------------------------          12.6/15.8 MB 3.2 MB/s eta 0:00:02\n",
      "     -------------------------------          12.6/15.8 MB 3.2 MB/s eta 0:00:02\n",
      "     -------------------------------          12.6/15.8 MB 3.2 MB/s eta 0:00:02\n",
      "     -------------------------------          12.6/15.8 MB 2.6 MB/s eta 0:00:02\n",
      "     -------------------------------          12.6/15.8 MB 2.6 MB/s eta 0:00:02\n",
      "     --------------------------------         12.8/15.8 MB 2.6 MB/s eta 0:00:02\n",
      "     ---------------------------------        13.2/15.8 MB 2.6 MB/s eta 0:00:02\n",
      "     ----------------------------------       13.5/15.8 MB 2.6 MB/s eta 0:00:01\n",
      "     ----------------------------------       13.8/15.8 MB 2.7 MB/s eta 0:00:01\n",
      "     -----------------------------------      14.1/15.8 MB 2.8 MB/s eta 0:00:01\n",
      "     ------------------------------------     14.4/15.8 MB 2.8 MB/s eta 0:00:01\n",
      "     -------------------------------------    14.8/15.8 MB 2.8 MB/s eta 0:00:01\n",
      "     --------------------------------------   15.0/15.8 MB 2.8 MB/s eta 0:00:01\n",
      "     --------------------------------------   15.2/15.8 MB 2.8 MB/s eta 0:00:01\n",
      "     --------------------------------------   15.2/15.8 MB 2.8 MB/s eta 0:00:01\n",
      "     --------------------------------------   15.2/15.8 MB 2.8 MB/s eta 0:00:01\n",
      "     --------------------------------------   15.2/15.8 MB 2.8 MB/s eta 0:00:01\n",
      "     --------------------------------------   15.2/15.8 MB 2.8 MB/s eta 0:00:01\n",
      "     --------------------------------------   15.4/15.8 MB 2.6 MB/s eta 0:00:01\n",
      "     ---------------------------------------  15.7/15.8 MB 2.8 MB/s eta 0:00:01\n",
      "     ---------------------------------------  15.8/15.8 MB 2.8 MB/s eta 0:00:01\n",
      "     ---------------------------------------  15.8/15.8 MB 2.8 MB/s eta 0:00:01\n",
      "     ---------------------------------------  15.8/15.8 MB 2.8 MB/s eta 0:00:01\n",
      "     ---------------------------------------- 15.8/15.8 MB 2.7 MB/s eta 0:00:00\n",
      "Requirement already satisfied: python-dateutil>=2.8.2 in c:\\python311\\lib\\site-packages (from pandas) (2.8.2)\n",
      "Collecting pytz>=2020.1 (from pandas)\n",
      "  Downloading pytz-2024.1-py2.py3-none-any.whl (505 kB)\n",
      "                                              0.0/505.5 kB ? eta -:--:--\n",
      "     ------------------------------         399.4/505.5 kB 8.3 MB/s eta 0:00:01\n",
      "     -------------------------------------- 505.5/505.5 kB 6.3 MB/s eta 0:00:00\n",
      "Collecting tzdata>=2022.7 (from pandas)\n",
      "  Downloading tzdata-2024.1-py2.py3-none-any.whl (345 kB)\n",
      "                                              0.0/345.4 kB ? eta -:--:--\n",
      "     -------------------------------------- 345.4/345.4 kB 7.3 MB/s eta 0:00:00\n",
      "Requirement already satisfied: six>=1.5 in c:\\python311\\lib\\site-packages (from python-dateutil>=2.8.2->pandas) (1.16.0)\n",
      "Installing collected packages: pytz, tzdata, numpy, pandas\n",
      "Successfully installed numpy-1.26.4 pandas-2.2.2 pytz-2024.1 tzdata-2024.1\n",
      "Note: you may need to restart the kernel to use updated packages.\n"
     ]
    },
    {
     "name": "stderr",
     "output_type": "stream",
     "text": [
      "\n",
      "[notice] A new release of pip is available: 23.1.2 -> 24.0\n",
      "[notice] To update, run: python.exe -m pip install --upgrade pip\n"
     ]
    }
   ],
   "source": [
    "pip install pandas"
   ]
  },
  {
   "cell_type": "code",
   "execution_count": 69,
   "metadata": {},
   "outputs": [
    {
     "name": "stdout",
     "output_type": "stream",
     "text": [
      "Requirement already satisfied: scikit-learn in c:\\python311\\lib\\site-packages (1.4.2)\n",
      "Requirement already satisfied: numpy>=1.19.5 in c:\\python311\\lib\\site-packages (from scikit-learn) (1.26.4)\n",
      "Requirement already satisfied: scipy>=1.6.0 in c:\\python311\\lib\\site-packages (from scikit-learn) (1.13.0)\n",
      "Requirement already satisfied: joblib>=1.2.0 in c:\\python311\\lib\\site-packages (from scikit-learn) (1.4.2)\n",
      "Requirement already satisfied: threadpoolctl>=2.0.0 in c:\\python311\\lib\\site-packages (from scikit-learn) (3.5.0)\n",
      "Note: you may need to restart the kernel to use updated packages.\n"
     ]
    },
    {
     "name": "stderr",
     "output_type": "stream",
     "text": [
      "\n",
      "[notice] A new release of pip is available: 23.1.2 -> 24.0\n",
      "[notice] To update, run: python.exe -m pip install --upgrade pip\n"
     ]
    }
   ],
   "source": [
    "pip install scikit-learn"
   ]
  },
  {
   "cell_type": "code",
   "execution_count": 71,
   "metadata": {},
   "outputs": [],
   "source": [
    "from sklearn.preprocessing import LabelEncoder"
   ]
  },
  {
   "cell_type": "code",
   "execution_count": 70,
   "metadata": {},
   "outputs": [],
   "source": [
    "import pandas as pd"
   ]
  },
  {
   "cell_type": "code",
   "execution_count": 72,
   "metadata": {},
   "outputs": [],
   "source": [
    "le = LabelEncoder()"
   ]
  },
  {
   "cell_type": "code",
   "execution_count": 73,
   "metadata": {},
   "outputs": [
    {
     "data": {
      "text/plain": [
       "array([2, 0, 2, 1], dtype=int64)"
      ]
     },
     "execution_count": 73,
     "metadata": {},
     "output_type": "execute_result"
    }
   ],
   "source": [
    "dados_treino = ['maça', 'banana', 'maça', 'laranja']\n",
    "\n",
    "dados_transformados = le.fit_transform(dados_treino)\n",
    "dados_transformados"
   ]
  },
  {
   "cell_type": "code",
   "execution_count": 68,
   "metadata": {},
   "outputs": [],
   "source": [
    "dados = pd.read_csv(\"manutencao_preditiva.csv\")"
   ]
  },
  {
   "cell_type": "code",
   "execution_count": 76,
   "metadata": {},
   "outputs": [
    {
     "data": {
      "text/plain": [
       "array([2, 1, 1, ..., 2, 0, 2])"
      ]
     },
     "execution_count": 76,
     "metadata": {},
     "output_type": "execute_result"
    }
   ],
   "source": [
    "dados_trans = le.fit_transform(dados['Tipo'].values)\n",
    "dados_trans"
   ]
  }
 ],
 "metadata": {
  "kernelspec": {
   "display_name": "Python 3",
   "language": "python",
   "name": "python3"
  },
  "language_info": {
   "codemirror_mode": {
    "name": "ipython",
    "version": 3
   },
   "file_extension": ".py",
   "mimetype": "text/x-python",
   "name": "python",
   "nbconvert_exporter": "python",
   "pygments_lexer": "ipython3",
   "version": "3.11.4"
  },
  "orig_nbformat": 4
 },
 "nbformat": 4,
 "nbformat_minor": 2
}
