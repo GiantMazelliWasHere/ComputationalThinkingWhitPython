{
 "cells": [
  {
   "attachments": {},
   "cell_type": "markdown",
   "metadata": {},
   "source": [
    "# Função interna: Lambda"
   ]
  },
  {
   "attachments": {},
   "cell_type": "markdown",
   "metadata": {},
   "source": [
    "f = lambda x: 'x + x' -> Expressão\n",
    "\n",
    "f -> Objeto\n",
    "\n",
    "x -> Palavra-chave\n",
    "\n",
    "'x + x' -> Expressão"
   ]
  },
  {
   "cell_type": "code",
   "execution_count": null,
   "metadata": {},
   "outputs": [],
   "source": [
    "#1 - multiplicação\n",
    "\n",
    "mult = lambda x: x*x\n",
    "print(mult(2))"
   ]
  },
  {
   "cell_type": "code",
   "execution_count": null,
   "metadata": {},
   "outputs": [],
   "source": [
    "#2 - Elevar nº ao quadrado\n",
    "\n",
    "quadrado = lambda X: X*2\n",
    "print(quadrado(3))"
   ]
  },
  {
   "cell_type": "code",
   "execution_count": null,
   "metadata": {},
   "outputs": [],
   "source": [
    "#3 - Elevar nº ao Cubo\n",
    "\n",
    "cubo = lambda x: x*3\n",
    "print(cubo(4))"
   ]
  },
  {
   "cell_type": "code",
   "execution_count": null,
   "metadata": {},
   "outputs": [],
   "source": [
    "#4 - Nome Completo\n",
    "\n",
    "nome = lambda nome,sobrenome: f'Nome:{nome}\\nSobrenome:{sobrenome}'\n",
    "print(nome('Eduardo', 'Mazelli'))\n",
    "\n"
   ]
  },
  {
   "cell_type": "code",
   "execution_count": null,
   "metadata": {},
   "outputs": [],
   "source": [
    "#5 - Com condição if\n",
    "\n",
    "comeca_com_g = lambda x: True if x.startswith('G') else False\n",
    "\n",
    "print(comeca_com_g('Gatsby'))\n",
    "print(comeca_com_g('John F. Kennedy'))\n",
    "print(comeca_com_g('Gandalf'))\n",
    "print(comeca_com_g('Bob'))"
   ]
  },
  {
   "cell_type": "code",
   "execution_count": null,
   "metadata": {},
   "outputs": [],
   "source": [
    "# Classifaicação de impar e par\n",
    "\n",
    "impar = lambda x: True if x % 2 == 1 else False\n",
    "\n",
    "print(impar(5))\n",
    "print(impar(10))\n",
    "\n",
    "par = lambda x: True if x % 2 == 0 else False\n",
    "\n",
    "print(par(10))\n",
    "print(par(5))"
   ]
  },
  {
   "cell_type": "code",
   "execution_count": null,
   "metadata": {},
   "outputs": [],
   "source": [
    "#Classificação de idade\n",
    "\n",
    "classificar_idade = lambda idade: 'Criança' if idade < 13 else ('Adolescente' if idade < 18  else 'Adulto')\n",
    "\n",
    "print(classificar_idade(10))\n",
    "print(classificar_idade(15))\n",
    "print(classificar_idade(20))"
   ]
  },
  {
   "cell_type": "code",
   "execution_count": null,
   "metadata": {},
   "outputs": [],
   "source": [
    "# Converter temperturas\n",
    "\n",
    "conv_temperatura = lambda temp,escala: (temp * 9/5) + 32 if escala == 'C' else (temp - 32) * 5/6 if escala == 'F' else 'Escala inválida'\n",
    "\n",
    "print(conv_temperatura(25, 'C'))\n",
    "print(conv_temperatura(98.8, 'F'))\n",
    "print(conv_temperatura(100, 'K'))\n"
   ]
  },
  {
   "cell_type": "code",
   "execution_count": 12,
   "metadata": {},
   "outputs": [
    {
     "name": "stdout",
     "output_type": "stream",
     "text": [
      "71\n"
     ]
    }
   ],
   "source": [
    "def const_quadratica(a,b,c):\n",
    "    # Retorna a função: f(x) = ax^2+bx+c\n",
    "    return lambda x: a * x ** 2 + b * x + c\n",
    "\n",
    "f =  const_quadratica(2,3,6)\n",
    "\n",
    "print(f(5))\n"
   ]
  },
  {
   "attachments": {},
   "cell_type": "markdown",
   "metadata": {},
   "source": [
    "# Exercícios"
   ]
  },
  {
   "attachments": {},
   "cell_type": "markdown",
   "metadata": {},
   "source": [
    "#### Exercício 1 - Crie uma função dentro de uma função para calcular a média ponderada de dois números"
   ]
  },
  {
   "cell_type": "code",
   "execution_count": 13,
   "metadata": {},
   "outputs": [
    {
     "name": "stdout",
     "output_type": "stream",
     "text": [
      "8.333333333333334\n"
     ]
    }
   ],
   "source": [
    "def media_ponderada(p1,p2):\n",
    "    return lambda x,y: (x * p1 + y * p2) / (p1 + p2)\n",
    "\n",
    "gordo = media_ponderada(100,200)\n",
    "print(gordo(5,10))"
   ]
  },
  {
   "attachments": {},
   "cell_type": "markdown",
   "metadata": {},
   "source": [
    "#### Exercício 2 - Crie uma função para calcular o périmetro de um retângulo com base na altura e na largura"
   ]
  },
  {
   "cell_type": "code",
   "execution_count": 27,
   "metadata": {},
   "outputs": [
    {
     "name": "stdout",
     "output_type": "stream",
     "text": [
      "24\n"
     ]
    }
   ],
   "source": [
    "def perimetro(largura,altura):\n",
    "    return lambda: 2 * (largura+altura)\n",
    "\n",
    "altura = perimetro(2,10)\n",
    "\n",
    "print(altura())"
   ]
  },
  {
   "attachments": {},
   "cell_type": "markdown",
   "metadata": {},
   "source": [
    "#### Exercício 3 - Crie uma função para calcular para calcular o volume de um retângulo"
   ]
  },
  {
   "cell_type": "code",
   "execution_count": 34,
   "metadata": {},
   "outputs": [
    {
     "name": "stdout",
     "output_type": "stream",
     "text": [
      "40\n"
     ]
    }
   ],
   "source": [
    "def volume(largura,altura,profundidade):\n",
    "    return lambda: largura * altura * profundidade\n",
    "\n",
    "retangulo = volume(2,10,2)\n",
    "\n",
    "print(retangulo())"
   ]
  },
  {
   "cell_type": "markdown",
   "metadata": {},
   "source": [
    "#### Exercício 4 - Crie uma função para calcular a função de newton: f = m * a, dando os parametros 'm' e 'a' na função"
   ]
  },
  {
   "cell_type": "code",
   "execution_count": 33,
   "metadata": {},
   "outputs": [
    {
     "name": "stdout",
     "output_type": "stream",
     "text": [
      "0.5\n"
     ]
    }
   ],
   "source": [
    "def eq_newton(f,m,a):\n",
    "    return lambda: (m * a) if f == 0 else f / a if m == 0 else f / m if a == 0 else 'Valor Inválido'\n",
    "\n",
    "f = float(input('Coloque o valor da sua forção(Se não tiver coloque zero):'))\n",
    "\n",
    "m = float(input('Coloque o valor da sua massa(Se não tiver coloque zero):'))\n",
    "\n",
    "a = float(input('Coloque o valor da sua aceleração(Se não tiver coloque zero):'))\n",
    "\n",
    "\n",
    "newton = eq_newton(f, m, a)\n",
    "\n",
    "print(newton())\n",
    "\n"
   ]
  },
  {
   "attachments": {},
   "cell_type": "markdown",
   "metadata": {},
   "source": [
    "#### Calcular a área de diferentes formas geométricas utilizando a função def e lambda (quadrado, retangulo, triangulo e círculo)"
   ]
  },
  {
   "cell_type": "code",
   "execution_count": null,
   "metadata": {},
   "outputs": [],
   "source": [
    "def área(forma):\n",
    "    if forma == 'Quadrado':\n",
    "        return lambda l: l ** 2\n",
    "    elif forma == 'Retangulo':\n",
    "        return lambda b,h: b*h\n",
    "    elif forma == 'Triangulo':\n",
    "        return lambda b,h: (b * h) / 2\n",
    "    elif forma == 'Circulo':\n",
    "        return lambda r: 3.14 * r ** 2\n",
    "    else:\n",
    "        return 'Forma inválida'"
   ]
  },
  {
   "cell_type": "code",
   "execution_count": 35,
   "metadata": {},
   "outputs": [],
   "source": [
    "def calculo_area(forma, **geometrica):\n",
    "    # ** serve para separar o que vai estar dentro da função\n",
    "\n",
    "    area_funcoes = {\n",
    "        \"quadrado\": lambda lado: lado ** 2,\n",
    "        \"retangulo\": lambda base,altura: base*altura,\n",
    "        \"circulo\": lambda raio: 3.14 * raio ** 2,\n",
    "        \"triangulo\": lambda base,altura: (base * altura) / 2\n",
    "    }\n",
    "\n",
    "    if forma in area_funcoes:\n",
    "        return area_funcoes[forma](**geometrica)\n",
    "    else:\n",
    "        return \"Froma geométrica não identificada\""
   ]
  },
  {
   "cell_type": "code",
   "execution_count": 37,
   "metadata": {},
   "outputs": [
    {
     "name": "stdout",
     "output_type": "stream",
     "text": [
      "Area do quadrado: 16\n",
      "Area do retangulo: 20\n",
      "Area do circulo: 50.24\n",
      "Area do triangulo: 10.0\n"
     ]
    }
   ],
   "source": [
    "print('Area do quadrado:', calculo_area('quadrado', lado=4))\n",
    "print('Area do retangulo:', calculo_area('retangulo', base=4, altura=5))\n",
    "print('Area do circulo:', calculo_area('circulo', raio=4))\n",
    "print('Area do triangulo:', calculo_area('triangulo', base=4, altura=5))"
   ]
  },
  {
   "cell_type": "code",
   "execution_count": 38,
   "metadata": {},
   "outputs": [
    {
     "data": {
      "text/plain": [
       "[2, 4, 5, 7]"
      ]
     },
     "execution_count": 38,
     "metadata": {},
     "output_type": "execute_result"
    }
   ],
   "source": [
    "numeros = [2,5,7,4]\n",
    "\n",
    "ordena = sorted(numeros)\n",
    "ordena"
   ]
  },
  {
   "cell_type": "code",
   "execution_count": 39,
   "metadata": {},
   "outputs": [
    {
     "data": {
      "text/plain": [
       "['a', 'b', 'c', 'd']"
      ]
     },
     "execution_count": 39,
     "metadata": {},
     "output_type": "execute_result"
    }
   ],
   "source": [
    "palavras = ['a','b','d','c']\n",
    "\n",
    "ordena = sorted(palavras)\n",
    "ordena"
   ]
  },
  {
   "cell_type": "code",
   "execution_count": 40,
   "metadata": {},
   "outputs": [
    {
     "name": "stdout",
     "output_type": "stream",
     "text": [
      "['uva', 'pera', 'abacaxi', 'laranja']\n"
     ]
    }
   ],
   "source": [
    "frutas = ['abacaxi', 'laranja', 'uva', 'pera']\n",
    "\n",
    "ordenada = sorted(frutas, key=lambda fruta: len(fruta))\n",
    "print(ordenada)"
   ]
  },
  {
   "cell_type": "code",
   "execution_count": 41,
   "metadata": {},
   "outputs": [
    {
     "name": "stdout",
     "output_type": "stream",
     "text": [
      "['abacaxi', 'laranja', 'pera', 'uva']\n"
     ]
    }
   ],
   "source": [
    "frutas = ['abacaxi', 'laranja', 'uva', 'pera']\n",
    "\n",
    "ordenada = sorted(frutas)\n",
    "print(ordenada)"
   ]
  },
  {
   "cell_type": "code",
   "execution_count": 42,
   "metadata": {},
   "outputs": [
    {
     "data": {
      "text/plain": [
       "[(2, 1), (3, 2), (4, 3), (2, 8)]"
      ]
     },
     "execution_count": 42,
     "metadata": {},
     "output_type": "execute_result"
    }
   ],
   "source": [
    "# ordenação de uma lista de tuplas pelo primeiro ou segundo elemento\n",
    "\n",
    "tuplas = [(3,2), (2,8), (4,3), (2,1)]\n",
    "\n",
    "ordena_tupla = sorted(tuplas, key= lambda tupla:tupla[1])\n",
    "ordena_tupla"
   ]
  },
  {
   "attachments": {},
   "cell_type": "markdown",
   "metadata": {},
   "source": [
    "# Exercicíos"
   ]
  },
  {
   "attachments": {},
   "cell_type": "markdown",
   "metadata": {},
   "source": [
    "#### Crie um programa para ordenar a lista abaixo pelo primeiro número e depois pelo nome."
   ]
  },
  {
   "cell_type": "code",
   "execution_count": 46,
   "metadata": {},
   "outputs": [
    {
     "name": "stdout",
     "output_type": "stream",
     "text": [
      "[(4, 'Mary Anne'), (5, 'Marcelo'), (8, 'Mark'), (10, 'Ana')]\n",
      "[(10, 'Ana'), (5, 'Marcelo'), (8, 'Mark'), (4, 'Mary Anne')]\n"
     ]
    }
   ],
   "source": [
    "tuplas = [(10, 'Ana'), (8, 'Mark'), (4, 'Mary Anne'),(5, 'Marcelo')]\n",
    "\n",
    "ordena_numero = sorted(tuplas, key=lambda tuplas: tuplas[0])\n",
    "ordena_nome = sorted(tuplas, key=lambda tuplas: tuplas[1])\n",
    "print(ordena_numero)\n",
    "print(ordena_nome)\n"
   ]
  },
  {
   "attachments": {},
   "cell_type": "markdown",
   "metadata": {},
   "source": [
    "#### 1 - Gerenciamento de estoque: Crie u programa para apresentar a relação preço x produto usando sorted e lambda"
   ]
  },
  {
   "cell_type": "code",
   "execution_count": 60,
   "metadata": {},
   "outputs": [
    {
     "name": "stdout",
     "output_type": "stream",
     "text": [
      "calça - valor total em estoque 1500\n",
      "camisetas - valor total em estoque 2000\n",
      "tenis - valor total em estoque 30000\n"
     ]
    }
   ],
   "source": [
    "estoque=[\n",
    "    ('camisetas',100,20),\n",
    "    ('calça',50,30),\n",
    "    ('tenis',300,100)]\n",
    "\n",
    "estoque_ordenado = sorted(estoque, key=lambda estoque: estoque[1] * estoque[2])\n",
    "\n",
    "for produto in estoque_ordenado:\n",
    "    print(f'{produto[0]} - valor total em estoque {produto[1] * produto[2]}')"
   ]
  }
 ],
 "metadata": {
  "kernelspec": {
   "display_name": "Python 3",
   "language": "python",
   "name": "python3"
  },
  "language_info": {
   "codemirror_mode": {
    "name": "ipython",
    "version": 3
   },
   "file_extension": ".py",
   "mimetype": "text/x-python",
   "name": "python",
   "nbconvert_exporter": "python",
   "pygments_lexer": "ipython3",
   "version": "3.11.4"
  },
  "orig_nbformat": 4
 },
 "nbformat": 4,
 "nbformat_minor": 2
}
