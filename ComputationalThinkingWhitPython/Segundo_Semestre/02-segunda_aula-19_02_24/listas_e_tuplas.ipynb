{
 "cells": [
  {
   "cell_type": "code",
   "execution_count": null,
   "metadata": {},
   "outputs": [],
   "source": [
    "pip install pandas"
   ]
  },
  {
   "cell_type": "code",
   "execution_count": null,
   "metadata": {},
   "outputs": [],
   "source": [
    "import pandas as pd"
   ]
  },
  {
   "cell_type": "code",
   "execution_count": 18,
   "metadata": {},
   "outputs": [
    {
     "name": "stdout",
     "output_type": "stream",
     "text": [
      "g\n",
      "o\n",
      "t\n",
      "i\n",
      "c\n",
      "a\n",
      " \n",
      "m\n",
      "a\n",
      "r\n",
      "o\n",
      "m\n",
      "b\n",
      "a\n"
     ]
    }
   ],
   "source": [
    "tupla = tuple('gotica maromba')\n",
    "i=0\n",
    "while i < len(tupla):\n",
    "    print(tupla[i])\n",
    "    i = i + 1"
   ]
  },
  {
   "cell_type": "code",
   "execution_count": 22,
   "metadata": {},
   "outputs": [
    {
     "name": "stdout",
     "output_type": "stream",
     "text": [
      "8\n",
      "16\n",
      "24\n"
     ]
    }
   ],
   "source": [
    "tupla = (4, 8, 12)\n",
    "\n",
    "for numero in tupla:\n",
    "    novo_numero = numero * 2\n",
    "    print(novo_numero)"
   ]
  },
  {
   "cell_type": "code",
   "execution_count": 23,
   "metadata": {},
   "outputs": [
    {
     "name": "stdout",
     "output_type": "stream",
     "text": [
      "(8, 16, 24)\n"
     ]
    }
   ],
   "source": [
    "tupla = (4, 8, 12)\n",
    "nova_tupla = []\n",
    "\n",
    "for numero in tupla:\n",
    "    novo_numero = numero * 2\n",
    "    nova_tupla.append(novo_numero)\n",
    "\n",
    "nova_tupla = tuple(nova_tupla)\n",
    "print(nova_tupla)"
   ]
  },
  {
   "cell_type": "code",
   "execution_count": 26,
   "metadata": {},
   "outputs": [
    {
     "name": "stdout",
     "output_type": "stream",
     "text": [
      "7\n"
     ]
    }
   ],
   "source": [
    "tupla = (4, 5, 6)\n",
    "a, b, c, = tupla\n",
    "\n",
    "tupla_2 = 4, 5, (6,7)\n",
    "\n",
    "d, e, (f, g) = tupla_2\n",
    "\n",
    "print(g)"
   ]
  },
  {
   "cell_type": "code",
   "execution_count": 27,
   "metadata": {},
   "outputs": [
    {
     "name": "stdout",
     "output_type": "stream",
     "text": [
      "depois da troca\n",
      "a=  5\n",
      "b=  10\n"
     ]
    }
   ],
   "source": [
    "a, b = 1, 2\n",
    "b, a = a, b\n",
    "\n",
    "a = 10\n",
    "b = 5\n",
    "\n",
    "temp = a\n",
    "a = b\n",
    "b = temp\n",
    "\n",
    "print('depois da troca')\n",
    "print(\"a= \", a)\n",
    "print(\"b= \", b)"
   ]
  },
  {
   "attachments": {},
   "cell_type": "markdown",
   "metadata": {},
   "source": [
    "# Exercícios"
   ]
  },
  {
   "cell_type": "code",
   "execution_count": 29,
   "metadata": {},
   "outputs": [
    {
     "name": "stdout",
     "output_type": "stream",
     "text": [
      "('maçã', 'banana', 'laranja', 'uva')\n",
      "banana\n",
      "('maçã', 'banana', 'manga', 'uva')\n",
      "('maçã', 'banana', 'manga', 'uva', 'abacaxi', 'limão')\n",
      "O item está contido na tupla\n",
      "1\n",
      "1\n",
      "(1, 2, 3, 4, 5)\n",
      "(2, 4, 6, 8, 10)\n"
     ]
    }
   ],
   "source": [
    "# Exercício 1\n",
    "\n",
    "frutas = ('maçã', 'banana', 'laranja', 'uva')\n",
    "print(frutas)\n",
    "\n",
    "# Exercício 2\n",
    "\n",
    "print(frutas[1])\n",
    "\n",
    "# Exercício 3\n",
    "\n",
    "frutas = list(frutas)\n",
    "\n",
    "frutas.insert(3, 'manga')\n",
    "frutas.remove('laranja')\n",
    "\n",
    "frutas_modificadas = tuple(frutas)\n",
    "\n",
    "print(frutas_modificadas)\n",
    "\n",
    "# Exercício 4\n",
    "tupla =  ('abacaxi', 'limão')\n",
    "\n",
    "frutas_concatenadas = frutas_modificadas + tupla\n",
    "\n",
    "print(frutas_concatenadas)\n",
    "\n",
    "# Exercício 5\n",
    "\n",
    "for frutas in frutas_concatenadas:\n",
    "    if 'uva' in frutas_concatenadas:\n",
    "        print('O item está contido na tupla')\n",
    "        break\n",
    "    else:\n",
    "        print('O item não está contido na tupla')\n",
    "\n",
    "# Exercício 6\n",
    "\n",
    "index_banana = frutas_concatenadas.index('banana')\n",
    "print(index_banana)\n",
    "\n",
    "# Exercício 7\n",
    "\n",
    "\n",
    "uva_total = frutas_concatenadas.count('uva')\n",
    "print(uva_total)\n",
    "\n",
    "# Exercício 8\n",
    "\n",
    "numeros = (1, 2, 3, 4, 5)\n",
    "print(numeros)\n",
    "\n",
    "# Exercíco 9\n",
    "\n",
    "numeros_dobrados = []\n",
    "\n",
    "for numero in numeros:\n",
    "    novo_numero = numero * 2\n",
    "    numeros_dobrados.append(novo_numero)\n",
    "\n",
    "numeros_dobrados = tuple(numeros_dobrados)\n",
    "print(numeros_dobrados)"
   ]
  }
 ],
 "metadata": {
  "kernelspec": {
   "display_name": "Python 3",
   "language": "python",
   "name": "python3"
  },
  "language_info": {
   "codemirror_mode": {
    "name": "ipython",
    "version": 3
   },
   "file_extension": ".py",
   "mimetype": "text/x-python",
   "name": "python",
   "nbconvert_exporter": "python",
   "pygments_lexer": "ipython3",
   "version": "3.11.4"
  },
  "orig_nbformat": 4
 },
 "nbformat": 4,
 "nbformat_minor": 2
}
