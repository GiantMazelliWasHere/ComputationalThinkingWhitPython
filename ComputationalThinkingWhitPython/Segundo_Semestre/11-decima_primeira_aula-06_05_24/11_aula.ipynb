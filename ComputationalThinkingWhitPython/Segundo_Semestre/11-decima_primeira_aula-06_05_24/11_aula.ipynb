{
 "cells": [
  {
   "cell_type": "code",
   "execution_count": null,
   "metadata": {},
   "outputs": [],
   "source": [
    "pip install pandas"
   ]
  },
  {
   "cell_type": "code",
   "execution_count": 9,
   "metadata": {},
   "outputs": [
    {
     "name": "stdout",
     "output_type": "stream",
     "text": [
      "Collecting openpyxl\n",
      "  Downloading openpyxl-3.1.2-py2.py3-none-any.whl (249 kB)\n",
      "                                              0.0/250.0 kB ? eta -:--:--\n",
      "     -------------------------------------  245.8/250.0 kB 5.0 MB/s eta 0:00:01\n",
      "     -------------------------------------- 250.0/250.0 kB 5.1 MB/s eta 0:00:00\n",
      "Collecting et-xmlfile (from openpyxl)\n",
      "  Downloading et_xmlfile-1.1.0-py3-none-any.whl (4.7 kB)\n",
      "Installing collected packages: et-xmlfile, openpyxl\n",
      "Successfully installed et-xmlfile-1.1.0 openpyxl-3.1.2\n",
      "Note: you may need to restart the kernel to use updated packages.\n"
     ]
    },
    {
     "name": "stderr",
     "output_type": "stream",
     "text": [
      "\n",
      "[notice] A new release of pip is available: 23.1.2 -> 24.0\n",
      "[notice] To update, run: python.exe -m pip install --upgrade pip\n"
     ]
    }
   ],
   "source": [
    "pip install openpyxl"
   ]
  },
  {
   "cell_type": "code",
   "execution_count": 10,
   "metadata": {},
   "outputs": [],
   "source": [
    "import pandas as pd\n",
    "import openpyxl"
   ]
  },
  {
   "cell_type": "code",
   "execution_count": 1,
   "metadata": {},
   "outputs": [],
   "source": [
    "import json\n",
    "\n",
    "data = {\n",
    "    'Nome':\"Joana\",\n",
    "    'Idade':30,\n",
    "    'Cidade':\"São Paulo\"\n",
    "}\n",
    "\n",
    "with open ('dados.json', 'w') as file:\n",
    "    json.dump(data, file)"
   ]
  },
  {
   "cell_type": "code",
   "execution_count": 2,
   "metadata": {},
   "outputs": [
    {
     "name": "stdout",
     "output_type": "stream",
     "text": [
      "Dados no formato json:\n",
      "{'Nome': 'Joana', 'Idade': 30, 'Cidade': 'São Paulo'}\n"
     ]
    }
   ],
   "source": [
    "# Leitura de Dados\n",
    "\n",
    "with open(\"dados.json\", \"r\") as json_file:\n",
    "    dados_json = json.load(json_file)\n",
    "\n",
    "print(\"Dados no formato json:\")\n",
    "print(dados_json)"
   ]
  },
  {
   "cell_type": "code",
   "execution_count": 17,
   "metadata": {},
   "outputs": [],
   "source": [
    "data = {\n",
    "    'Nome':\"Joana\",\n",
    "    'Idade':30,\n",
    "    'Cidade':\"São Paulo\"\n",
    "}\n",
    "\n",
    "df = pd.DataFrame(data, index=[0])\n",
    "\n",
    "df.to_excel('dados_excel.xlsx', index=False)"
   ]
  },
  {
   "cell_type": "code",
   "execution_count": 18,
   "metadata": {},
   "outputs": [],
   "source": [
    "df.to_csv('dados_csv.csv', index=False)"
   ]
  },
  {
   "cell_type": "code",
   "execution_count": 31,
   "metadata": {},
   "outputs": [
    {
     "name": "stdout",
     "output_type": "stream",
     "text": [
      "    Nome  Idade     Cidade\n",
      "0  Joana     30  São Paulo\n",
      "    Nome  Idade     Cidade\n",
      "0  Joana     30  São Paulo\n",
      "Dados em json {'Nome': 'Joana', 'Idade': 30, 'Cidade': 'São Paulo'}\n"
     ]
    }
   ],
   "source": [
    "# leitura dos arquivos\n",
    "\n",
    "df_excel = pd.read_excel('dados_excel.xlsx')\n",
    "df_csv = pd.read_csv('dados_csv.csv')\n",
    "\n",
    "with open ('dados.json', 'r') as json_file:\n",
    "    dados_json = json.load(json_file)\n",
    "\n",
    "print(df_excel)\n",
    "print(df_csv)\n",
    "print('Dados em json', dados_json)"
   ]
  },
  {
   "cell_type": "code",
   "execution_count": 32,
   "metadata": {},
   "outputs": [],
   "source": [
    "dados = {\n",
    "    'Nome':[\"Eduardo\", \"Nathan\", \"Bea\", \"Edson\"],\n",
    "    'Idade':[24, 23, 20, 18],\n",
    "    'Cidade':[\"São Bernardo\", \"Barueri\", \"Extrema\", \"São Paulo\"],\n",
    "    'Kdot ou Drake':[\"Kdot\", \"Kdot\", \"Kdot\", \"Drake\"]\n",
    "}\n",
    "\n",
    "with open ('exercicio.json', 'w') as file:\n",
    "    json.dump(dados, file)"
   ]
  },
  {
   "cell_type": "code",
   "execution_count": 35,
   "metadata": {},
   "outputs": [
    {
     "data": {
      "text/html": [
       "<div>\n",
       "<style scoped>\n",
       "    .dataframe tbody tr th:only-of-type {\n",
       "        vertical-align: middle;\n",
       "    }\n",
       "\n",
       "    .dataframe tbody tr th {\n",
       "        vertical-align: top;\n",
       "    }\n",
       "\n",
       "    .dataframe thead th {\n",
       "        text-align: right;\n",
       "    }\n",
       "</style>\n",
       "<table border=\"1\" class=\"dataframe\">\n",
       "  <thead>\n",
       "    <tr style=\"text-align: right;\">\n",
       "      <th></th>\n",
       "      <th>Key</th>\n",
       "      <th>C</th>\n",
       "      <th>D</th>\n",
       "    </tr>\n",
       "  </thead>\n",
       "  <tbody>\n",
       "    <tr>\n",
       "      <th>0</th>\n",
       "      <td>k0</td>\n",
       "      <td>C0</td>\n",
       "      <td>D0</td>\n",
       "    </tr>\n",
       "    <tr>\n",
       "      <th>1</th>\n",
       "      <td>k1</td>\n",
       "      <td>C1</td>\n",
       "      <td>D1</td>\n",
       "    </tr>\n",
       "    <tr>\n",
       "      <th>2</th>\n",
       "      <td>k2</td>\n",
       "      <td>C2</td>\n",
       "      <td>D2</td>\n",
       "    </tr>\n",
       "    <tr>\n",
       "      <th>3</th>\n",
       "      <td>k3</td>\n",
       "      <td>C3</td>\n",
       "      <td>D3</td>\n",
       "    </tr>\n",
       "  </tbody>\n",
       "</table>\n",
       "</div>"
      ],
      "text/plain": [
       "  Key   C   D\n",
       "0  k0  C0  D0\n",
       "1  k1  C1  D1\n",
       "2  k2  C2  D2\n",
       "3  k3  C3  D3"
      ]
     },
     "execution_count": 35,
     "metadata": {},
     "output_type": "execute_result"
    }
   ],
   "source": [
    "# Merge e concat de casos\n",
    "\n",
    "left = pd.DataFrame({\n",
    "    'Key':['k0','k1','k2','k3'],\n",
    "    'A':['A0', 'A1', 'A2', 'A3'],\n",
    "    'B':['B0', 'B1', 'B2', 'B3']\n",
    "})\n",
    "\n",
    "right = pd.DataFrame({\n",
    "    'Key':['k0','k1','k2','k3'],\n",
    "    'C':['C0', 'C1', 'C2', 'C3'],\n",
    "    'D':['D0', 'D1', 'D2', 'D3']\n",
    "    })\n"
   ]
  },
  {
   "cell_type": "code",
   "execution_count": 37,
   "metadata": {},
   "outputs": [
    {
     "data": {
      "text/html": [
       "<div>\n",
       "<style scoped>\n",
       "    .dataframe tbody tr th:only-of-type {\n",
       "        vertical-align: middle;\n",
       "    }\n",
       "\n",
       "    .dataframe tbody tr th {\n",
       "        vertical-align: top;\n",
       "    }\n",
       "\n",
       "    .dataframe thead th {\n",
       "        text-align: right;\n",
       "    }\n",
       "</style>\n",
       "<table border=\"1\" class=\"dataframe\">\n",
       "  <thead>\n",
       "    <tr style=\"text-align: right;\">\n",
       "      <th></th>\n",
       "      <th>Key</th>\n",
       "      <th>A</th>\n",
       "      <th>B</th>\n",
       "      <th>C</th>\n",
       "      <th>D</th>\n",
       "    </tr>\n",
       "  </thead>\n",
       "  <tbody>\n",
       "    <tr>\n",
       "      <th>0</th>\n",
       "      <td>k0</td>\n",
       "      <td>A0</td>\n",
       "      <td>B0</td>\n",
       "      <td>C0</td>\n",
       "      <td>D0</td>\n",
       "    </tr>\n",
       "    <tr>\n",
       "      <th>1</th>\n",
       "      <td>k1</td>\n",
       "      <td>A1</td>\n",
       "      <td>B1</td>\n",
       "      <td>C1</td>\n",
       "      <td>D1</td>\n",
       "    </tr>\n",
       "    <tr>\n",
       "      <th>2</th>\n",
       "      <td>k2</td>\n",
       "      <td>A2</td>\n",
       "      <td>B2</td>\n",
       "      <td>C2</td>\n",
       "      <td>D2</td>\n",
       "    </tr>\n",
       "    <tr>\n",
       "      <th>3</th>\n",
       "      <td>k3</td>\n",
       "      <td>A3</td>\n",
       "      <td>B3</td>\n",
       "      <td>C3</td>\n",
       "      <td>D3</td>\n",
       "    </tr>\n",
       "  </tbody>\n",
       "</table>\n",
       "</div>"
      ],
      "text/plain": [
       "  Key   A   B   C   D\n",
       "0  k0  A0  B0  C0  D0\n",
       "1  k1  A1  B1  C1  D1\n",
       "2  k2  A2  B2  C2  D2\n",
       "3  k3  A3  B3  C3  D3"
      ]
     },
     "execution_count": 37,
     "metadata": {},
     "output_type": "execute_result"
    }
   ],
   "source": [
    "# Merge\n",
    "df_merge = pd.merge(left, right, on='Key')\n",
    "df_merge"
   ]
  },
  {
   "cell_type": "code",
   "execution_count": 45,
   "metadata": {},
   "outputs": [
    {
     "data": {
      "text/html": [
       "<div>\n",
       "<style scoped>\n",
       "    .dataframe tbody tr th:only-of-type {\n",
       "        vertical-align: middle;\n",
       "    }\n",
       "\n",
       "    .dataframe tbody tr th {\n",
       "        vertical-align: top;\n",
       "    }\n",
       "\n",
       "    .dataframe thead th {\n",
       "        text-align: right;\n",
       "    }\n",
       "</style>\n",
       "<table border=\"1\" class=\"dataframe\">\n",
       "  <thead>\n",
       "    <tr style=\"text-align: right;\">\n",
       "      <th></th>\n",
       "      <th>Key</th>\n",
       "      <th>A</th>\n",
       "      <th>B</th>\n",
       "      <th>Key</th>\n",
       "      <th>A</th>\n",
       "      <th>B</th>\n",
       "    </tr>\n",
       "  </thead>\n",
       "  <tbody>\n",
       "    <tr>\n",
       "      <th>0</th>\n",
       "      <td>k0</td>\n",
       "      <td>A0</td>\n",
       "      <td>B0</td>\n",
       "      <td>k0</td>\n",
       "      <td>C0</td>\n",
       "      <td>D0</td>\n",
       "    </tr>\n",
       "    <tr>\n",
       "      <th>1</th>\n",
       "      <td>k1</td>\n",
       "      <td>A1</td>\n",
       "      <td>B1</td>\n",
       "      <td>k1</td>\n",
       "      <td>C1</td>\n",
       "      <td>D1</td>\n",
       "    </tr>\n",
       "    <tr>\n",
       "      <th>2</th>\n",
       "      <td>k2</td>\n",
       "      <td>A2</td>\n",
       "      <td>B2</td>\n",
       "      <td>k2</td>\n",
       "      <td>C2</td>\n",
       "      <td>D2</td>\n",
       "    </tr>\n",
       "    <tr>\n",
       "      <th>3</th>\n",
       "      <td>k3</td>\n",
       "      <td>A3</td>\n",
       "      <td>B3</td>\n",
       "      <td>k3</td>\n",
       "      <td>C3</td>\n",
       "      <td>D3</td>\n",
       "    </tr>\n",
       "  </tbody>\n",
       "</table>\n",
       "</div>"
      ],
      "text/plain": [
       "  Key   A   B Key   A   B\n",
       "0  k0  A0  B0  k0  C0  D0\n",
       "1  k1  A1  B1  k1  C1  D1\n",
       "2  k2  A2  B2  k2  C2  D2\n",
       "3  k3  A3  B3  k3  C3  D3"
      ]
     },
     "execution_count": 45,
     "metadata": {},
     "output_type": "execute_result"
    }
   ],
   "source": [
    "# Concat\n",
    "\n",
    "left = pd.DataFrame({\n",
    "    'Key':['k0','k1','k2','k3'],\n",
    "    'A':['A0', 'A1', 'A2', 'A3'],\n",
    "    'B':['B0', 'B1', 'B2', 'B3']\n",
    "})\n",
    "\n",
    "right = pd.DataFrame({\n",
    "    'Key':['k0','k1','k2','k3'],\n",
    "    'A':['C0', 'C1', 'C2', 'C3'],\n",
    "    'B':['D0', 'D1', 'D2', 'D3']\n",
    "    })\n",
    "\n",
    "df_concat = pd.concat([left, right], axis=1).reset_index(drop=True)\n",
    "df_concat"
   ]
  },
  {
   "cell_type": "code",
   "execution_count": 54,
   "metadata": {},
   "outputs": [],
   "source": [
    "# 1\n",
    "\n",
    "dados_json = {\n",
    "    'nome':[\"João\", \"Maria\", \"Pedro\"],\n",
    "    'idade':[30, 25, 35],\n",
    "    'cidade':[\"São Paulo\", \"Rio de Janeiro\", \"Belo Horizonte\"],\n",
    "    'profissao':[\"Engenheiro\", \"Professor\", \"Médico\"]\n",
    "}\n",
    "\n",
    "dados_excel = {\n",
    "    'nome':[\"João\", \"Maria\", \"Pedro\"],\n",
    "    'UF':[\"SP\", \"RJ\", \"BH\"]\n",
    "}\n",
    "\n",
    "\n",
    "dados_csv = {\n",
    "    'nome':[\"João\", \"Maria\", \"Pedro\"],\n",
    "    'idade':[30, 25, 35],\n",
    "    'Estado Civil':[\"Solteiro\", \"Casado\", \"Casado\"]\n",
    "}\n"
   ]
  },
  {
   "cell_type": "code",
   "execution_count": 58,
   "metadata": {},
   "outputs": [
    {
     "name": "stdout",
     "output_type": "stream",
     "text": [
      "Dados em csv: \n",
      "     nome  idade Estado Civil\n",
      "0   João     30     Solteiro\n",
      "1  Maria     25       Casado\n",
      "2  Pedro     35       Casado\n",
      "Dados em excel: \n",
      "     nome  UF\n",
      "0   João  SP\n",
      "1  Maria  RJ\n",
      "2  Pedro  BH\n",
      "Dados em json: \n",
      "     nome  idade          cidade   profissao\n",
      "0   João     30       São Paulo  Engenheiro\n",
      "1  Maria     25  Rio de Janeiro   Professor\n",
      "2  Pedro     35  Belo Horizonte      Médico\n"
     ]
    }
   ],
   "source": [
    "df_csv = pd.DataFrame(dados_csv)\n",
    "df_excel = pd.DataFrame(dados_excel)\n",
    "df_json = pd.DataFrame(dados_json)\n",
    "\n",
    "print('Dados em csv: \\n', df_csv)\n",
    "print('Dados em excel: \\n', df_excel)\n",
    "print('Dados em json: \\n', df_json)"
   ]
  },
  {
   "cell_type": "code",
   "execution_count": 69,
   "metadata": {},
   "outputs": [],
   "source": [
    "df_csv.to_csv('dados-csv.csv', index=False)\n",
    "df_excel.to_excel('dados-excel.xlsx', index=False)\n",
    "df_json.to_json('dados-json.json', index=False)\n",
    "\n",
    "with open ('dados-json.json', 'r') as json_file:\n",
    "    dados_json = json.load(json_file)"
   ]
  },
  {
   "cell_type": "code",
   "execution_count": 70,
   "metadata": {},
   "outputs": [
    {
     "data": {
      "text/html": [
       "<div>\n",
       "<style scoped>\n",
       "    .dataframe tbody tr th:only-of-type {\n",
       "        vertical-align: middle;\n",
       "    }\n",
       "\n",
       "    .dataframe tbody tr th {\n",
       "        vertical-align: top;\n",
       "    }\n",
       "\n",
       "    .dataframe thead th {\n",
       "        text-align: right;\n",
       "    }\n",
       "</style>\n",
       "<table border=\"1\" class=\"dataframe\">\n",
       "  <thead>\n",
       "    <tr style=\"text-align: right;\">\n",
       "      <th></th>\n",
       "      <th>nome</th>\n",
       "      <th>idade</th>\n",
       "      <th>Estado Civil</th>\n",
       "      <th>UF</th>\n",
       "    </tr>\n",
       "  </thead>\n",
       "  <tbody>\n",
       "    <tr>\n",
       "      <th>0</th>\n",
       "      <td>João</td>\n",
       "      <td>30</td>\n",
       "      <td>Solteiro</td>\n",
       "      <td>SP</td>\n",
       "    </tr>\n",
       "    <tr>\n",
       "      <th>1</th>\n",
       "      <td>Maria</td>\n",
       "      <td>25</td>\n",
       "      <td>Casado</td>\n",
       "      <td>RJ</td>\n",
       "    </tr>\n",
       "    <tr>\n",
       "      <th>2</th>\n",
       "      <td>Pedro</td>\n",
       "      <td>35</td>\n",
       "      <td>Casado</td>\n",
       "      <td>BH</td>\n",
       "    </tr>\n",
       "  </tbody>\n",
       "</table>\n",
       "</div>"
      ],
      "text/plain": [
       "    nome  idade Estado Civil  UF\n",
       "0   João     30     Solteiro  SP\n",
       "1  Maria     25       Casado  RJ\n",
       "2  Pedro     35       Casado  BH"
      ]
     },
     "execution_count": 70,
     "metadata": {},
     "output_type": "execute_result"
    }
   ],
   "source": [
    "# Merge df_csv e df_excel\n",
    "\n",
    "df_merge = pd.merge(df_csv, df_excel, on='nome')\n",
    "df_merge"
   ]
  },
  {
   "cell_type": "code",
   "execution_count": 80,
   "metadata": {},
   "outputs": [
    {
     "data": {
      "text/html": [
       "<div>\n",
       "<style scoped>\n",
       "    .dataframe tbody tr th:only-of-type {\n",
       "        vertical-align: middle;\n",
       "    }\n",
       "\n",
       "    .dataframe tbody tr th {\n",
       "        vertical-align: top;\n",
       "    }\n",
       "\n",
       "    .dataframe thead th {\n",
       "        text-align: right;\n",
       "    }\n",
       "</style>\n",
       "<table border=\"1\" class=\"dataframe\">\n",
       "  <thead>\n",
       "    <tr style=\"text-align: right;\">\n",
       "      <th></th>\n",
       "      <th>nome</th>\n",
       "      <th>idade</th>\n",
       "      <th>Estado Civil</th>\n",
       "      <th>UF</th>\n",
       "      <th>cidade</th>\n",
       "      <th>profissao</th>\n",
       "    </tr>\n",
       "  </thead>\n",
       "  <tbody>\n",
       "    <tr>\n",
       "      <th>0</th>\n",
       "      <td>João</td>\n",
       "      <td>30</td>\n",
       "      <td>Solteiro</td>\n",
       "      <td>SP</td>\n",
       "      <td>São Paulo</td>\n",
       "      <td>Engenheiro</td>\n",
       "    </tr>\n",
       "    <tr>\n",
       "      <th>1</th>\n",
       "      <td>Maria</td>\n",
       "      <td>25</td>\n",
       "      <td>Casado</td>\n",
       "      <td>RJ</td>\n",
       "      <td>Rio de Janeiro</td>\n",
       "      <td>Professor</td>\n",
       "    </tr>\n",
       "    <tr>\n",
       "      <th>2</th>\n",
       "      <td>Pedro</td>\n",
       "      <td>35</td>\n",
       "      <td>Casado</td>\n",
       "      <td>BH</td>\n",
       "      <td>Belo Horizonte</td>\n",
       "      <td>Médico</td>\n",
       "    </tr>\n",
       "  </tbody>\n",
       "</table>\n",
       "</div>"
      ],
      "text/plain": [
       "    nome  idade Estado Civil  UF          cidade   profissao\n",
       "0   João     30     Solteiro  SP       São Paulo  Engenheiro\n",
       "1  Maria     25       Casado  RJ  Rio de Janeiro   Professor\n",
       "2  Pedro     35       Casado  BH  Belo Horizonte      Médico"
      ]
     },
     "execution_count": 80,
     "metadata": {},
     "output_type": "execute_result"
    }
   ],
   "source": [
    "df_merge = pd.merge(df_csv, df_excel, on='nome')\n",
    "df_merge = pd.merge(df_merge, df_json, on=['nome', 'idade'])\n",
    "\n",
    "df_merge"
   ]
  }
 ],
 "metadata": {
  "kernelspec": {
   "display_name": "Python 3",
   "language": "python",
   "name": "python3"
  },
  "language_info": {
   "codemirror_mode": {
    "name": "ipython",
    "version": 3
   },
   "file_extension": ".py",
   "mimetype": "text/x-python",
   "name": "python",
   "nbconvert_exporter": "python",
   "pygments_lexer": "ipython3",
   "version": "3.11.4"
  },
  "orig_nbformat": 4
 },
 "nbformat": 4,
 "nbformat_minor": 2
}
