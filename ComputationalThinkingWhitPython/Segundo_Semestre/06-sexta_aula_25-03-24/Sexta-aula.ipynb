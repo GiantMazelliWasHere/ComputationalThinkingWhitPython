{
 "cells": [
  {
   "attachments": {},
   "cell_type": "markdown",
   "metadata": {},
   "source": [
    "# 1)"
   ]
  },
  {
   "cell_type": "code",
   "execution_count": 5,
   "metadata": {},
   "outputs": [
    {
     "name": "stdout",
     "output_type": "stream",
     "text": [
      "56\n",
      "4\n",
      "16\n",
      "36\n"
     ]
    }
   ],
   "source": [
    "def quadrado(x):\n",
    "    y = x**2\n",
    "    return y\n",
    "\n",
    "def soma_quadrado(x,y,z):\n",
    "    a = quadrado(x)\n",
    "    b = quadrado(y)\n",
    "    c = quadrado(z)\n",
    "    return a + b + c\n",
    "\n",
    "resposta = soma_quadrado(2,4,6)\n",
    "x = quadrado(2)\n",
    "y = quadrado(4)\n",
    "z = quadrado(6)\n",
    "print(resposta)\n",
    "print(x)\n",
    "print(y)\n",
    "print(z)\n"
   ]
  },
  {
   "attachments": {},
   "cell_type": "markdown",
   "metadata": {},
   "source": [
    "# 2)"
   ]
  },
  {
   "cell_type": "code",
   "execution_count": 24,
   "metadata": {},
   "outputs": [
    {
     "name": "stdout",
     "output_type": "stream",
     "text": [
      "56\n"
     ]
    }
   ],
   "source": [
    "def calculo_area(largura,comprimento):\n",
    "    a = largura * comprimento\n",
    "    return a\n",
    "\n",
    "def mostre_area():\n",
    "    l = float(input('digite a lagura do retângulo: '))\n",
    "    c = float(input('Digite o comprimento do retângulo: '))\n",
    "    area = calculo_area(l,c)\n",
    "    return area\n",
    "\n",
    "print(mostre_area())\n"
   ]
  },
  {
   "attachments": {},
   "cell_type": "markdown",
   "metadata": {},
   "source": [
    "# 3)"
   ]
  },
  {
   "cell_type": "code",
   "execution_count": 17,
   "metadata": {},
   "outputs": [
    {
     "name": "stdout",
     "output_type": "stream",
     "text": [
      "21\n",
      "150\n",
      "3.5\n"
     ]
    }
   ],
   "source": [
    "lista = [10,20,30,40,50]\n",
    "\n",
    "def soma_lista(list):\n",
    "    soma = sum(list)\n",
    "    return soma\n",
    "\n",
    "def media_lista(list):\n",
    "    soma = soma_lista(list)\n",
    "    comprimento = len(list)\n",
    "    media =  soma / comprimento\n",
    "    return media\n",
    "\n",
    "\n",
    "print(soma_lista(lista))\n",
    "print(media_lista(lista))\n",
    "    "
   ]
  },
  {
   "attachments": {},
   "cell_type": "markdown",
   "metadata": {},
   "source": [
    "# 4)"
   ]
  },
  {
   "cell_type": "code",
   "execution_count": 13,
   "metadata": {},
   "outputs": [
    {
     "name": "stdout",
     "output_type": "stream",
     "text": [
      "50\n",
      "10\n",
      "40\n"
     ]
    }
   ],
   "source": [
    "lista = [10,20,30,40,50]\n",
    "\n",
    "def minimo_lista(list):\n",
    "    minimo = min(list)\n",
    "    return minimo\n",
    "\n",
    "def maximo_lista(list):\n",
    "    maximo = max(list)\n",
    "    return maximo\n",
    "\n",
    "def dif_max_min(list):\n",
    "    diferenca = maximo_lista(list) - minimo_lista(list)\n",
    "    return diferenca\n",
    "\n",
    "print(maximo_lista(lista))\n",
    "print(minimo_lista(lista))\n",
    "print(dif_max_min(lista))"
   ]
  },
  {
   "cell_type": "code",
   "execution_count": 25,
   "metadata": {},
   "outputs": [
    {
     "name": "stdout",
     "output_type": "stream",
     "text": [
      "O valor da soma é: 150\n",
      "O valor da média é: 30.0\n"
     ]
    }
   ],
   "source": [
    "print(f'O valor da soma é: {soma_lista(lista)}')\n",
    "print(f'O valor da média é: {media_lista(lista)}')"
   ]
  },
  {
   "attachments": {},
   "cell_type": "markdown",
   "metadata": {},
   "source": [
    "# 5)"
   ]
  },
  {
   "cell_type": "code",
   "execution_count": 32,
   "metadata": {},
   "outputs": [
    {
     "name": "stdout",
     "output_type": "stream",
     "text": [
      "1800.0\n"
     ]
    }
   ],
   "source": [
    "def salario_total():\n",
    "    salario = float(input('Qual o valor do seu salário: '))\n",
    "    return salario\n",
    "\n",
    "def desconto_salario(salario):\n",
    "    if salario <= 2000:\n",
    "        salario = salario * 0.1\n",
    "    elif 2000 < salario < 4800:\n",
    "        salario = salario * 0.15\n",
    "    elif 48000 < salario < 6000:\n",
    "        salario = salario * 0.2\n",
    "    else:\n",
    "        salario = salario * 0.3\n",
    "    \n",
    "    return salario\n",
    "\n",
    "def salario_receber():\n",
    "    salario = salario_total()\n",
    "    desconto = desconto_salario(salario)\n",
    "    salario_receber = salario - desconto\n",
    "    return salario_receber\n",
    "\n",
    "print(salario_receber())"
   ]
  },
  {
   "attachments": {},
   "cell_type": "markdown",
   "metadata": {},
   "source": [
    "# 6)"
   ]
  },
  {
   "cell_type": "code",
   "execution_count": 39,
   "metadata": {},
   "outputs": [
    {
     "name": "stdout",
     "output_type": "stream",
     "text": [
      "Esse cícurlo é pequeno, que pena!\n"
     ]
    }
   ],
   "source": [
    "def area_circulo():\n",
    "    pi = 3.14\n",
    "    r = float(input('Qual o raio do círculo: '))\n",
    "    area = pi * (r**2)\n",
    "    return area\n",
    "\n",
    "def classe_area():\n",
    "    area = area_circulo()\n",
    "    if area > 100:\n",
    "        print('Esse cícurlo é grande, parabens!')\n",
    "    elif area > 50:\n",
    "        print('Esse cícurlo é médio, da pro gasto.')\n",
    "    else:\n",
    "        print('Esse cícurlo é pequeno, que pena!')\n",
    "    \n",
    "classe_area()"
   ]
  },
  {
   "attachments": {},
   "cell_type": "markdown",
   "metadata": {},
   "source": [
    "# 7)"
   ]
  },
  {
   "cell_type": "code",
   "execution_count": 56,
   "metadata": {},
   "outputs": [
    {
     "name": "stdout",
     "output_type": "stream",
     "text": [
      "[5, 12, 21, 32]\n"
     ]
    }
   ],
   "source": [
    "lista_1 = [1, 2, 3, 4]\n",
    "lista_2 = [5, 6, 7, 8]\n",
    "\n",
    "def mult(x,y):\n",
    "    mult = x * y\n",
    "    return mult\n",
    "\n",
    "def mult_lista(list1, list2):\n",
    "    produtos = []\n",
    "    \n",
    "    for i in range(len(list1)):\n",
    "        multip = mult(list1[i], list2[i])\n",
    "        produtos.append(multip)\n",
    "    return produtos\n",
    "\n",
    "print(mult_lista(lista_1, lista_2))"
   ]
  },
  {
   "attachments": {},
   "cell_type": "markdown",
   "metadata": {},
   "source": [
    "# 8) Calculadore simples"
   ]
  },
  {
   "cell_type": "code",
   "execution_count": 69,
   "metadata": {},
   "outputs": [
    {
     "name": "stdout",
     "output_type": "stream",
     "text": [
      "[9, 94, 240, 4.0]\n"
     ]
    }
   ],
   "source": [
    "def soma(x,y):\n",
    "    return x + y\n",
    "\n",
    "def sub(x,y):\n",
    "    return x - y\n",
    "\n",
    "def mult(x,y):\n",
    "    return x * y\n",
    "\n",
    "def div(x,y):\n",
    "    return x / y\n",
    "\n",
    "def calculadora(operacoes):\n",
    "    resultados = []\n",
    "\n",
    "    for op, x, y in operacoes:\n",
    "        if op == '+':\n",
    "            resultados.append(soma(x,y))\n",
    "        elif op == '-':\n",
    "            resultados.append(sub(x,y))\n",
    "        elif op == '*':\n",
    "            resultados.append(mult(x,y))\n",
    "        else:\n",
    "            resultados.append(div(x,y))\n",
    "    return resultados\n",
    "\n",
    "expressao = [('+', 5,4), ('-', 100,6), ('*', 16,15), ('/', 20,5)]\n",
    "\n",
    "resul = calculadora(expressao)\n",
    "\n",
    "print(resul)\n",
    "\n"
   ]
  },
  {
   "attachments": {},
   "cell_type": "markdown",
   "metadata": {},
   "source": [
    "# 9) Crie um programa para jogo de advinhação\n",
    "\n",
    "import random\n",
    "\n",
    "crie uma função número secreto"
   ]
  }
 ],
 "metadata": {
  "kernelspec": {
   "display_name": "Python 3",
   "language": "python",
   "name": "python3"
  },
  "language_info": {
   "codemirror_mode": {
    "name": "ipython",
    "version": 3
   },
   "file_extension": ".py",
   "mimetype": "text/x-python",
   "name": "python",
   "nbconvert_exporter": "python",
   "pygments_lexer": "ipython3",
   "version": "3.11.4"
  },
  "orig_nbformat": 4
 },
 "nbformat": 4,
 "nbformat_minor": 2
}
