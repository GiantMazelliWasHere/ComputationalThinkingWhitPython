{
 "cells": [
  {
   "cell_type": "code",
   "execution_count": 58,
   "metadata": {},
   "outputs": [],
   "source": [
    "class Conta_bancaria:\n",
    "    def __init__(self,nome,limite,numero, tipo, saldo):\n",
    "        self.nome = nome\n",
    "        self.limite = limite\n",
    "        self.numero = numero\n",
    "        self.tipo = tipo\n",
    "        self.saldo = saldo\n",
    "\n",
    "    def transacoes(self, saque, deposito):\n",
    "        self.saque = saque\n",
    "        self.deposito = deposito\n",
    "        saldo = self.saldo - saque\n",
    "        saldo = saldo + deposito\n",
    "        print(f\"Seu saldo atual é {saldo}\")\n",
    "        "
   ]
  },
  {
   "cell_type": "code",
   "execution_count": 59,
   "metadata": {},
   "outputs": [],
   "source": [
    "conta_edu = Conta_bancaria(\"Eduardo\", 2000.00, \"00001\", \"Corrente\", 2000.00)"
   ]
  },
  {
   "cell_type": "code",
   "execution_count": 63,
   "metadata": {},
   "outputs": [
    {
     "name": "stdout",
     "output_type": "stream",
     "text": [
      "Seu saldo atual é 2500.0\n"
     ]
    }
   ],
   "source": [
    "conta_edu.transacoes(500, 1000)\n"
   ]
  },
  {
   "attachments": {},
   "cell_type": "markdown",
   "metadata": {},
   "source": [
    "# Conteúdo Aula"
   ]
  },
  {
   "cell_type": "code",
   "execution_count": 29,
   "metadata": {},
   "outputs": [
    {
     "name": "stdout",
     "output_type": "stream",
     "text": [
      "50\n",
      "40\n",
      "30\n",
      "20\n",
      "10\n"
     ]
    }
   ],
   "source": [
    "lista1 = [10, 20, 30, 40, 50]\n",
    "\n",
    "minha_lista = reversed(lista1)\n",
    "\n",
    "for x in minha_lista:\n",
    "    print(x)"
   ]
  },
  {
   "cell_type": "code",
   "execution_count": 32,
   "metadata": {},
   "outputs": [
    {
     "name": "stdout",
     "output_type": "stream",
     "text": [
      "erawtfos ed airahnegne\n"
     ]
    }
   ],
   "source": [
    "palavra = \"engenharia de software\"\n",
    "\n",
    "print(palavra[::-1])"
   ]
  },
  {
   "cell_type": "code",
   "execution_count": 31,
   "metadata": {},
   "outputs": [
    {
     "name": "stdout",
     "output_type": "stream",
     "text": [
      "50\n",
      "40\n",
      "30\n",
      "20\n",
      "10\n"
     ]
    }
   ],
   "source": [
    "lista1 = [10, 20, 30, 40, 50]\n",
    "\n",
    "for x in lista1[::-1]:\n",
    "    print(x)"
   ]
  },
  {
   "cell_type": "code",
   "execution_count": 1,
   "metadata": {},
   "outputs": [
    {
     "name": "stdout",
     "output_type": "stream",
     "text": [
      "20 40 60 80 100 10 30 50 70 90 "
     ]
    }
   ],
   "source": [
    "minha_lista = [10, 20, 30, 40, 50, 60, 70, 80, 90, 100]\n",
    "\n",
    "for i in minha_lista[1::2]:\n",
    "    print(i, end=\" \")\n",
    "\n",
    "for i in minha_lista[0::2]:\n",
    "    print(i, end=\" \")"
   ]
  },
  {
   "cell_type": "code",
   "execution_count": 9,
   "metadata": {},
   "outputs": [
    {
     "name": "stdout",
     "output_type": "stream",
     "text": [
      "[0, 1, 2, 3, 4, 5, 6, 7, 8, 9]\n"
     ]
    }
   ],
   "source": [
    "minha_lista = []\n",
    "\n",
    "i = 0\n",
    "\n",
    "while len(minha_lista) < 10:\n",
    "    minha_lista.append(i)\n",
    "    i += 1\n",
    "print(minha_lista)"
   ]
  },
  {
   "cell_type": "code",
   "execution_count": 10,
   "metadata": {},
   "outputs": [
    {
     "name": "stdout",
     "output_type": "stream",
     "text": [
      "115\n"
     ]
    }
   ],
   "source": [
    "minha_lista = [23, 45, 12, 10, 25]\n",
    "\n",
    "i = 0\n",
    "soma = 0\n",
    "\n",
    "while i < len(minha_lista):\n",
    "    soma += minha_lista[i]\n",
    "    i += 1\n",
    "print(soma)"
   ]
  },
  {
   "cell_type": "code",
   "execution_count": 25,
   "metadata": {},
   "outputs": [
    {
     "name": "stdout",
     "output_type": "stream",
     "text": [
      "10 * 1 = 10\n",
      "10 * 2 = 20\n",
      "10 * 3 = 30\n",
      "10 * 4 = 40\n",
      "10 * 5 = 50\n",
      "10 * 6 = 60\n",
      "10 * 7 = 70\n",
      "10 * 8 = 80\n",
      "10 * 9 = 90\n",
      "10 * 10 = 100\n"
     ]
    }
   ],
   "source": [
    "# Criar uma espécie de tabuáda\n",
    "\n",
    "numero = float(input(\"Qual número você quer realizar a tabuada? \"))\n",
    "contador = float(input(\"Enqual número deseja começar? \")) \n",
    "limite = float(input(\"Até que número deseja realizar a tabúada? \"))\n",
    "\n",
    "while contador <= limite:\n",
    "    print(\"%d * %d = %d\" %(numero, contador, numero*contador))\n",
    "    contador += 1"
   ]
  },
  {
   "cell_type": "code",
   "execution_count": 35,
   "metadata": {},
   "outputs": [
    {
     "name": "stdout",
     "output_type": "stream",
     "text": [
      "as letras são e\n",
      "as letras são n\n",
      "as letras são e\n",
      "as letras são n\n",
      "as letras são h\n",
      "as letras são a\n",
      "as letras são r\n",
      "as letras são i\n",
      "as letras são a\n",
      "as letras são  \n",
      "as letras são d\n",
      "as letras são e\n",
      "as letras são  \n",
      "as letras são s\n",
      "as letras são o\n",
      "as letras são f\n",
      "as letras são t\n",
      "as letras são w\n",
      "as letras são a\n",
      "as letras são r\n",
      "as letras são e\n"
     ]
    }
   ],
   "source": [
    "palavras = \"engenharia de software\"\n",
    "i = 0\n",
    "\n",
    "while i < len(palavra):\n",
    "    if palavra[i] == 'g':\n",
    "        i += 1\n",
    "        continue\n",
    "    print(f\"as letras são {palavra[i]}\")\n",
    "    i += 1\n"
   ]
  },
  {
   "attachments": {},
   "cell_type": "markdown",
   "metadata": {},
   "source": [
    "# Exercicio"
   ]
  },
  {
   "cell_type": "code",
   "execution_count": 28,
   "metadata": {},
   "outputs": [
    {
     "name": "stdout",
     "output_type": "stream",
     "text": [
      "10 * 1 = 10\n",
      "10 * 2 = 20\n",
      "10 * 3 = 30\n",
      "10 * 4 = 40\n",
      "10 * 5 = 50\n",
      "10 * 6 = 60\n",
      "10 * 7 = 70\n",
      "10 * 8 = 80\n",
      "10 * 9 = 90\n",
      "10 * 10 = 100\n"
     ]
    }
   ],
   "source": [
    "numero = float(input(\"Qual número você quer realizar a tabuada? \"))\n",
    "contador = 1\n",
    "limite = float(input(\"Até que número deseja realizar a tabúada? \"))\n",
    "\n",
    "while contador <= limite:\n",
    "    print(\"%d * %d = %d\" %(numero, contador, numero*contador))\n",
    "    contador += 1"
   ]
  },
  {
   "cell_type": "code",
   "execution_count": 26,
   "metadata": {},
   "outputs": [
    {
     "name": "stdout",
     "output_type": "stream",
     "text": [
      "O Ser tirou 2\n"
     ]
    }
   ],
   "source": [
    "correta = [\"b\", \"a\", \"d\"]\n",
    "i = 0\n",
    "pontos = 0\n",
    "\n",
    "while i < len(correta):\n",
    "    resposta = input(\"Qual a alternativa correta?\").lower()\n",
    "\n",
    "    if resposta == correta[i]:\n",
    "        pontos += 1\n",
    "    i += 1\n",
    "print(f\"O Ser tirou {pontos}\")\n"
   ]
  },
  {
   "cell_type": "code",
   "execution_count": 21,
   "metadata": {},
   "outputs": [
    {
     "name": "stdout",
     "output_type": "stream",
     "text": [
      "O valor a pagar é 250.0\n"
     ]
    }
   ],
   "source": [
    "def valor(taxa):\n",
    "   print(f\"O valor a pagar é {consumo * taxa}\")\n",
    "\n",
    "instalacao = [\"r\", \"residencial\", \"c\", \"comercial\", \"i\", \"industrial\"]\n",
    "\n",
    "tipo = input(\"Qual o tipo de instalação? \").lower()\n",
    "\n",
    "if tipo in instalacao:\n",
    "    consumo = float(input(\"Quantos kWh foram consumidos? \"))\n",
    "    \n",
    "    if tipo == 'r' or 'residencial':\n",
    "        if consumo <= 500:\n",
    "            valor(0.50)\n",
    "        else:\n",
    "            valor(0.75)\n",
    "    elif tipo == 'c' or 'comercial':\n",
    "        if consumo <= 1000:\n",
    "            valor(0.65)\n",
    "        else:\n",
    "            valor(0.70)\n",
    "    elif tipo == 'i' or 'industrial':\n",
    "        if consumo <= 5000:\n",
    "            valor(0.65)\n",
    "        else:\n",
    "            valor(0.65)\n",
    "else:\n",
    "    print(\"Não temos esse tipo de instalação\")"
   ]
  }
 ],
 "metadata": {
  "kernelspec": {
   "display_name": "Python 3",
   "language": "python",
   "name": "python3"
  },
  "language_info": {
   "codemirror_mode": {
    "name": "ipython",
    "version": 3
   },
   "file_extension": ".py",
   "mimetype": "text/x-python",
   "name": "python",
   "nbconvert_exporter": "python",
   "pygments_lexer": "ipython3",
   "version": "3.11.4"
  },
  "orig_nbformat": 4
 },
 "nbformat": 4,
 "nbformat_minor": 2
}
