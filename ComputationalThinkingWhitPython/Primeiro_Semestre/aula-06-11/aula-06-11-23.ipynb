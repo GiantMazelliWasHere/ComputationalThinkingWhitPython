{
 "cells": [
  {
   "attachments": {},
   "cell_type": "markdown",
   "metadata": {},
   "source": [
    "# Validação de inteiro usando função"
   ]
  },
  {
   "cell_type": "code",
   "execution_count": 3,
   "metadata": {},
   "outputs": [
    {
     "name": "stdout",
     "output_type": "stream",
     "text": [
      "Valor inválido. Digite um valor entre 5 e 10\n",
      "Valor válido 6\n"
     ]
    }
   ],
   "source": [
    "def faixa_int(minimo, maximo):\n",
    "    while True:\n",
    "        v = int(input(f\"Entre com um valor entre {minimo} e {maximo}: \"))\n",
    "        if v < minimo or v > maximo:\n",
    "            print(f\"Valor inválido. Digite um valor entre {minimo} e {maximo}\")\n",
    "        else:\n",
    "            return v\n",
    "        \n",
    "minimo = 5\n",
    "maximo = 10\n",
    "\n",
    "valor = faixa_int(minimo, maximo)\n",
    "\n",
    "print(\"Valor válido\", valor)"
   ]
  },
  {
   "attachments": {},
   "cell_type": "markdown",
   "metadata": {},
   "source": [
    "# Exercício 1 - Validação de String usando função"
   ]
  },
  {
   "cell_type": "code",
   "execution_count": 6,
   "metadata": {},
   "outputs": [
    {
     "name": "stdout",
     "output_type": "stream",
     "text": [
      "Palavra inválida. Digite uma palavra com tamanho 5 e 10 de letras\n",
      "Palavra inválida. Digite uma palavra com tamanho 5 e 10 de letras\n",
      "Valor válido palavra\n"
     ]
    }
   ],
   "source": [
    "def faixa_str(minimo, maximo):\n",
    "    while True:\n",
    "        s = str(input(f\"Escreva uma palavra com tamanho {minimo} e {maximo} de letras: \"))\n",
    "        if len(s) <= minimo or len(s) >= maximo:\n",
    "            print(f\"Palavra inválida. Digite uma palavra com tamanho {minimo} e {maximo} de letras\")\n",
    "        else:\n",
    "            return s\n",
    "        \n",
    "minimo = 5\n",
    "maximo = 10\n",
    "\n",
    "palavra = faixa_str(minimo, maximo)\n",
    "\n",
    "print(\"Valor válido\", palavra)"
   ]
  },
  {
   "cell_type": "code",
   "execution_count": null,
   "metadata": {},
   "outputs": [],
   "source": [
    "def faixa_str(string, min, max):\n",
    "    while True:\n",
    "        porn = len(string)\n",
    "        if porn <= min or porn >= max:\n",
    "           print(f\"Palavra inválida. Digite uma palavra com tamanho {min} e {max} de letras\")\n",
    "        else:\n",
    "            return string        \n",
    "min = 5\n",
    "max = 10\n",
    "\n",
    "palavra = faixa_str(\"pornhub\", min, max)\n",
    "print(palavra)"
   ]
  },
  {
   "attachments": {},
   "cell_type": "markdown",
   "metadata": {},
   "source": [
    "# Exercício 1 - Resolução Prof"
   ]
  },
  {
   "cell_type": "code",
   "execution_count": 17,
   "metadata": {},
   "outputs": [
    {
     "name": "stdout",
     "output_type": "stream",
     "text": [
      "True\n"
     ]
    }
   ],
   "source": [
    "def faixa_str(string, min, max):\n",
    "    porn = len(string)\n",
    "    return min <= porn <= max\n",
    "     \n",
    "min = 5\n",
    "max = 10\n",
    "\n",
    "palavra = faixa_str(\"pornhub\", min, max)\n",
    "print(palavra)"
   ]
  },
  {
   "attachments": {},
   "cell_type": "markdown",
   "metadata": {},
   "source": [
    "# Exercício 2 - String e Lista"
   ]
  },
  {
   "cell_type": "code",
   "execution_count": 3,
   "metadata": {},
   "outputs": [
    {
     "name": "stdout",
     "output_type": "stream",
     "text": [
      "A lista não contém a Terra\n"
     ]
    }
   ],
   "source": [
    "def str_in_list(str, list):\n",
    "        if str in list:\n",
    "            print(f\"A string {str} foi encontrada na Lista\")\n",
    "        else:\n",
    "            print(f\"A lista não contém a {str}\")\n",
    "\n",
    "list = [\"Sol\", \"Lua\", \"Estrela\", \"Galaxia\"]\n",
    "\n",
    "string = str(input(\"Diga-me uma palvra: \"))\n",
    "\n",
    "str_in_list(string, list)\n"
   ]
  },
  {
   "attachments": {},
   "cell_type": "markdown",
   "metadata": {},
   "source": [
    "# Exercício 2 - Resolução Prof"
   ]
  },
  {
   "cell_type": "code",
   "execution_count": 5,
   "metadata": {},
   "outputs": [
    {
     "name": "stdout",
     "output_type": "stream",
     "text": [
      "True\n"
     ]
    }
   ],
   "source": [
    "def verificar_string_na_lista(string, lista):\n",
    "    return string in lista\n",
    "\n",
    "nomes = [\"João\", \"Maria\", \"José\", \"Ana\"]\n",
    "resultado = verificar_string_na_lista(\"José\", nomes)\n",
    "print(resultado)"
   ]
  },
  {
   "attachments": {},
   "cell_type": "markdown",
   "metadata": {},
   "source": [
    "# Função como parâmetros"
   ]
  },
  {
   "cell_type": "code",
   "execution_count": 8,
   "metadata": {},
   "outputs": [
    {
     "name": "stdout",
     "output_type": "stream",
     "text": [
      "9\n"
     ]
    }
   ],
   "source": [
    "def soma(a,b):\n",
    "    return a+b\n",
    "\n",
    "def subtracao(a,b):\n",
    "    return a-b\n",
    "\n",
    "# Realiza as operações da função dada como parametro. \n",
    "# a = número, b = número, func_param = a função que será realizada.\n",
    "def imprime(a,b, func_param):\n",
    "    print(func_param(a,b))\n",
    "\n",
    "imprime(4, 5, soma)"
   ]
  },
  {
   "attachments": {},
   "cell_type": "markdown",
   "metadata": {},
   "source": [
    "# Exercício 3 - Empacotamento e desempacotamento de parâmetros"
   ]
  },
  {
   "cell_type": "code",
   "execution_count": 20,
   "metadata": {},
   "outputs": [
    {
     "name": "stdout",
     "output_type": "stream",
     "text": [
      "A media é 6.75\n"
     ]
    }
   ],
   "source": [
    "def soma(a, b):\n",
    "    return a + b\n",
    "\n",
    "def sub(a, b):\n",
    "    return a - b\n",
    "\n",
    "def mult(a, b):\n",
    "    return a * b\n",
    "\n",
    "def div(a, b):\n",
    "    return a / b\n",
    "\n",
    "def operação(a, b, func_param):\n",
    "    return func_param(a,b)\n",
    "\n",
    "media = (operação(2,3,soma) + operação(4,2,sub) + operação(3,5,mult) + operação(20,4,div)) / 4\n",
    "\n",
    "print(f\"A media é {media}\")"
   ]
  },
  {
   "attachments": {},
   "cell_type": "markdown",
   "metadata": {},
   "source": [
    "# Exercício 3 - Resuloção Prof"
   ]
  },
  {
   "cell_type": "code",
   "execution_count": 25,
   "metadata": {},
   "outputs": [
    {
     "name": "stdout",
     "output_type": "stream",
     "text": [
      "média = 6.75\n"
     ]
    }
   ],
   "source": [
    "def soma(a, b):\n",
    "    return a + b\n",
    "\n",
    "def sub(a, b):\n",
    "    return a - b\n",
    "\n",
    "def mult(a, b):\n",
    "    return a * b\n",
    "\n",
    "def div(a, b):\n",
    "    return a / b\n",
    "\n",
    "L_soma = [2,3]\n",
    "L_sub = [4,2]\n",
    "L_mult = [3,5]\n",
    "L_div = [20,4]\n",
    "\n",
    "r_soma = soma(*L_soma)\n",
    "r_sub = sub(*L_sub)\n",
    "r_mult = mult(*L_mult)\n",
    "r_div = div(*L_div)\n",
    "\n",
    "def calcular_media(r_soma, r_sub, r_mult, r_div):\n",
    "    resultado = (r_soma + r_sub + r_mult + r_div) / 4\n",
    "    return resultado\n",
    "\n",
    "print(f\"média = {calcular_media(r_soma, r_sub, r_mult, r_div)}\")"
   ]
  },
  {
   "attachments": {},
   "cell_type": "markdown",
   "metadata": {},
   "source": [
    "# Aplicação de função em dados (Dataframe)"
   ]
  },
  {
   "cell_type": "code",
   "execution_count": 26,
   "metadata": {},
   "outputs": [
    {
     "name": "stdout",
     "output_type": "stream",
     "text": [
      "Collecting pandas\n",
      "  Downloading pandas-2.1.2-cp311-cp311-win_amd64.whl (10.6 MB)\n",
      "                                              0.0/10.6 MB ? eta -:--:--\n",
      "     --                                       0.6/10.6 MB 8.8 MB/s eta 0:00:02\n",
      "     ----                                     1.1/10.6 MB 11.8 MB/s eta 0:00:01\n",
      "     ------                                   1.7/10.6 MB 10.6 MB/s eta 0:00:01\n",
      "     --------                                 2.2/10.6 MB 10.9 MB/s eta 0:00:01\n",
      "     --------                                 2.3/10.6 MB 11.5 MB/s eta 0:00:01\n",
      "     --------                                 2.3/10.6 MB 11.5 MB/s eta 0:00:01\n",
      "     --------                                 2.3/10.6 MB 11.5 MB/s eta 0:00:01\n",
      "     --------                                 2.3/10.6 MB 11.5 MB/s eta 0:00:01\n",
      "     --------                                 2.3/10.6 MB 11.5 MB/s eta 0:00:01\n",
      "     --------                                 2.3/10.6 MB 11.5 MB/s eta 0:00:01\n",
      "     --------                                 2.3/10.6 MB 11.5 MB/s eta 0:00:01\n",
      "     --------                                 2.3/10.6 MB 11.5 MB/s eta 0:00:01\n",
      "     --------                                 2.3/10.6 MB 11.5 MB/s eta 0:00:01\n",
      "     --------                                 2.3/10.6 MB 11.5 MB/s eta 0:00:01\n",
      "     --------                                 2.3/10.6 MB 11.5 MB/s eta 0:00:01\n",
      "     --------                                 2.3/10.6 MB 11.5 MB/s eta 0:00:01\n",
      "     --------                                 2.3/10.6 MB 11.5 MB/s eta 0:00:01\n",
      "     --------                                 2.3/10.6 MB 11.5 MB/s eta 0:00:01\n",
      "     --------                                 2.3/10.6 MB 11.5 MB/s eta 0:00:01\n",
      "     ----------                               2.9/10.6 MB 3.0 MB/s eta 0:00:03\n",
      "     -------------                            3.5/10.6 MB 3.5 MB/s eta 0:00:03\n",
      "     ---------------                          4.0/10.6 MB 3.8 MB/s eta 0:00:02\n",
      "     ---------------                          4.2/10.6 MB 3.9 MB/s eta 0:00:02\n",
      "     ---------------                          4.2/10.6 MB 3.9 MB/s eta 0:00:02\n",
      "     ---------------                          4.2/10.6 MB 3.9 MB/s eta 0:00:02\n",
      "     ---------------                          4.2/10.6 MB 3.9 MB/s eta 0:00:02\n",
      "     ---------------                          4.2/10.6 MB 3.9 MB/s eta 0:00:02\n",
      "     ---------------                          4.2/10.6 MB 3.9 MB/s eta 0:00:02\n",
      "     ---------------                          4.2/10.6 MB 3.9 MB/s eta 0:00:02\n",
      "     ---------------                          4.2/10.6 MB 3.9 MB/s eta 0:00:02\n",
      "     ---------------                          4.2/10.6 MB 3.9 MB/s eta 0:00:02\n",
      "     ---------------                          4.2/10.6 MB 3.9 MB/s eta 0:00:02\n",
      "     ---------------                          4.2/10.6 MB 3.9 MB/s eta 0:00:02\n",
      "     ---------------                          4.2/10.6 MB 3.9 MB/s eta 0:00:02\n",
      "     ---------------                          4.2/10.6 MB 3.9 MB/s eta 0:00:02\n",
      "     ---------------                          4.2/10.6 MB 3.9 MB/s eta 0:00:02\n",
      "     ----------------                         4.3/10.6 MB 2.5 MB/s eta 0:00:03\n",
      "     ------------------                       4.9/10.6 MB 2.7 MB/s eta 0:00:03\n",
      "     --------------------                     5.4/10.6 MB 2.9 MB/s eta 0:00:02\n",
      "     ----------------------                   6.0/10.6 MB 3.2 MB/s eta 0:00:02\n",
      "     ----------------------                   6.0/10.6 MB 3.2 MB/s eta 0:00:02\n",
      "     ----------------------                   6.0/10.6 MB 3.2 MB/s eta 0:00:02\n",
      "     ----------------------                   6.0/10.6 MB 3.2 MB/s eta 0:00:02\n",
      "     ----------------------                   6.0/10.6 MB 3.2 MB/s eta 0:00:02\n",
      "     ----------------------                   6.0/10.6 MB 3.2 MB/s eta 0:00:02\n",
      "     ----------------------                   6.0/10.6 MB 3.2 MB/s eta 0:00:02\n",
      "     ----------------------                   6.0/10.6 MB 3.2 MB/s eta 0:00:02\n",
      "     ----------------------                   6.0/10.6 MB 3.2 MB/s eta 0:00:02\n",
      "     ----------------------                   6.0/10.6 MB 3.2 MB/s eta 0:00:02\n",
      "     ----------------------                   6.0/10.6 MB 3.2 MB/s eta 0:00:02\n",
      "     ----------------------                   6.0/10.6 MB 3.2 MB/s eta 0:00:02\n",
      "     ----------------------                   6.0/10.6 MB 3.2 MB/s eta 0:00:02\n",
      "     ----------------------                   6.0/10.6 MB 3.2 MB/s eta 0:00:02\n",
      "     ----------------------                   6.0/10.6 MB 3.2 MB/s eta 0:00:02\n",
      "     -----------------------                  6.3/10.6 MB 2.4 MB/s eta 0:00:02\n",
      "     -------------------------                6.8/10.6 MB 2.6 MB/s eta 0:00:02\n",
      "     ---------------------------              7.4/10.6 MB 2.7 MB/s eta 0:00:02\n",
      "     -----------------------------            7.9/10.6 MB 2.9 MB/s eta 0:00:01\n",
      "     -----------------------------            7.9/10.6 MB 2.9 MB/s eta 0:00:01\n",
      "     -----------------------------            7.9/10.6 MB 2.9 MB/s eta 0:00:01\n",
      "     -----------------------------            7.9/10.6 MB 2.9 MB/s eta 0:00:01\n",
      "     -----------------------------            7.9/10.6 MB 2.9 MB/s eta 0:00:01\n",
      "     -----------------------------            7.9/10.6 MB 2.9 MB/s eta 0:00:01\n",
      "     -----------------------------            7.9/10.6 MB 2.9 MB/s eta 0:00:01\n",
      "     -----------------------------            7.9/10.6 MB 2.9 MB/s eta 0:00:01\n",
      "     -----------------------------            7.9/10.6 MB 2.9 MB/s eta 0:00:01\n",
      "     -----------------------------            7.9/10.6 MB 2.9 MB/s eta 0:00:01\n",
      "     -----------------------------            7.9/10.6 MB 2.9 MB/s eta 0:00:01\n",
      "     -----------------------------            7.9/10.6 MB 2.9 MB/s eta 0:00:01\n",
      "     -----------------------------            7.9/10.6 MB 2.9 MB/s eta 0:00:01\n",
      "     -----------------------------            7.9/10.6 MB 2.9 MB/s eta 0:00:01\n",
      "     -----------------------------            7.9/10.6 MB 2.9 MB/s eta 0:00:01\n",
      "     ------------------------------           8.1/10.6 MB 2.4 MB/s eta 0:00:02\n",
      "     --------------------------------         8.6/10.6 MB 2.5 MB/s eta 0:00:01\n",
      "     ----------------------------------       9.1/10.6 MB 2.6 MB/s eta 0:00:01\n",
      "     ------------------------------------     9.7/10.6 MB 2.7 MB/s eta 0:00:01\n",
      "     ------------------------------------     9.7/10.6 MB 2.7 MB/s eta 0:00:01\n",
      "     ------------------------------------     9.7/10.6 MB 2.7 MB/s eta 0:00:01\n",
      "     ------------------------------------     9.7/10.6 MB 2.7 MB/s eta 0:00:01\n",
      "     ------------------------------------     9.7/10.6 MB 2.7 MB/s eta 0:00:01\n",
      "     ------------------------------------     9.7/10.6 MB 2.7 MB/s eta 0:00:01\n",
      "     ------------------------------------     9.7/10.6 MB 2.7 MB/s eta 0:00:01\n",
      "     ------------------------------------     9.7/10.6 MB 2.7 MB/s eta 0:00:01\n",
      "     ------------------------------------     9.7/10.6 MB 2.7 MB/s eta 0:00:01\n",
      "     ------------------------------------     9.7/10.6 MB 2.7 MB/s eta 0:00:01\n",
      "     ------------------------------------     9.7/10.6 MB 2.7 MB/s eta 0:00:01\n",
      "     ------------------------------------     9.7/10.6 MB 2.7 MB/s eta 0:00:01\n",
      "     ------------------------------------     9.7/10.6 MB 2.7 MB/s eta 0:00:01\n",
      "     ------------------------------------     9.7/10.6 MB 2.7 MB/s eta 0:00:01\n",
      "     ------------------------------------     9.7/10.6 MB 2.7 MB/s eta 0:00:01\n",
      "     --------------------------------------   10.1/10.6 MB 2.4 MB/s eta 0:00:01\n",
      "     ---------------------------------------  10.6/10.6 MB 2.4 MB/s eta 0:00:01\n",
      "     ---------------------------------------  10.6/10.6 MB 2.4 MB/s eta 0:00:01\n",
      "     ---------------------------------------  10.6/10.6 MB 2.4 MB/s eta 0:00:01\n",
      "     ---------------------------------------  10.6/10.6 MB 2.4 MB/s eta 0:00:01\n",
      "     ---------------------------------------- 10.6/10.6 MB 2.3 MB/s eta 0:00:00\n",
      "Collecting numpy<2,>=1.23.2 (from pandas)\n",
      "  Downloading numpy-1.26.1-cp311-cp311-win_amd64.whl (15.8 MB)\n",
      "                                              0.0/15.8 MB ? eta -:--:--\n",
      "     -                                        0.5/15.8 MB 9.6 MB/s eta 0:00:02\n",
      "     --                                       1.0/15.8 MB 10.4 MB/s eta 0:00:02\n",
      "     ---                                      1.5/15.8 MB 10.9 MB/s eta 0:00:02\n",
      "     ----                                     1.8/15.8 MB 11.3 MB/s eta 0:00:02\n",
      "     ----                                     1.8/15.8 MB 11.3 MB/s eta 0:00:02\n",
      "     ----                                     1.8/15.8 MB 11.3 MB/s eta 0:00:02\n",
      "     ----                                     1.8/15.8 MB 11.3 MB/s eta 0:00:02\n",
      "     ----                                     1.8/15.8 MB 11.3 MB/s eta 0:00:02\n",
      "     ----                                     1.9/15.8 MB 4.7 MB/s eta 0:00:03\n",
      "     -----                                    2.3/15.8 MB 5.1 MB/s eta 0:00:03\n",
      "     ------                                   2.7/15.8 MB 5.4 MB/s eta 0:00:03\n",
      "     --------                                 3.2/15.8 MB 5.8 MB/s eta 0:00:03\n",
      "     ---------                                3.6/15.8 MB 6.1 MB/s eta 0:00:03\n",
      "     ---------                                3.6/15.8 MB 6.1 MB/s eta 0:00:03\n",
      "     ---------                                3.6/15.8 MB 6.1 MB/s eta 0:00:03\n",
      "     ---------                                3.6/15.8 MB 6.1 MB/s eta 0:00:03\n",
      "     ---------                                3.6/15.8 MB 6.1 MB/s eta 0:00:03\n",
      "     ---------                                3.6/15.8 MB 6.1 MB/s eta 0:00:03\n",
      "     ---------                                3.6/15.8 MB 6.1 MB/s eta 0:00:03\n",
      "     ---------                                3.6/15.8 MB 6.1 MB/s eta 0:00:03\n",
      "     ---------                                3.6/15.8 MB 6.1 MB/s eta 0:00:03\n",
      "     ---------                                3.6/15.8 MB 6.1 MB/s eta 0:00:03\n",
      "     ---------                                3.6/15.8 MB 6.1 MB/s eta 0:00:03\n",
      "     ---------                                3.6/15.8 MB 6.1 MB/s eta 0:00:03\n",
      "     ---------                                3.6/15.8 MB 6.1 MB/s eta 0:00:03\n",
      "     ---------                                3.6/15.8 MB 6.1 MB/s eta 0:00:03\n",
      "     ---------                                3.6/15.8 MB 6.1 MB/s eta 0:00:03\n",
      "     ---------                                3.7/15.8 MB 2.9 MB/s eta 0:00:05\n",
      "     ----------                               4.1/15.8 MB 3.0 MB/s eta 0:00:04\n",
      "     -----------                              4.4/15.8 MB 3.2 MB/s eta 0:00:04\n",
      "     ------------                             4.8/15.8 MB 3.3 MB/s eta 0:00:04\n",
      "     -------------                            5.2/15.8 MB 3.5 MB/s eta 0:00:04\n",
      "     -------------                            5.5/15.8 MB 3.6 MB/s eta 0:00:03\n",
      "     -------------                            5.5/15.8 MB 3.6 MB/s eta 0:00:03\n",
      "     -------------                            5.5/15.8 MB 3.6 MB/s eta 0:00:03\n",
      "     -------------                            5.5/15.8 MB 3.6 MB/s eta 0:00:03\n",
      "     -------------                            5.5/15.8 MB 3.6 MB/s eta 0:00:03\n",
      "     -------------                            5.5/15.8 MB 3.6 MB/s eta 0:00:03\n",
      "     -------------                            5.5/15.8 MB 3.6 MB/s eta 0:00:03\n",
      "     -------------                            5.5/15.8 MB 3.6 MB/s eta 0:00:03\n",
      "     -------------                            5.5/15.8 MB 3.6 MB/s eta 0:00:03\n",
      "     -------------                            5.5/15.8 MB 3.6 MB/s eta 0:00:03\n",
      "     -------------                            5.5/15.8 MB 3.6 MB/s eta 0:00:03\n",
      "     -------------                            5.5/15.8 MB 3.6 MB/s eta 0:00:03\n",
      "     -------------                            5.5/15.8 MB 3.6 MB/s eta 0:00:03\n",
      "     -------------                            5.5/15.8 MB 3.6 MB/s eta 0:00:03\n",
      "     -------------                            5.5/15.8 MB 3.6 MB/s eta 0:00:03\n",
      "     --------------                           5.6/15.8 MB 2.5 MB/s eta 0:00:05\n",
      "     ---------------                          5.9/15.8 MB 2.6 MB/s eta 0:00:04\n",
      "     ----------------                         6.3/15.8 MB 2.7 MB/s eta 0:00:04\n",
      "     -----------------                        6.7/15.8 MB 2.8 MB/s eta 0:00:04\n",
      "     ------------------                       7.1/15.8 MB 2.9 MB/s eta 0:00:03\n",
      "     ------------------                       7.3/15.8 MB 3.0 MB/s eta 0:00:03\n",
      "     ------------------                       7.3/15.8 MB 3.0 MB/s eta 0:00:03\n",
      "     ------------------                       7.3/15.8 MB 3.0 MB/s eta 0:00:03\n",
      "     ------------------                       7.3/15.8 MB 3.0 MB/s eta 0:00:03\n",
      "     ------------------                       7.3/15.8 MB 3.0 MB/s eta 0:00:03\n",
      "     ------------------                       7.3/15.8 MB 3.0 MB/s eta 0:00:03\n",
      "     ------------------                       7.3/15.8 MB 3.0 MB/s eta 0:00:03\n",
      "     ------------------                       7.3/15.8 MB 3.0 MB/s eta 0:00:03\n",
      "     ------------------                       7.3/15.8 MB 3.0 MB/s eta 0:00:03\n",
      "     ------------------                       7.3/15.8 MB 3.0 MB/s eta 0:00:03\n",
      "     ------------------                       7.3/15.8 MB 3.0 MB/s eta 0:00:03\n",
      "     ------------------                       7.3/15.8 MB 3.0 MB/s eta 0:00:03\n",
      "     ------------------                       7.3/15.8 MB 3.0 MB/s eta 0:00:03\n",
      "     ------------------                       7.3/15.8 MB 3.0 MB/s eta 0:00:03\n",
      "     ------------------                       7.3/15.8 MB 3.0 MB/s eta 0:00:03\n",
      "     ------------------                       7.5/15.8 MB 2.4 MB/s eta 0:00:04\n",
      "     -------------------                      7.8/15.8 MB 2.4 MB/s eta 0:00:04\n",
      "     --------------------                     8.2/15.8 MB 2.5 MB/s eta 0:00:04\n",
      "     ---------------------                    8.6/15.8 MB 2.6 MB/s eta 0:00:03\n",
      "     ----------------------                   9.1/15.8 MB 2.7 MB/s eta 0:00:03\n",
      "     -----------------------                  9.1/15.8 MB 2.7 MB/s eta 0:00:03\n",
      "     -----------------------                  9.1/15.8 MB 2.7 MB/s eta 0:00:03\n",
      "     -----------------------                  9.1/15.8 MB 2.7 MB/s eta 0:00:03\n",
      "     -----------------------                  9.1/15.8 MB 2.7 MB/s eta 0:00:03\n",
      "     -----------------------                  9.1/15.8 MB 2.7 MB/s eta 0:00:03\n",
      "     -----------------------                  9.1/15.8 MB 2.7 MB/s eta 0:00:03\n",
      "     -----------------------                  9.1/15.8 MB 2.7 MB/s eta 0:00:03\n",
      "     -----------------------                  9.1/15.8 MB 2.7 MB/s eta 0:00:03\n",
      "     -----------------------                  9.1/15.8 MB 2.7 MB/s eta 0:00:03\n",
      "     -----------------------                  9.1/15.8 MB 2.7 MB/s eta 0:00:03\n",
      "     -----------------------                  9.1/15.8 MB 2.7 MB/s eta 0:00:03\n",
      "     -----------------------                  9.1/15.8 MB 2.7 MB/s eta 0:00:03\n",
      "     -----------------------                  9.1/15.8 MB 2.7 MB/s eta 0:00:03\n",
      "     -----------------------                  9.1/15.8 MB 2.7 MB/s eta 0:00:03\n",
      "     -----------------------                  9.3/15.8 MB 2.3 MB/s eta 0:00:03\n",
      "     ------------------------                 9.7/15.8 MB 2.4 MB/s eta 0:00:03\n",
      "     -------------------------                10.2/15.8 MB 2.4 MB/s eta 0:00:03\n",
      "     ---------------------------              10.7/15.8 MB 2.5 MB/s eta 0:00:03\n",
      "     ---------------------------              11.0/15.8 MB 2.5 MB/s eta 0:00:02\n",
      "     ---------------------------              11.0/15.8 MB 2.5 MB/s eta 0:00:02\n",
      "     ---------------------------              11.0/15.8 MB 2.5 MB/s eta 0:00:02\n",
      "     ---------------------------              11.0/15.8 MB 2.5 MB/s eta 0:00:02\n",
      "     ---------------------------              11.0/15.8 MB 2.5 MB/s eta 0:00:02\n",
      "     ---------------------------              11.0/15.8 MB 2.5 MB/s eta 0:00:02\n",
      "     ---------------------------              11.0/15.8 MB 2.5 MB/s eta 0:00:02\n",
      "     ---------------------------              11.0/15.8 MB 2.5 MB/s eta 0:00:02\n",
      "     ---------------------------              11.0/15.8 MB 2.5 MB/s eta 0:00:02\n",
      "     ---------------------------              11.0/15.8 MB 2.5 MB/s eta 0:00:02\n",
      "     ---------------------------              11.0/15.8 MB 2.5 MB/s eta 0:00:02\n",
      "     ---------------------------              11.0/15.8 MB 2.5 MB/s eta 0:00:02\n",
      "     ---------------------------              11.0/15.8 MB 2.5 MB/s eta 0:00:02\n",
      "     ---------------------------              11.0/15.8 MB 2.5 MB/s eta 0:00:02\n",
      "     ---------------------------              11.0/15.8 MB 2.5 MB/s eta 0:00:02\n",
      "     ----------------------------             11.4/15.8 MB 2.1 MB/s eta 0:00:03\n",
      "     ------------------------------           11.9/15.8 MB 2.1 MB/s eta 0:00:02\n",
      "     -------------------------------          12.3/15.8 MB 2.2 MB/s eta 0:00:02\n",
      "     --------------------------------         12.8/15.8 MB 2.2 MB/s eta 0:00:02\n",
      "     --------------------------------         12.8/15.8 MB 2.2 MB/s eta 0:00:02\n",
      "     --------------------------------         12.8/15.8 MB 2.2 MB/s eta 0:00:02\n",
      "     --------------------------------         12.8/15.8 MB 2.2 MB/s eta 0:00:02\n",
      "     --------------------------------         12.8/15.8 MB 2.2 MB/s eta 0:00:02\n",
      "     --------------------------------         12.8/15.8 MB 2.2 MB/s eta 0:00:02\n",
      "     --------------------------------         12.8/15.8 MB 2.2 MB/s eta 0:00:02\n",
      "     --------------------------------         12.8/15.8 MB 2.2 MB/s eta 0:00:02\n",
      "     --------------------------------         12.8/15.8 MB 2.2 MB/s eta 0:00:02\n",
      "     --------------------------------         12.8/15.8 MB 2.2 MB/s eta 0:00:02\n",
      "     --------------------------------         12.8/15.8 MB 2.2 MB/s eta 0:00:02\n",
      "     --------------------------------         12.8/15.8 MB 2.2 MB/s eta 0:00:02\n",
      "     --------------------------------         12.8/15.8 MB 2.2 MB/s eta 0:00:02\n",
      "     --------------------------------         12.8/15.8 MB 2.2 MB/s eta 0:00:02\n",
      "     --------------------------------         12.8/15.8 MB 2.2 MB/s eta 0:00:02\n",
      "     ---------------------------------        13.1/15.8 MB 1.9 MB/s eta 0:00:02\n",
      "     ----------------------------------       13.5/15.8 MB 1.9 MB/s eta 0:00:02\n",
      "     -----------------------------------      14.0/15.8 MB 2.2 MB/s eta 0:00:01\n",
      "     ------------------------------------     14.5/15.8 MB 2.2 MB/s eta 0:00:01\n",
      "     -------------------------------------    14.7/15.8 MB 2.2 MB/s eta 0:00:01\n",
      "     -------------------------------------    14.7/15.8 MB 2.2 MB/s eta 0:00:01\n",
      "     -------------------------------------    14.7/15.8 MB 2.2 MB/s eta 0:00:01\n",
      "     -------------------------------------    14.7/15.8 MB 2.2 MB/s eta 0:00:01\n",
      "     -------------------------------------    14.7/15.8 MB 2.2 MB/s eta 0:00:01\n",
      "     -------------------------------------    14.7/15.8 MB 2.2 MB/s eta 0:00:01\n",
      "     -------------------------------------    14.7/15.8 MB 2.2 MB/s eta 0:00:01\n",
      "     -------------------------------------    14.7/15.8 MB 2.2 MB/s eta 0:00:01\n",
      "     -------------------------------------    14.7/15.8 MB 2.2 MB/s eta 0:00:01\n",
      "     -------------------------------------    14.7/15.8 MB 2.2 MB/s eta 0:00:01\n",
      "     -------------------------------------    14.7/15.8 MB 2.2 MB/s eta 0:00:01\n",
      "     -------------------------------------    14.7/15.8 MB 2.2 MB/s eta 0:00:01\n",
      "     -------------------------------------    14.7/15.8 MB 2.2 MB/s eta 0:00:01\n",
      "     -------------------------------------    14.7/15.8 MB 2.2 MB/s eta 0:00:01\n",
      "     -------------------------------------    14.7/15.8 MB 2.0 MB/s eta 0:00:01\n",
      "     --------------------------------------   15.1/15.8 MB 2.0 MB/s eta 0:00:01\n",
      "     ---------------------------------------  15.6/15.8 MB 2.0 MB/s eta 0:00:01\n",
      "     ---------------------------------------  15.8/15.8 MB 2.3 MB/s eta 0:00:01\n",
      "     ---------------------------------------  15.8/15.8 MB 2.3 MB/s eta 0:00:01\n",
      "     ---------------------------------------  15.8/15.8 MB 2.3 MB/s eta 0:00:01\n",
      "     ---------------------------------------- 15.8/15.8 MB 2.2 MB/s eta 0:00:00\n",
      "Requirement already satisfied: python-dateutil>=2.8.2 in c:\\python311\\lib\\site-packages (from pandas) (2.8.2)\n",
      "Collecting pytz>=2020.1 (from pandas)\n",
      "  Downloading pytz-2023.3.post1-py2.py3-none-any.whl (502 kB)\n",
      "                                              0.0/502.5 kB ? eta -:--:--\n",
      "     ------------------------------------  501.8/502.5 kB 15.9 MB/s eta 0:00:01\n",
      "     -------------------------------------- 502.5/502.5 kB 7.9 MB/s eta 0:00:00\n",
      "Collecting tzdata>=2022.1 (from pandas)\n",
      "  Using cached tzdata-2023.3-py2.py3-none-any.whl (341 kB)\n",
      "Requirement already satisfied: six>=1.5 in c:\\python311\\lib\\site-packages (from python-dateutil>=2.8.2->pandas) (1.16.0)\n",
      "Installing collected packages: pytz, tzdata, numpy, pandas\n",
      "Successfully installed numpy-1.26.1 pandas-2.1.2 pytz-2023.3.post1 tzdata-2023.3\n",
      "Note: you may need to restart the kernel to use updated packages.\n"
     ]
    },
    {
     "name": "stderr",
     "output_type": "stream",
     "text": [
      "\n",
      "[notice] A new release of pip is available: 23.1.2 -> 23.3.1\n",
      "[notice] To update, run: python.exe -m pip install --upgrade pip\n"
     ]
    }
   ],
   "source": [
    "pip install pandas"
   ]
  },
  {
   "cell_type": "code",
   "execution_count": 27,
   "metadata": {},
   "outputs": [],
   "source": [
    "import pandas as pd"
   ]
  },
  {
   "cell_type": "code",
   "execution_count": 31,
   "metadata": {},
   "outputs": [
    {
     "data": {
      "text/plain": [
       "{'coluna_1': [10, 20, 30, 40, 50],\n",
       " 'coluna_2': [5, 10, 15, 20, 25],\n",
       " 'coluna_3': ['a', 'b', 'c', 'd', 'e'],\n",
       " 'coluna_4': ['x', 'y', 'z', 'w', 'v']}"
      ]
     },
     "execution_count": 31,
     "metadata": {},
     "output_type": "execute_result"
    }
   ],
   "source": [
    "data = {'coluna_1':[10,20,30,40,50],\n",
    "        'coluna_2':[5,10,15,20,25],\n",
    "        'coluna_3':['a', 'b', 'c', 'd', 'e'],\n",
    "        'coluna_4':['x', 'y', 'z', 'w','v']}\n",
    "\n",
    "data"
   ]
  },
  {
   "cell_type": "code",
   "execution_count": 33,
   "metadata": {},
   "outputs": [
    {
     "data": {
      "text/html": [
       "<div>\n",
       "<style scoped>\n",
       "    .dataframe tbody tr th:only-of-type {\n",
       "        vertical-align: middle;\n",
       "    }\n",
       "\n",
       "    .dataframe tbody tr th {\n",
       "        vertical-align: top;\n",
       "    }\n",
       "\n",
       "    .dataframe thead th {\n",
       "        text-align: right;\n",
       "    }\n",
       "</style>\n",
       "<table border=\"1\" class=\"dataframe\">\n",
       "  <thead>\n",
       "    <tr style=\"text-align: right;\">\n",
       "      <th></th>\n",
       "      <th>coluna_1</th>\n",
       "      <th>coluna_2</th>\n",
       "      <th>coluna_3</th>\n",
       "      <th>coluna_4</th>\n",
       "    </tr>\n",
       "  </thead>\n",
       "  <tbody>\n",
       "    <tr>\n",
       "      <th>0</th>\n",
       "      <td>10</td>\n",
       "      <td>5</td>\n",
       "      <td>a</td>\n",
       "      <td>x</td>\n",
       "    </tr>\n",
       "    <tr>\n",
       "      <th>1</th>\n",
       "      <td>20</td>\n",
       "      <td>10</td>\n",
       "      <td>b</td>\n",
       "      <td>y</td>\n",
       "    </tr>\n",
       "    <tr>\n",
       "      <th>2</th>\n",
       "      <td>30</td>\n",
       "      <td>15</td>\n",
       "      <td>c</td>\n",
       "      <td>z</td>\n",
       "    </tr>\n",
       "    <tr>\n",
       "      <th>3</th>\n",
       "      <td>40</td>\n",
       "      <td>20</td>\n",
       "      <td>d</td>\n",
       "      <td>w</td>\n",
       "    </tr>\n",
       "    <tr>\n",
       "      <th>4</th>\n",
       "      <td>50</td>\n",
       "      <td>25</td>\n",
       "      <td>e</td>\n",
       "      <td>v</td>\n",
       "    </tr>\n",
       "  </tbody>\n",
       "</table>\n",
       "</div>"
      ],
      "text/plain": [
       "   coluna_1  coluna_2 coluna_3 coluna_4\n",
       "0        10         5        a        x\n",
       "1        20        10        b        y\n",
       "2        30        15        c        z\n",
       "3        40        20        d        w\n",
       "4        50        25        e        v"
      ]
     },
     "execution_count": 33,
     "metadata": {},
     "output_type": "execute_result"
    }
   ],
   "source": [
    "df = pd.DataFrame(data)\n",
    "df"
   ]
  },
  {
   "cell_type": "code",
   "execution_count": 30,
   "metadata": {},
   "outputs": [
    {
     "data": {
      "text/plain": [
       "150"
      ]
     },
     "execution_count": 30,
     "metadata": {},
     "output_type": "execute_result"
    }
   ],
   "source": [
    "df = pd.DataFrame(data)\n",
    "\n",
    "def soma_coluna_numerica(coluna):\n",
    "    return coluna.sum()\n",
    "\n",
    "resultado_soma = soma_coluna_numerica(df['coluna_1'])\n",
    "resultado_soma"
   ]
  },
  {
   "cell_type": "code",
   "execution_count": 35,
   "metadata": {},
   "outputs": [
    {
     "data": {
      "text/plain": [
       "150"
      ]
     },
     "execution_count": 35,
     "metadata": {},
     "output_type": "execute_result"
    }
   ],
   "source": [
    "# Calculo de média\n",
    "\n",
    "def media_coluna(coluna):\n",
    "    return coluna.sum()\n",
    "\n",
    "resultado = media_coluna(df[\"coluna_1\"])\n",
    "resultado"
   ]
  },
  {
   "attachments": {},
   "cell_type": "markdown",
   "metadata": {},
   "source": [
    "# Exercício 4: Calculo da soma entre duas colunas usando função def"
   ]
  },
  {
   "cell_type": "code",
   "execution_count": 39,
   "metadata": {},
   "outputs": [
    {
     "data": {
      "text/html": [
       "<div>\n",
       "<style scoped>\n",
       "    .dataframe tbody tr th:only-of-type {\n",
       "        vertical-align: middle;\n",
       "    }\n",
       "\n",
       "    .dataframe tbody tr th {\n",
       "        vertical-align: top;\n",
       "    }\n",
       "\n",
       "    .dataframe thead th {\n",
       "        text-align: right;\n",
       "    }\n",
       "</style>\n",
       "<table border=\"1\" class=\"dataframe\">\n",
       "  <thead>\n",
       "    <tr style=\"text-align: right;\">\n",
       "      <th></th>\n",
       "      <th>coluna_1</th>\n",
       "      <th>coluna_2</th>\n",
       "      <th>coluna_3</th>\n",
       "      <th>coluna_4</th>\n",
       "      <th>coluna_5</th>\n",
       "    </tr>\n",
       "  </thead>\n",
       "  <tbody>\n",
       "    <tr>\n",
       "      <th>0</th>\n",
       "      <td>10</td>\n",
       "      <td>5</td>\n",
       "      <td>a</td>\n",
       "      <td>x</td>\n",
       "      <td>15</td>\n",
       "    </tr>\n",
       "    <tr>\n",
       "      <th>1</th>\n",
       "      <td>20</td>\n",
       "      <td>10</td>\n",
       "      <td>b</td>\n",
       "      <td>y</td>\n",
       "      <td>30</td>\n",
       "    </tr>\n",
       "    <tr>\n",
       "      <th>2</th>\n",
       "      <td>30</td>\n",
       "      <td>15</td>\n",
       "      <td>c</td>\n",
       "      <td>z</td>\n",
       "      <td>45</td>\n",
       "    </tr>\n",
       "    <tr>\n",
       "      <th>3</th>\n",
       "      <td>40</td>\n",
       "      <td>20</td>\n",
       "      <td>d</td>\n",
       "      <td>w</td>\n",
       "      <td>60</td>\n",
       "    </tr>\n",
       "    <tr>\n",
       "      <th>4</th>\n",
       "      <td>50</td>\n",
       "      <td>25</td>\n",
       "      <td>e</td>\n",
       "      <td>v</td>\n",
       "      <td>75</td>\n",
       "    </tr>\n",
       "  </tbody>\n",
       "</table>\n",
       "</div>"
      ],
      "text/plain": [
       "   coluna_1  coluna_2 coluna_3 coluna_4  coluna_5\n",
       "0        10         5        a        x        15\n",
       "1        20        10        b        y        30\n",
       "2        30        15        c        z        45\n",
       "3        40        20        d        w        60\n",
       "4        50        25        e        v        75"
      ]
     },
     "execution_count": 39,
     "metadata": {},
     "output_type": "execute_result"
    }
   ],
   "source": [
    "def soma_colunas(coluna_1, coluna_2):\n",
    "    return coluna_1 + coluna_2\n",
    "\n",
    "\n",
    "df['coluna_5'] = soma_colunas(df['coluna_1'], df['coluna_2'])\n",
    "df"
   ]
  },
  {
   "attachments": {},
   "cell_type": "markdown",
   "metadata": {},
   "source": [
    "# Resolução Prof"
   ]
  },
  {
   "cell_type": "code",
   "execution_count": 41,
   "metadata": {},
   "outputs": [],
   "source": [
    "def soma_coluna(df):\n",
    "    df['soma'] = df['coluna_1'] + df['coluna_2']\n",
    "    return df"
   ]
  },
  {
   "cell_type": "code",
   "execution_count": 42,
   "metadata": {},
   "outputs": [
    {
     "data": {
      "text/html": [
       "<div>\n",
       "<style scoped>\n",
       "    .dataframe tbody tr th:only-of-type {\n",
       "        vertical-align: middle;\n",
       "    }\n",
       "\n",
       "    .dataframe tbody tr th {\n",
       "        vertical-align: top;\n",
       "    }\n",
       "\n",
       "    .dataframe thead th {\n",
       "        text-align: right;\n",
       "    }\n",
       "</style>\n",
       "<table border=\"1\" class=\"dataframe\">\n",
       "  <thead>\n",
       "    <tr style=\"text-align: right;\">\n",
       "      <th></th>\n",
       "      <th>coluna_1</th>\n",
       "      <th>coluna_2</th>\n",
       "      <th>coluna_3</th>\n",
       "      <th>coluna_4</th>\n",
       "      <th>coluna_5</th>\n",
       "      <th>soma</th>\n",
       "    </tr>\n",
       "  </thead>\n",
       "  <tbody>\n",
       "    <tr>\n",
       "      <th>0</th>\n",
       "      <td>10</td>\n",
       "      <td>5</td>\n",
       "      <td>a</td>\n",
       "      <td>x</td>\n",
       "      <td>15</td>\n",
       "      <td>15</td>\n",
       "    </tr>\n",
       "    <tr>\n",
       "      <th>1</th>\n",
       "      <td>20</td>\n",
       "      <td>10</td>\n",
       "      <td>b</td>\n",
       "      <td>y</td>\n",
       "      <td>30</td>\n",
       "      <td>30</td>\n",
       "    </tr>\n",
       "    <tr>\n",
       "      <th>2</th>\n",
       "      <td>30</td>\n",
       "      <td>15</td>\n",
       "      <td>c</td>\n",
       "      <td>z</td>\n",
       "      <td>45</td>\n",
       "      <td>45</td>\n",
       "    </tr>\n",
       "    <tr>\n",
       "      <th>3</th>\n",
       "      <td>40</td>\n",
       "      <td>20</td>\n",
       "      <td>d</td>\n",
       "      <td>w</td>\n",
       "      <td>60</td>\n",
       "      <td>60</td>\n",
       "    </tr>\n",
       "    <tr>\n",
       "      <th>4</th>\n",
       "      <td>50</td>\n",
       "      <td>25</td>\n",
       "      <td>e</td>\n",
       "      <td>v</td>\n",
       "      <td>75</td>\n",
       "      <td>75</td>\n",
       "    </tr>\n",
       "  </tbody>\n",
       "</table>\n",
       "</div>"
      ],
      "text/plain": [
       "   coluna_1  coluna_2 coluna_3 coluna_4  coluna_5  soma\n",
       "0        10         5        a        x        15    15\n",
       "1        20        10        b        y        30    30\n",
       "2        30        15        c        z        45    45\n",
       "3        40        20        d        w        60    60\n",
       "4        50        25        e        v        75    75"
      ]
     },
     "execution_count": 42,
     "metadata": {},
     "output_type": "execute_result"
    }
   ],
   "source": [
    "soma_coluna(df)"
   ]
  }
 ],
 "metadata": {
  "kernelspec": {
   "display_name": "Python 3",
   "language": "python",
   "name": "python3"
  },
  "language_info": {
   "codemirror_mode": {
    "name": "ipython",
    "version": 3
   },
   "file_extension": ".py",
   "mimetype": "text/x-python",
   "name": "python",
   "nbconvert_exporter": "python",
   "pygments_lexer": "ipython3",
   "version": "3.11.4"
  },
  "orig_nbformat": 4
 },
 "nbformat": 4,
 "nbformat_minor": 2
}
