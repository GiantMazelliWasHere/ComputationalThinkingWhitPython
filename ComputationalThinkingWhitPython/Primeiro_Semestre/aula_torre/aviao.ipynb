{
 "cells": [
  {
   "attachments": {},
   "cell_type": "markdown",
   "metadata": {},
   "source": [
    "# Aula 04 - 11 / 09 / 2023"
   ]
  },
  {
   "cell_type": "code",
   "execution_count": 1,
   "metadata": {},
   "outputs": [
    {
     "name": "stdout",
     "output_type": "stream",
     "text": [
      "Adicione frango\n",
      "Adicione pepperoni\n",
      "Adcione queijo extra\n"
     ]
    }
   ],
   "source": [
    "# Estrutura If\n",
    "\n",
    "cobertura_requisitada = ['frango', 'pepperoni', 'queijo_extra']\n",
    "\n",
    "if 'frango' in cobertura_requisitada:\n",
    "    print(\"Adicione frango\")\n",
    "if 'pepperoni' in cobertura_requisitada:\n",
    "    print(\"Adicione pepperoni\")\n",
    "if 'queijo_extra' in cobertura_requisitada:\n",
    "    print('Adcione queijo extra')"
   ]
  },
  {
   "cell_type": "code",
   "execution_count": 2,
   "metadata": {},
   "outputs": [
    {
     "name": "stdout",
     "output_type": "stream",
     "text": [
      "Adicione frango\n"
     ]
    }
   ],
   "source": [
    "# Estrutura If\n",
    "\n",
    "cobertura_requisitada = ['frango', 'pepperoni', 'queijo_extra']\n",
    "\n",
    "if 'frango' in cobertura_requisitada:\n",
    "    print(\"Adicione frango\")\n",
    "elif 'pepperoni' in cobertura_requisitada:\n",
    "    print(\"Adicione pepperoni\")\n",
    "else:\n",
    "    print(\"Faça o pedido de outra cobertura\")"
   ]
  },
  {
   "cell_type": "code",
   "execution_count": 3,
   "metadata": {},
   "outputs": [
    {
     "ename": "ValueError",
     "evalue": "invalid literal for int() with base 10: ''",
     "output_type": "error",
     "traceback": [
      "\u001b[1;31m---------------------------------------------------------------------------\u001b[0m",
      "\u001b[1;31mValueError\u001b[0m                                Traceback (most recent call last)",
      "Cell \u001b[1;32mIn[3], line 3\u001b[0m\n\u001b[0;32m      1\u001b[0m \u001b[39m# Radar\u001b[39;00m\n\u001b[1;32m----> 3\u001b[0m velocidade \u001b[39m=\u001b[39m \u001b[39mint\u001b[39;49m(\u001b[39minput\u001b[39;49m(\u001b[39m\"\u001b[39;49m\u001b[39mQual a sua velocidade? \u001b[39;49m\u001b[39m\"\u001b[39;49m))\n\u001b[0;32m      4\u001b[0m limite \u001b[39m=\u001b[39m \u001b[39mint\u001b[39m(\u001b[39minput\u001b[39m(\u001b[39m\"\u001b[39m\u001b[39mO limite era: \u001b[39m\u001b[39m\"\u001b[39m))\n\u001b[0;32m      6\u001b[0m \u001b[39mif\u001b[39;00m velocidade \u001b[39m>\u001b[39m \u001b[39m80\u001b[39m:\n",
      "\u001b[1;31mValueError\u001b[0m: invalid literal for int() with base 10: ''"
     ]
    }
   ],
   "source": [
    "# Radar\n",
    "\n",
    "velocidade = int(input(\"Qual a sua velocidade? \"))\n",
    "limite = int(input(\"O limite era: \"))\n",
    "\n",
    "if velocidade > 80:\n",
    "    print('Você ultrapassou o limite de velocidade permitida. MULTADO!')\n",
    "    multa = (velocidade - limite) * 5\n",
    "    print(f\"Você deverá pagar R${multa} de multa\")\n",
    "else:\n",
    "    print(\"Você não foi multado\")"
   ]
  },
  {
   "cell_type": "code",
   "execution_count": 4,
   "metadata": {},
   "outputs": [
    {
     "name": "stdout",
     "output_type": "stream",
     "text": [
      "Dia de receber o pagamento\n"
     ]
    }
   ],
   "source": [
    "# Minha forma\n",
    "\n",
    "dia_semana = str(input(\"Insira dia da semana\"))\n",
    "dia_mes = str(input(\"Insira um dia do mês\"))\n",
    "dias1 = ['1', '2', '3', '4', '5']\n",
    "dias2 = ['01', '02', '03', '04','05']\n",
    "\n",
    "if dia_semana.lower() != 'sabado' and dia_semana.lower() != 'domingo':\n",
    "    if dia_mes in dias1 or dia_mes in dias2 :\n",
    "        print('Dia de receber o pagamento')\n",
    "else:\n",
    "    print('Não é dia de receber o pagamento')"
   ]
  },
  {
   "cell_type": "code",
   "execution_count": 9,
   "metadata": {},
   "outputs": [
    {
     "name": "stdout",
     "output_type": "stream",
     "text": [
      "It's Payday motherfucker\n"
     ]
    }
   ],
   "source": [
    "# Forma otimizada e mosrada pelo professor\n",
    "\n",
    "dia_semana = str(input(\"Insira dia da semana\"))\n",
    "dia_mes = float(input(\"Insira um dia do mês\"))\n",
    "\n",
    "if dia_semana.lower() != 'sabado' and dia_semana.lower() != 'domingo' and (1 <= dia_mes <=5):\n",
    "    print(\"It's Payday motherfucker\")\n",
    "else:\n",
    "    print(\"We're just a bunch of broke ass n****s\")"
   ]
  },
  {
   "cell_type": "code",
   "execution_count": 19,
   "metadata": {},
   "outputs": [
    {
     "name": "stdout",
     "output_type": "stream",
     "text": [
      "O valor da área é 50.24\n"
     ]
    }
   ],
   "source": [
    "# Calculadora de area\n",
    "import math\n",
    "\n",
    "area_desejada = ['circulo', 'quadrado', 'retangulo']\n",
    "selecao = str(input(\"insira objeto (circulo, quadrado, retangulo): \")).lower()\n",
    "\n",
    "if selecao == 'quadrado':\n",
    "    lado = float(input(\"Valor altura: \"))\n",
    "    area = lado * lado\n",
    "    print(f\"O valor da área é {area}\")\n",
    "elif selecao == 'retangulo':\n",
    "    h = float(input(\"Valor altura: \"))\n",
    "    b = float(input(\"Valor base: \"))\n",
    "    area = h * b\n",
    "    print(f\"O valor da área é {area}\")\n",
    "elif selecao == 'circulo':\n",
    "    r = float(input(\"Qual o valor do raio\"))\n",
    "    area = 3.14 * (r ** 2)\n",
    "    print(f\"O valor da área é {area}\")\n",
    "else:\n",
    "    print('Opção inválida')\n",
    "\n"
   ]
  },
  {
   "cell_type": "code",
   "execution_count": 21,
   "metadata": {},
   "outputs": [
    {
     "name": "stdout",
     "output_type": "stream",
     "text": [
      "O valor da área é 12.56\n"
     ]
    }
   ],
   "source": [
    "# Calculadora de area\n",
    "import math\n",
    "\n",
    "area_desejada = ['circulo', 'quadrado', 'retangulo']\n",
    "selecao = str(input(\"insira objeto (circulo, quadrado, retangulo): \")).lower()\n",
    "\n",
    "if selecao == 'quadrado' or selecao == 'retangulo':\n",
    "    h = float(input(\"Valor altura: \"))\n",
    "    b = float(input(\"Valor base: \"))\n",
    "    area = h * b\n",
    "    print(f\"O valor da área é {area}\")\n",
    "elif selecao == 'circulo':\n",
    "    r = float(input(\"Qual o valor do raio\"))\n",
    "    area = 3.14 * (r ** 2)\n",
    "    print(f\"O valor da área é {area}\")\n",
    "else:\n",
    "    print('Opção inválida')\n",
    "\n"
   ]
  },
  {
   "cell_type": "code",
   "execution_count": 22,
   "metadata": {},
   "outputs": [
    {
     "name": "stdout",
     "output_type": "stream",
     "text": [
      "A letra é 'a'\n"
     ]
    }
   ],
   "source": [
    "letra = input(\"Digite letra: \")\n",
    "palavra = input(\"Dgite palavra: \")\n",
    "\n",
    "if letra in palavra:\n",
    "    print(f\"A letra é '{letra}'\")\n",
    "else:\n",
    "    print(\"Não existe a letra na palavra.\")"
   ]
  },
  {
   "cell_type": "code",
   "execution_count": 30,
   "metadata": {},
   "outputs": [
    {
     "name": "stdout",
     "output_type": "stream",
     "text": [
      "Seu carro é Rolls Royce\n"
     ]
    }
   ],
   "source": [
    "lista_carros = ['porsche', 'ferrari', 'lamborghini', 'bugatti', 'rolls royce']\n",
    "\n",
    "carro_desejado = str(input('Digite o carro desejado: ')).lower()\n",
    "\n",
    "if carro_desejado in lista_carros:\n",
    "    print(f\"Seu carro é {carro_desejado.title()}\")\n",
    "else:\n",
    "    print(\"Carro não está na lista\")"
   ]
  },
  {
   "cell_type": "code",
   "execution_count": 32,
   "metadata": {},
   "outputs": [
    {
     "name": "stdout",
     "output_type": "stream",
     "text": [
      "seu numero secreto é 50\n"
     ]
    }
   ],
   "source": [
    "primeiro_numero = int(input('Digite o primeiro numero: '))\n",
    "segundo_numero = int(input('Digite o segundo numero: '))\n",
    "\n",
    "if primeiro_numero >= 0 and primeiro_numero <= 10:\n",
    "    if segundo_numero >= 0 and segundo_numero <= 10:\n",
    "        print(\"seu numero secreto é\", primeiro_numero * segundo_numero)\n",
    "    else:\n",
    "        print('Segundo valor inválido')\n",
    "elif (primeiro_numero < 0 or primeiro_numero > 10) and (segundo_numero < 0 or segundo_numero > 10):\n",
    "    print('Os dois numeros estão incorretos')\n",
    "else:\n",
    "    print('Primeiro valor inválido')"
   ]
  },
  {
   "cell_type": "code",
   "execution_count": 36,
   "metadata": {},
   "outputs": [
    {
     "ename": "ValueError",
     "evalue": "invalid literal for int() with base 10: ''",
     "output_type": "error",
     "traceback": [
      "\u001b[1;31m---------------------------------------------------------------------------\u001b[0m",
      "\u001b[1;31mValueError\u001b[0m                                Traceback (most recent call last)",
      "Cell \u001b[1;32mIn[36], line 1\u001b[0m\n\u001b[1;32m----> 1\u001b[0m idade \u001b[39m=\u001b[39m \u001b[39mint\u001b[39;49m(\u001b[39minput\u001b[39;49m(\u001b[39m'\u001b[39;49m\u001b[39mDigite a idade: \u001b[39;49m\u001b[39m'\u001b[39;49m))\n\u001b[0;32m      2\u001b[0m rg \u001b[39m=\u001b[39m \u001b[39mstr\u001b[39m(\u001b[39minput\u001b[39m(\u001b[39m'\u001b[39m\u001b[39mVocê possui RG: \u001b[39m\u001b[39m'\u001b[39m))\u001b[39m.\u001b[39mlower()\n\u001b[0;32m      4\u001b[0m \u001b[39mif\u001b[39;00m idade \u001b[39m>\u001b[39m\u001b[39m=\u001b[39m \u001b[39m16\u001b[39m:\n",
      "\u001b[1;31mValueError\u001b[0m: invalid literal for int() with base 10: ''"
     ]
    }
   ],
   "source": [
    "idade = int(input('Digite a idade: '))\n",
    "rg = str(input('Você possui RG: ')).lower()\n",
    "\n",
    "if idade >= 16:\n",
    "    if rg == 'sim':\n",
    "        print('Você pode votar')\n",
    "    else:\n",
    "        print('Você possui idade para votar porem lhe falta a documentação correta')\n",
    "else:\n",
    "    print('Você não pode votar')"
   ]
  },
  {
   "cell_type": "code",
   "execution_count": 4,
   "metadata": {},
   "outputs": [
    {
     "name": "stdout",
     "output_type": "stream",
     "text": [
      "adicione tomate\n",
      "adicione pepperoni\n",
      "adicione queijo extra\n",
      "adicione cebola\n",
      "\n",
      " Sua pizza está pronta\n"
     ]
    }
   ],
   "source": [
    "cobertura_requisitada = ['tomate', 'pepperoni', 'queijo extra', 'cebola']\n",
    "\n",
    "for wellighton in cobertura_requisitada:\n",
    "    print(f'adicione {wellighton}')\n",
    "print('\\n Sua pizza está pronta')"
   ]
  },
  {
   "cell_type": "code",
   "execution_count": 5,
   "metadata": {},
   "outputs": [
    {
     "name": "stdout",
     "output_type": "stream",
     "text": [
      "maça\n",
      "melancia\n"
     ]
    }
   ],
   "source": [
    "frutas = ['maça', 'banana', 'melancia']\n",
    "\n",
    "for jesus in frutas:\n",
    "    if jesus == 'banana':\n",
    "        continue\n",
    "    print(jesus)"
   ]
  },
  {
   "cell_type": "code",
   "execution_count": 6,
   "metadata": {},
   "outputs": [
    {
     "name": "stdout",
     "output_type": "stream",
     "text": [
      "maça\n"
     ]
    }
   ],
   "source": [
    "frutas = ['maça', 'banana', 'melancia']\n",
    "\n",
    "for jesus in frutas:\n",
    "    if jesus == 'banana':\n",
    "        break\n",
    "    print(jesus)"
   ]
  }
 ],
 "metadata": {
  "kernelspec": {
   "display_name": "Python 3",
   "language": "python",
   "name": "python3"
  },
  "language_info": {
   "codemirror_mode": {
    "name": "ipython",
    "version": 3
   },
   "file_extension": ".py",
   "mimetype": "text/x-python",
   "name": "python",
   "nbconvert_exporter": "python",
   "pygments_lexer": "ipython3",
   "version": "3.11.4"
  },
  "orig_nbformat": 4
 },
 "nbformat": 4,
 "nbformat_minor": 2
}
