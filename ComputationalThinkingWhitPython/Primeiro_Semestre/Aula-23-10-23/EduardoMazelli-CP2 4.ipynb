{
  "cells": [
    {
      "cell_type": "markdown",
      "metadata": {},
      "source": [
        "# CP 2 - Computational Thinking with Python - Eduardo Mazelli"
      ]
    },
    {
      "cell_type": "markdown",
      "metadata": {},
      "source": [
        "# Exercício 1"
      ]
    },
    {
      "cell_type": "code",
      "execution_count": 15,
      "metadata": {},
      "outputs": [
        {
          "name": "stdout",
          "output_type": "stream",
          "text": [
            "[('Feijão', 250.0), ('Açucar', 180.0), ('Arroz', 500), ('Café em Grãos', 270.0)]\n"
          ]
        }
      ],
      "source": [
        "# Criando as listas com os itens, estoque e preços\n",
        "itens = ['Feijão', 'Leite', 'Açucar', 'Arroz', 'Azeitona', 'Café em Grãos']\n",
        "estoque = [50, 20, 30, 50, 30, 90]\n",
        "precos = [5.0, 2.0, 6.0, 10, 3.0, 3.0]\n",
        "\n",
        "# Usando a função 'zip' combinamos as tres listas com uma condição de que apenas itens acima de 100 na relação estoque x preço entrem\n",
        "combine = [(a, b * c) for a, b, c in zip(itens, estoque, precos) if b * c > 100]\n",
        "\n",
        "# Imprimindo/Mostrando na tela o resultado final da variavel combine\n",
        "print(combine)"
      ]
    },
    {
      "cell_type": "markdown",
      "metadata": {},
      "source": [
        "# Exercíco 2"
      ]
    },
    {
      "cell_type": "code",
      "execution_count": 77,
      "metadata": {},
      "outputs": [
        {
          "name": "stdout",
          "output_type": "stream",
          "text": [
            "Acesso Negado\n"
          ]
        }
      ],
      "source": [
        "# Criando as listas com as senhas, nomes e cpfs corretos\n",
        "senhas_corretas=[\"senha123\", \"abc456\", \"qwerty\", \"admin123\", \"letmein\"]\n",
        "nomes_corretos=[\"Joao Silva\", \"Maria Oliveira\", \"Pedro Santos\", \"Ana Souza\", \"Carlos Pereira\"]\n",
        "cpfs_corretos=[\"123.456.789-00\", \"987.654.321-00\", \"456.789.123-00\", \"321.654.987-00\", \"789.123.456-00\"]\n",
        "\n",
        "# Criando uma lista e pedindo ao usúario para nos informar: Sua senha, seu nome e seu cpf \n",
        "senha = [str(input('Digite sua senha: '))]\n",
        "nome = [str(input('Digite seu nome: '))]\n",
        "cpf = [str(input('Digite seu CPF: '))]\n",
        "\n",
        "# Usando a funçaõ zip combinei as listas de input do usuario para facilitar a validação\n",
        "dados = [(x, y, z) for x, y, z in zip(senha, nome, cpf)]\n",
        "\n",
        "# Combinei as listas de senhas/nomes/cpfs corretos criando as combinações corretas que devem ser colocadas\n",
        "combine = [(a, b, c) for a, b, c in zip(senhas_corretas, nomes_corretos, cpfs_corretos)]\n",
        "\n",
        "# Algoritimo criado para validar o input do úsuario com as listas de combinações corretas\n",
        "for d in dados:\n",
        "    if d in combine:\n",
        "        print(\"Acesso Permitido\")\n",
        "    else:\n",
        "        print(\"Acesso Negado\")\n",
        "            "
      ]
    },
    {
      "cell_type": "markdown",
      "metadata": {},
      "source": [
        "# Exercicío 3"
      ]
    },
    {
      "cell_type": "markdown",
      "metadata": {},
      "source": [
        "# a)"
      ]
    },
    {
      "cell_type": "code",
      "execution_count": 14,
      "metadata": {},
      "outputs": [
        {
          "name": "stdout",
          "output_type": "stream",
          "text": [
            "[('A', 650), ('B', 815), ('C', 605), ('D', 1190), ('E', 950), ('F', 1080), ('G', 1195)]\n"
          ]
        }
      ],
      "source": [
        "# Informando as variáveis em forma de listas:\n",
        "produtos=[\"A\", \"B\", \"C\", \"D\", \"E\", \"F\", \"G\"]\n",
        "vendas_janeiro=[150, 200, 100, 300, 250, 230, 250]\n",
        "vendas_fevereiro=[120, 180, 150, 280, 200, 210, 240]\n",
        "vendas_marco=[200, 220, 170, 320, 250, 230, 315]\n",
        "vendas_abril=[180, 215, 185, 290, 250, 410, 390]\n",
        "\n",
        "# Usando a função 'zip' criei uma lista contendo o nome do produto e a soma dos valores das lista de vendas\n",
        "combine = [(a, b + c + d + e) for a, b, c, d, e in zip(produtos, vendas_janeiro, vendas_fevereiro, vendas_abril, vendas_marco)]\n",
        "\n",
        "# Imprimindo/Mostrando na tela o resultado\n",
        "print(combine)"
      ]
    },
    {
      "cell_type": "markdown",
      "metadata": {},
      "source": [
        "# b)"
      ]
    },
    {
      "cell_type": "code",
      "execution_count": 74,
      "metadata": {},
      "outputs": [
        {
          "name": "stdout",
          "output_type": "stream",
          "text": [
            "Produtos mais vendidos em: Janeiro: (300, 'D'). Fevereiro: (280, 'D'). Março: (320, 'D'). Abril: (410, 'F')\n"
          ]
        }
      ],
      "source": [
        "# Informando as variáveis em forma de listas:\n",
        "produtos=[\"A\", \"B\", \"C\", \"D\", \"E\", \"F\", \"G\"]\n",
        "vendas_janeiro=[150, 200, 100, 300, 250, 230, 250]\n",
        "vendas_fevereiro=[120, 180, 150, 280, 200, 210, 240]\n",
        "vendas_marco=[200, 220, 170, 320, 250, 230, 315]\n",
        "vendas_abril=[180, 215, 185, 290, 250, 410, 390]\n",
        "    \n",
        "# Usando a função 'zip' criei uma lista para cada mês contendo apenas os produtos e a quantidade de venda\n",
        "combine_janeiro = [(b, a) for a, b in zip(produtos, vendas_janeiro)]\n",
        "combine_fevereiro = [(b, a) for a, b in zip(produtos, vendas_fevereiro)]\n",
        "combine_marco = [(b, a) for a, b in zip(produtos, vendas_marco)]\n",
        "combine_abril = [(b, a) for a, b in zip(produtos, vendas_abril)]\n",
        "\n",
        "# Imprimindo/Mostrando eu formatei para que a string contesse as máximas de cada lista combine, resultado nos produtos mais vendidos de cada mês\n",
        "print(f\"Produtos mais vendidos em: Janeiro: {max(combine_janeiro)}. Fevereiro: {max(combine_fevereiro)}. Março: {max(combine_marco)}. Abril: {max(combine_abril)}\")"
      ]
    },
    {
      "cell_type": "markdown",
      "metadata": {},
      "source": [
        "# c)"
      ]
    },
    {
      "cell_type": "code",
      "execution_count": 53,
      "metadata": {},
      "outputs": [
        {
          "name": "stdout",
          "output_type": "stream",
          "text": [
            "O produto com mais vendas foi: (50.0, 'C')\n"
          ]
        }
      ],
      "source": [
        "# Informando as variáveis em forma de listas:\n",
        "produtos=[\"A\", \"B\", \"C\", \"D\", \"E\", \"F\", \"G\"]\n",
        "vendas_janeiro=[150, 200, 100, 300, 250, 230, 250]\n",
        "vendas_fevereiro=[120, 180, 150, 280, 200, 210, 240]\n",
        "vendas_marco=[200, 220, 170, 320, 250, 230, 315]\n",
        "vendas_abril=[180, 215, 185, 290, 250, 410, 390]\n",
        "\n",
        "# Cria uma lista dos produtos junto do percentual de cresimento entre janeiro e fevereiro.\n",
        "combine = [(((c-b)/b)*100, a) for a, b, c in zip(produtos, vendas_janeiro, vendas_fevereiro)]\n",
        "\n",
        "# Seleciona o intem com o maior percentual dentro da lista combine\n",
        "mais_vendido = max(combine)\n",
        "           \n",
        "# Imprimindo/Mostrando o produto com mair percentual\n",
        "print(f'O produto com maior crecimento de percentual de vendas foi: {mais_vendido}')"
      ]
    },
    {
      "cell_type": "markdown",
      "metadata": {},
      "source": [
        "# d)"
      ]
    },
    {
      "cell_type": "code",
      "execution_count": 31,
      "metadata": {},
      "outputs": [
        {
          "name": "stdout",
          "output_type": "stream",
          "text": [
            "[('A', 150, 120, -20), ('B', 200, 180, -5), ('D', 300, 280, -30)]\n"
          ]
        }
      ],
      "source": [
        "# Informando as variáveis em forma de listas:\n",
        "produtos=[\"A\", \"B\", \"C\", \"D\", \"E\", \"F\", \"G\"]\n",
        "vendas_janeiro=[150, 200, 100, 300, 250, 230, 250]\n",
        "vendas_fevereiro=[120, 180, 150, 280, 200, 210, 240]\n",
        "vendas_marco=[200, 220, 170, 320, 250, 230, 315]\n",
        "vendas_abril=[180, 215, 185, 290, 250, 410, 390]\n",
        "\n",
        "# Usando a função 'zip' criei uma lista contendo apenas os produtos que fazem parte da condição de que a subtração das vendas_abril pelas vendas_marco seja menor que zero\n",
        "combine = [(a, b, c, e - d) for a, b, c, d, e in zip(produtos, vendas_janeiro, vendas_fevereiro, vendas_marco, vendas_abril) if e - d < 0]\n",
        "\n",
        "# Imprimindo/Mostrando na tela o resultado\n",
        "print(combine)"
      ]
    },
    {
      "attachments": {},
      "cell_type": "markdown",
      "metadata": {},
      "source": [
        "# d) Corrigido"
      ]
    },
    {
      "cell_type": "code",
      "execution_count": 3,
      "metadata": {},
      "outputs": [
        {
          "name": "stdout",
          "output_type": "stream",
          "text": [
            "[('A', -20), ('B', -5), ('D', -30)]\n"
          ]
        }
      ],
      "source": [
        "# Informando as variáveis em forma de listas:\n",
        "produtos=[\"A\", \"B\", \"C\", \"D\", \"E\", \"F\", \"G\"]\n",
        "vendas_marco=[200, 220, 170, 320, 250, 230, 315]\n",
        "vendas_abril=[180, 215, 185, 290, 250, 410, 390]\n",
        "\n",
        "# Usando a função 'zip' criei uma lista contendo apenas os produtos que fazem parte da condição de que a subtração das vendas_abril pelas vendas_marco seja menor que zero\n",
        "combine = [(a, c - b) for a, b, c in zip(produtos, vendas_marco, vendas_abril) if c - b < 0]\n",
        "\n",
        "# Imprimindo/Mostrando na tela o resultado\n",
        "print(combine)"
      ]
    }
  ],
  "metadata": {
    "kernel_info": {
      "name": "python"
    },
    "kernelspec": {
      "display_name": "Python 3",
      "language": "python",
      "name": "python3"
    },
    "language_info": {
      "codemirror_mode": {
        "name": "ipython",
        "version": 3
      },
      "file_extension": ".py",
      "mimetype": "text/x-python",
      "name": "python",
      "nbconvert_exporter": "python",
      "pygments_lexer": "ipython3",
      "version": "3.11.4"
    },
    "nteract": {
      "version": "nteract-front-end@1.0.0"
    }
  },
  "nbformat": 4,
  "nbformat_minor": 2
}
