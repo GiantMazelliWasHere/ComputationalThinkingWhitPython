{
 "cells": [
  {
   "cell_type": "code",
   "execution_count": 1,
   "metadata": {},
   "outputs": [
    {
     "name": "stdout",
     "output_type": "stream",
     "text": [
      "Collecting sympy\n",
      "  Downloading sympy-1.12-py3-none-any.whl (5.7 MB)\n",
      "                                              0.0/5.7 MB ? eta -:--:--\n",
      "     --                                       0.4/5.7 MB 12.2 MB/s eta 0:00:01\n",
      "     --------                                 1.2/5.7 MB 10.5 MB/s eta 0:00:01\n",
      "     -----------                              1.7/5.7 MB 10.9 MB/s eta 0:00:01\n",
      "     ------------                             1.8/5.7 MB 10.5 MB/s eta 0:00:01\n",
      "     ------------                             1.8/5.7 MB 10.5 MB/s eta 0:00:01\n",
      "     ------------                             1.8/5.7 MB 10.5 MB/s eta 0:00:01\n",
      "     ------------                             1.8/5.7 MB 10.5 MB/s eta 0:00:01\n",
      "     ------------                             1.8/5.7 MB 10.5 MB/s eta 0:00:01\n",
      "     ---------------                          2.2/5.7 MB 5.1 MB/s eta 0:00:01\n",
      "     -------------------                      2.8/5.7 MB 5.8 MB/s eta 0:00:01\n",
      "     -----------------------                  3.4/5.7 MB 6.3 MB/s eta 0:00:01\n",
      "     -------------------------                3.7/5.7 MB 6.5 MB/s eta 0:00:01\n",
      "     -------------------------                3.7/5.7 MB 6.5 MB/s eta 0:00:01\n",
      "     -------------------------                3.7/5.7 MB 6.5 MB/s eta 0:00:01\n",
      "     -------------------------                3.7/5.7 MB 6.5 MB/s eta 0:00:01\n",
      "     -------------------------                3.7/5.7 MB 6.5 MB/s eta 0:00:01\n",
      "     -------------------------                3.7/5.7 MB 6.5 MB/s eta 0:00:01\n",
      "     -------------------------                3.7/5.7 MB 6.5 MB/s eta 0:00:01\n",
      "     -------------------------                3.7/5.7 MB 6.5 MB/s eta 0:00:01\n",
      "     -------------------------                3.7/5.7 MB 6.5 MB/s eta 0:00:01\n",
      "     -------------------------                3.7/5.7 MB 6.5 MB/s eta 0:00:01\n",
      "     -------------------------                3.7/5.7 MB 6.5 MB/s eta 0:00:01\n",
      "     -------------------------                3.7/5.7 MB 6.5 MB/s eta 0:00:01\n",
      "     -------------------------                3.7/5.7 MB 6.5 MB/s eta 0:00:01\n",
      "     -------------------------                3.7/5.7 MB 6.5 MB/s eta 0:00:01\n",
      "     -----------------------------            4.2/5.7 MB 3.3 MB/s eta 0:00:01\n",
      "     --------------------------------         4.7/5.7 MB 3.6 MB/s eta 0:00:01\n",
      "     ------------------------------------     5.3/5.7 MB 3.9 MB/s eta 0:00:01\n",
      "     --------------------------------------   5.5/5.7 MB 4.0 MB/s eta 0:00:01\n",
      "     --------------------------------------   5.5/5.7 MB 4.0 MB/s eta 0:00:01\n",
      "     --------------------------------------   5.5/5.7 MB 4.0 MB/s eta 0:00:01\n",
      "     --------------------------------------   5.5/5.7 MB 4.0 MB/s eta 0:00:01\n",
      "     --------------------------------------   5.5/5.7 MB 4.0 MB/s eta 0:00:01\n",
      "     --------------------------------------   5.5/5.7 MB 4.0 MB/s eta 0:00:01\n",
      "     --------------------------------------   5.5/5.7 MB 4.0 MB/s eta 0:00:01\n",
      "     --------------------------------------   5.5/5.7 MB 4.0 MB/s eta 0:00:01\n",
      "     --------------------------------------   5.5/5.7 MB 4.0 MB/s eta 0:00:01\n",
      "     --------------------------------------   5.5/5.7 MB 4.0 MB/s eta 0:00:01\n",
      "     --------------------------------------   5.5/5.7 MB 4.0 MB/s eta 0:00:01\n",
      "     --------------------------------------   5.5/5.7 MB 4.0 MB/s eta 0:00:01\n",
      "     --------------------------------------   5.5/5.7 MB 4.0 MB/s eta 0:00:01\n",
      "     --------------------------------------   5.5/5.7 MB 4.0 MB/s eta 0:00:01\n",
      "     ---------------------------------------  5.7/5.7 MB 2.8 MB/s eta 0:00:01\n",
      "     ---------------------------------------  5.7/5.7 MB 2.8 MB/s eta 0:00:01\n",
      "     ---------------------------------------  5.7/5.7 MB 2.8 MB/s eta 0:00:01\n",
      "     ---------------------------------------  5.7/5.7 MB 2.8 MB/s eta 0:00:01\n",
      "     ---------------------------------------  5.7/5.7 MB 2.8 MB/s eta 0:00:01\n",
      "     ---------------------------------------  5.7/5.7 MB 2.8 MB/s eta 0:00:01\n",
      "     ---------------------------------------- 5.7/5.7 MB 2.5 MB/s eta 0:00:00\n",
      "Collecting mpmath>=0.19 (from sympy)\n",
      "  Downloading mpmath-1.3.0-py3-none-any.whl (536 kB)\n",
      "                                              0.0/536.2 kB ? eta -:--:--\n",
      "     -------------------------------        450.6/536.2 kB 9.4 MB/s eta 0:00:01\n",
      "     -------------------------------------  532.5/536.2 kB 8.3 MB/s eta 0:00:01\n",
      "     -------------------------------------  532.5/536.2 kB 8.3 MB/s eta 0:00:01\n",
      "     -------------------------------------  532.5/536.2 kB 8.3 MB/s eta 0:00:01\n",
      "     -------------------------------------- 536.2/536.2 kB 2.2 MB/s eta 0:00:00\n",
      "Installing collected packages: mpmath, sympy\n",
      "Successfully installed mpmath-1.3.0 sympy-1.12\n",
      "Note: you may need to restart the kernel to use updated packages.\n"
     ]
    },
    {
     "name": "stderr",
     "output_type": "stream",
     "text": [
      "\n",
      "[notice] A new release of pip is available: 23.1.2 -> 23.2.1\n",
      "[notice] To update, run: python.exe -m pip install --upgrade pip\n"
     ]
    }
   ],
   "source": [
    "pip install sympy"
   ]
  },
  {
   "attachments": {},
   "cell_type": "markdown",
   "metadata": {},
   "source": [
    "# Equações"
   ]
  },
  {
   "cell_type": "code",
   "execution_count": 3,
   "metadata": {},
   "outputs": [],
   "source": [
    "from sympy import *"
   ]
  },
  {
   "cell_type": "code",
   "execution_count": 4,
   "metadata": {},
   "outputs": [],
   "source": [
    "x = Symbol('x')"
   ]
  },
  {
   "cell_type": "code",
   "execution_count": 5,
   "metadata": {},
   "outputs": [
    {
     "name": "stdout",
     "output_type": "stream",
     "text": [
      "2 * x + 10\n"
     ]
    }
   ],
   "source": [
    "print('2 * x + 10')"
   ]
  },
  {
   "cell_type": "code",
   "execution_count": 6,
   "metadata": {},
   "outputs": [
    {
     "data": {
      "text/latex": [
       "$\\displaystyle 2 x^{2} + 10 x$"
      ],
      "text/plain": [
       "2*x**2 + 10*x"
      ]
     },
     "execution_count": 6,
     "metadata": {},
     "output_type": "execute_result"
    }
   ],
   "source": [
    "2 * x**2 + 10 * x"
   ]
  },
  {
   "cell_type": "code",
   "execution_count": 7,
   "metadata": {},
   "outputs": [
    {
     "data": {
      "text/latex": [
       "$\\displaystyle 8 x + 5$"
      ],
      "text/plain": [
       "8*x + 5"
      ]
     },
     "execution_count": 7,
     "metadata": {},
     "output_type": "execute_result"
    }
   ],
   "source": [
    "10 * x - 2 * x + 10 - 5"
   ]
  },
  {
   "attachments": {},
   "cell_type": "markdown",
   "metadata": {},
   "source": [
    "# Derivadas"
   ]
  },
  {
   "cell_type": "code",
   "execution_count": 9,
   "metadata": {},
   "outputs": [
    {
     "data": {
      "text/latex": [
       "$\\displaystyle 10 x^{3} - 20 x + 50$"
      ],
      "text/plain": [
       "10*x**3 - 20*x + 50"
      ]
     },
     "execution_count": 9,
     "metadata": {},
     "output_type": "execute_result"
    }
   ],
   "source": [
    "10 * x**3 - 20 * x + 50"
   ]
  },
  {
   "cell_type": "code",
   "execution_count": 18,
   "metadata": {},
   "outputs": [
    {
     "data": {
      "text/latex": [
       "$\\displaystyle 30 x^{2} - 20$"
      ],
      "text/plain": [
       "30*x**2 - 20"
      ]
     },
     "execution_count": 18,
     "metadata": {},
     "output_type": "execute_result"
    }
   ],
   "source": [
    "(10 * x**3 - 20 * x + 50).diff(x)"
   ]
  },
  {
   "cell_type": "code",
   "execution_count": 19,
   "metadata": {},
   "outputs": [
    {
     "data": {
      "text/latex": [
       "$\\displaystyle \\frac{d}{d x} \\left(10 x^{3} - 20 x + 50\\right)$"
      ],
      "text/plain": [
       "Derivative(10*x**3 - 20*x + 50, x)"
      ]
     },
     "execution_count": 19,
     "metadata": {},
     "output_type": "execute_result"
    }
   ],
   "source": [
    "Derivative(10 * x**3 - 20 * x + 50)"
   ]
  },
  {
   "cell_type": "code",
   "execution_count": 20,
   "metadata": {},
   "outputs": [
    {
     "data": {
      "text/latex": [
       "$\\displaystyle 30 x^{2} - 20$"
      ],
      "text/plain": [
       "30*x**2 - 20"
      ]
     },
     "execution_count": 20,
     "metadata": {},
     "output_type": "execute_result"
    }
   ],
   "source": [
    "Derivative(10 * x**3 - 20 * x + 50).doit()"
   ]
  },
  {
   "attachments": {},
   "cell_type": "markdown",
   "metadata": {},
   "source": [
    "# Escrever algoritimo para problema de média de notas de um determinado aluno"
   ]
  },
  {
   "cell_type": "code",
   "execution_count": 32,
   "metadata": {},
   "outputs": [
    {
     "name": "stdout",
     "output_type": "stream",
     "text": [
      "Sua media é 10.0 portanto, aluno reprovado\n"
     ]
    }
   ],
   "source": [
    "# Poblema 1 - Média dos alunos\n",
    "\n",
    "nota1 = float(input(\"Digite a 1ª nota: \")) \n",
    "nota2 = float(input(\"Digite a 2ª nota: \"))\n",
    "nota3 = float(input(\"Digite a 3ª nota: \"))\n",
    "\n",
    "media = (nota1 + nota2 + nota3) / 3\n",
    "\n",
    "# Estrutura para entender uma condição\n",
    "\n",
    "if media >= 7:\n",
    "    print(F\"Sua media é {media} portanto, aluno reprovado\")\n",
    "else:\n",
    "    print(F\"Sua media é {media} portanto, aluno reprovado\")"
   ]
  },
  {
   "cell_type": "code",
   "execution_count": 8,
   "metadata": {},
   "outputs": [
    {
     "name": "stdout",
     "output_type": "stream",
     "text": [
      "Os valores são iguais. A = 10.0 e B = 10.0\n"
     ]
    }
   ],
   "source": [
    "# Problema 2 - Comparar A e b\n",
    "\n",
    "valor_a = float(input(\"Digite o valor de A: \"))\n",
    "valor_b = float(input(\"Digite o valor de B: \"))\n",
    "\n",
    "if valor_a > valor_b:\n",
    "    print(\"Valor de A maior do que o valor de B. O A é igual a \", valor_a)\n",
    "elif valor_a == valor_b:\n",
    "    print(F\"Os valores são iguais. A = {valor_a} e B = {valor_b}\")\n",
    "else:\n",
    "    print(\"Valor de B maior do que o valor de A. O A é igual a \", valor_b)"
   ]
  },
  {
   "cell_type": "code",
   "execution_count": 15,
   "metadata": {},
   "outputs": [
    {
     "name": "stdout",
     "output_type": "stream",
     "text": [
      "Area indesejada 7.0683750000000005\n"
     ]
    }
   ],
   "source": [
    "# Problema 3 - Área do circulo\n",
    "\n",
    "pi = 3.1415\n",
    "dado = int(input(\"Qual dado será usado: [1]Raio [2]Diâmetro\"))\n",
    "\n",
    "if dado == 1:\n",
    "    raio = int(input(\"Qual é o raio: \"))\n",
    "    area = pi * (raio**2)\n",
    "else:\n",
    "    diametro = int(input(\"Qual o diâmetro: \"))\n",
    "    resultado = diametro / 2\n",
    "    area = pi * (resultado**2)\n",
    "\n",
    "if area > 100:\n",
    "    print(\"Area desejada\", area)\n",
    "else:                 \n",
    "    print(\"Area indesejada\", area)"
   ]
  },
  {
   "cell_type": "code",
   "execution_count": 39,
   "metadata": {},
   "outputs": [
    {
     "name": "stdout",
     "output_type": "stream",
     "text": [
      "É uma Mulher\n"
     ]
    }
   ],
   "source": [
    "# Problema 4 - É homem ou mulher\n",
    "\n",
    "sexo = int(input(\"Qual o seu sexo? [1] Masculino [2] Feminino\"))\n",
    "\n",
    "if sexo == 1:\n",
    "   print(\"É um Homem\")   \n",
    "else:\n",
    "    print(\"É uma Mulher\")"
   ]
  },
  {
   "cell_type": "code",
   "execution_count": null,
   "metadata": {},
   "outputs": [],
   "source": [
    "# Problema 4 - É homem ou mulher forma 2\n",
    "\n",
    "sexo = str(input(\"Inserir o Sexo\"))\n",
    "\n",
    "M = ['M']\n",
    "m = ['m']\n",
    "F = ['F']\n",
    "f = ['f']\n",
    "\n",
    "if (sexo in M) or (sexo in m):\n",
    "    print(\"sexo masculino\")\n",
    "elif (sexo in F) or (sexo in f):\n",
    "    print(\"sexo feminino\")\n",
    "else:\n",
    "    print(\"Valor inválido\")"
   ]
  }
 ],
 "metadata": {
  "kernelspec": {
   "display_name": "Python 3",
   "language": "python",
   "name": "python3"
  },
  "language_info": {
   "codemirror_mode": {
    "name": "ipython",
    "version": 3
   },
   "file_extension": ".py",
   "mimetype": "text/x-python",
   "name": "python",
   "nbconvert_exporter": "python",
   "pygments_lexer": "ipython3",
   "version": "3.11.4"
  },
  "orig_nbformat": 4
 },
 "nbformat": 4,
 "nbformat_minor": 2
}
