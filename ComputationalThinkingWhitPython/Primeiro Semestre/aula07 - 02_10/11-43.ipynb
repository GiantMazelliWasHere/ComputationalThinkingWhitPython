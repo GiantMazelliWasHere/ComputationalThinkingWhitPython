{
 "cells": [
  {
   "attachments": {},
   "cell_type": "markdown",
   "metadata": {},
   "source": [
    "# Aula 07 - 10/02/2023"
   ]
  },
  {
   "attachments": {},
   "cell_type": "markdown",
   "metadata": {},
   "source": [
    "# Tulpas"
   ]
  },
  {
   "cell_type": "code",
   "execution_count": 2,
   "metadata": {},
   "outputs": [
    {
     "name": "stdout",
     "output_type": "stream",
     "text": [
      "[1, 2, 3, 4, 5, 6, 7, 8, 9]\n"
     ]
    }
   ],
   "source": [
    "# Exemplo 1\n",
    "\n",
    "lista1 = [1, 2, 3]\n",
    "lista2 = [4, 5, 6]\n",
    "lista3 = [7, 8, 9]\n",
    "\n",
    "soma = lista1 + lista2 + lista3\n",
    "print(soma)"
   ]
  },
  {
   "cell_type": "code",
   "execution_count": 3,
   "metadata": {},
   "outputs": [
    {
     "name": "stdout",
     "output_type": "stream",
     "text": [
      "[5, 7, 9]\n"
     ]
    }
   ],
   "source": [
    "# Exemplo 2\n",
    "\n",
    "lista1 = [1, 2, 3]\n",
    "lista2 = [4, 5, 6]\n",
    "\n",
    "# Combina valores \"zip\"\n",
    "combine = [a + b for a, b in zip(lista1, lista2)]\n",
    "print(combine)"
   ]
  },
  {
   "cell_type": "code",
   "execution_count": 9,
   "metadata": {},
   "outputs": [
    {
     "name": "stdout",
     "output_type": "stream",
     "text": [
      "{('mclaren', 700), ('porsche', 600), ('bugatti', 800), ('bentley', 500)}\n"
     ]
    }
   ],
   "source": [
    "# Exemplo 3\n",
    "\n",
    "carro = [\"porsche\", \"mclaren\", \"bentley\", \"bugatti\"]\n",
    "potencia = [600, 700, 500, 800]\n",
    "\n",
    "combine = set(zip(carro, potencia))\n",
    "print(combine)"
   ]
  },
  {
   "cell_type": "code",
   "execution_count": 13,
   "metadata": {},
   "outputs": [
    {
     "name": "stdout",
     "output_type": "stream",
     "text": [
      "0 Curry 35\n",
      "1 Jordan 60\n",
      "2 LeBron 38\n"
     ]
    }
   ],
   "source": [
    "# Exemplo 4\n",
    "\n",
    "nomes = [\"Curry\", \"Jordan\", \"LeBron\"]\n",
    "idades = [35, 60, 38]\n",
    "\n",
    "for i, (nome, idade) in enumerate(zip(nomes, idades)):\n",
    "    print(i, nome, idade)"
   ]
  },
  {
   "cell_type": "code",
   "execution_count": 15,
   "metadata": {},
   "outputs": [
    {
     "name": "stdout",
     "output_type": "stream",
     "text": [
      "[(1, 'a', 'lobo'), (2, 'b', 'tigre'), (3, 'c', 'corvo')]\n"
     ]
    }
   ],
   "source": [
    "# Exemplo 5\n",
    "\n",
    "lista1 = [1, 2, 3]\n",
    "lista2 = [\"a\", \"b\", \"c\"]\n",
    "lista3 = [\"lobo\", \"tigre\", \"corvo\"]\n",
    "\n",
    "combine = list(zip(lista1, lista2, lista3))\n",
    "\n",
    "print(combine)\n"
   ]
  },
  {
   "cell_type": "code",
   "execution_count": 19,
   "metadata": {},
   "outputs": [
    {
     "name": "stdout",
     "output_type": "stream",
     "text": [
      "[(2, 'b'), (4, 'd')]\n"
     ]
    }
   ],
   "source": [
    "# Exemplo 6\n",
    "\n",
    "lista1 = [1, 2, 3, 4, 5]\n",
    "lista2 = ['a','b','c','d','e']\n",
    "\n",
    "combine = [(n,b) for n, b in zip(lista1, lista2) if n % 2 == 0]\n",
    "\n",
    "print(combine)"
   ]
  },
  {
   "cell_type": "code",
   "execution_count": 21,
   "metadata": {},
   "outputs": [
    {
     "name": "stdout",
     "output_type": "stream",
     "text": [
      "[(3, 'c'), (4, 'd'), (5, 'e')]\n"
     ]
    }
   ],
   "source": [
    "# Exemplo 6\n",
    "\n",
    "lista1 = [1, 2, 3, 4, 5]\n",
    "lista2 = ['a','b','c','d','e']\n",
    "\n",
    "combine = [(n,b) for n, b in zip(lista1, lista2) if n >= 3]\n",
    "\n",
    "print(combine)"
   ]
  },
  {
   "cell_type": "code",
   "execution_count": 25,
   "metadata": {},
   "outputs": [
    {
     "name": "stdout",
     "output_type": "stream",
     "text": [
      "[8, 12, 0]\n",
      "[9, 7, 13, 21, 25]\n"
     ]
    }
   ],
   "source": [
    "lista1 = [9, 8, 7, 12, 0, 13, 21, 25]\n",
    "\n",
    "lista_par = []\n",
    "lista_impar = []\n",
    "\n",
    "for n in lista1:\n",
    "    if n % 2 == 0:\n",
    "        lista_par.append(n)\n",
    "    else:\n",
    "        lista_impar.append(n)\n",
    "\n",
    "print(lista_par)\n",
    "print(lista_impar)"
   ]
  },
  {
   "cell_type": "code",
   "execution_count": 31,
   "metadata": {},
   "outputs": [
    {
     "name": "stdout",
     "output_type": "stream",
     "text": [
      "[('João', 45, 'Diabetes'), ('Pedro', 30, 'Diabetes')]\n"
     ]
    }
   ],
   "source": [
    "pacientes = [\"João\", \"Maria\", \"Pedro\", \"Ana\"]\n",
    "idades = [45, 60, 30, 50]\n",
    "condicao = [\"Diabetes\", \"Hipertenção\", \"Diabetes\", \"Asma\"]\n",
    "\n",
    "combine = [(a, b, c) for a, b, c in zip(pacientes, idades, condicao) if c == \"Diabetes\"]\n",
    "\n",
    "print(combine)"
   ]
  },
  {
   "cell_type": "code",
   "execution_count": 33,
   "metadata": {},
   "outputs": [
    {
     "name": "stdout",
     "output_type": "stream",
     "text": [
      "[(1, 10), (2, 20), (3, 30), (4, 100), (5, 100)]\n"
     ]
    }
   ],
   "source": [
    "# Exemplo 7\n",
    "\n",
    "lista1 = [1, 2, 3, 4, 5]\n",
    "lista2 = [10, 20, 30]\n",
    "\n",
    "from itertools import zip_longest\n",
    "\n",
    "# zip_longest - preenche a lista com valores faltantes quando queremos unir duas listas\n",
    "\n",
    "combine = list(zip_longest(lista1, lista2, fillvalue = 100))\n",
    "print(combine)"
   ]
  },
  {
   "cell_type": "code",
   "execution_count": 37,
   "metadata": {},
   "outputs": [
    {
     "name": "stdout",
     "output_type": "stream",
     "text": [
      "['o preço de banana é 25.0', 'o preço de laranja é 6.0', 'o preço de uva é 6', 'o preço de maça é 6', 'o preço de pera é 27.0']\n"
     ]
    }
   ],
   "source": [
    "# Exemplo 8\n",
    "\n",
    "precos = [2.50, 1.20, 3, 2, 4.50]\n",
    "quantidades = [10, 5, 2, 3, 6]\n",
    "frutas = ['banana', 'laranja', 'uva', 'maça', 'pêra']\n",
    "\n",
    "combine = [(f\"o preço de {f} é {p * q}\")  for p, q, f in zip(precos, quantidades, frutas) ]\n",
    "print(combine)\n",
    "\n"
   ]
  }
 ],
 "metadata": {
  "kernelspec": {
   "display_name": "Python 3",
   "language": "python",
   "name": "python3"
  },
  "language_info": {
   "codemirror_mode": {
    "name": "ipython",
    "version": 3
   },
   "file_extension": ".py",
   "mimetype": "text/x-python",
   "name": "python",
   "nbconvert_exporter": "python",
   "pygments_lexer": "ipython3",
   "version": "3.11.4"
  },
  "orig_nbformat": 4
 },
 "nbformat": 4,
 "nbformat_minor": 2
}
