{
 "cells": [
  {
   "attachments": {},
   "cell_type": "markdown",
   "metadata": {},
   "source": [
    "# Notas media"
   ]
  },
  {
   "cell_type": "code",
   "execution_count": 8,
   "metadata": {},
   "outputs": [
    {
     "name": "stdout",
     "output_type": "stream",
     "text": [
      "N1: 10.0\n",
      "N2: 5.0\n",
      "N3: 8.0\n",
      "N4: 6.0\n",
      "A média do aluno é: 8.0\n"
     ]
    }
   ],
   "source": [
    "# Inserir quatro notas\n",
    "N1 = float(input(\"inserir a Primeira nota: \"))\n",
    "N2 = float(input(\"inserir a Segunda nota: \"))\n",
    "N3 = float(input(\"inserir a Terceira nota: \"))\n",
    "N4 = float(input(\"inserir a Quarta nota: \"))\n",
    "\n",
    "print(f\"N1: {N1}\")\n",
    "print(f\"N2: {N2}\")\n",
    "print(f\"N3: {N3}\")\n",
    "print(f\"N4: {N4}\")\n",
    "\n",
    "# Calcular a média descartando a menor nota\n",
    "notas = [N1, N2, N3, N4]\n",
    "nota_minima = min(notas)\n",
    "notas.remove(nota_minima)\n",
    "media = sum(notas)/3\n",
    "\n",
    "\n",
    "print(f\"A média do aluno é: {media}\")"
   ]
  },
  {
   "attachments": {},
   "cell_type": "markdown",
   "metadata": {},
   "source": [
    "# Calculo da potência"
   ]
  },
  {
   "cell_type": "code",
   "execution_count": 13,
   "metadata": {},
   "outputs": [
    {
     "name": "stdout",
     "output_type": "stream",
     "text": [
      "Valor da corrente:  4.0\n",
      "Valor da resistência:  2.0\n",
      "Valor da tensão:  0.0\n",
      "32.0\n"
     ]
    }
   ],
   "source": [
    "corrente = float(input(\"Inserir valor de corrente: \"))\n",
    "resistencia = float(input(\"Inserir valor de resistência: \"))\n",
    "tensão = float(input(\"Inserir valor de tensão: \"))\n",
    "\n",
    "print(\"Valor da corrente: \", corrente)\n",
    "print(\"Valor da resistência: \", resistencia)\n",
    "print(\"Valor da tensão: \", tensão)\n",
    "\n",
    "if corrente == 0 and resistencia == 0:\n",
    "    print(\"Não é possível calcular a potência\")\n",
    "elif corrente == 0 and tensão == 0:\n",
    "    print(\"Não é possível calcular a potência\")\n",
    "elif resistencia == 0 and tensão == 0:\n",
    "    print(\"Não é possível calcular a potência\")\n",
    "elif corrente == 0:\n",
    "    print(tensão**2 / resistencia)\n",
    "elif tensão == 0:\n",
    "    print(corrente**2 * resistencia)\n",
    "elif resistencia == 0:\n",
    "    print(tensão * corrente)\n",
    "else:\n",
    "    print(\"Retorne valores válidos\")"
   ]
  }
 ],
 "metadata": {
  "kernelspec": {
   "display_name": "Python 3",
   "language": "python",
   "name": "python3"
  },
  "language_info": {
   "codemirror_mode": {
    "name": "ipython",
    "version": 3
   },
   "file_extension": ".py",
   "mimetype": "text/x-python",
   "name": "python",
   "nbconvert_exporter": "python",
   "pygments_lexer": "ipython3",
   "version": "3.11.4"
  },
  "orig_nbformat": 4
 },
 "nbformat": 4,
 "nbformat_minor": 2
}
