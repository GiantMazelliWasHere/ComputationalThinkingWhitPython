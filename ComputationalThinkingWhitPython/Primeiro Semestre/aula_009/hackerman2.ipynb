{
 "cells": [
  {
   "cell_type": "code",
   "execution_count": 3,
   "metadata": {},
   "outputs": [
    {
     "name": "stdout",
     "output_type": "stream",
     "text": [
      "lista original[1, 2, 3, 4, 5]\n",
      "nova lista: [2, 4, 6, 8, 10]\n"
     ]
    }
   ],
   "source": [
    "# lista_original = [1,2,3,4,5]\n",
    "# nova_lista = []\n",
    "\n",
    "# for elemento in lista_original:\n",
    "#     nova_lista.append(elemento * 2)\n",
    "# print(f'lista original{lista_original}')\n",
    "# print(f'nova lista: {nova_lista}')"
   ]
  },
  {
   "cell_type": "code",
   "execution_count": 8,
   "metadata": {},
   "outputs": [
    {
     "name": "stdout",
     "output_type": "stream",
     "text": [
      "A terceira lista é: [6, 8, 10, 12]\n"
     ]
    }
   ],
   "source": [
    "lista1 = [1,2,3,4]\n",
    "lista2 = [5,6,7,8]\n",
    "soma_elementos = []\n",
    "\n",
    "for i in range(len(lista1)):\n",
    "    soma_elementos.append(lista1[i] + lista2[i])\n",
    "\n",
    "print(f'A terceira lista é: {soma_elementos}')"
   ]
  }
 ],
 "metadata": {
  "kernelspec": {
   "display_name": "Python 3",
   "language": "python",
   "name": "python3"
  },
  "language_info": {
   "codemirror_mode": {
    "name": "ipython",
    "version": 3
   },
   "file_extension": ".py",
   "mimetype": "text/x-python",
   "name": "python",
   "nbconvert_exporter": "python",
   "pygments_lexer": "ipython3",
   "version": "3.11.4"
  },
  "orig_nbformat": 4
 },
 "nbformat": 4,
 "nbformat_minor": 2
}
