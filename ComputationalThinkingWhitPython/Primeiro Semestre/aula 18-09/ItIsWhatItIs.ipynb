{
 "cells": [
  {
   "cell_type": "code",
   "execution_count": 8,
   "metadata": {},
   "outputs": [
    {
     "name": "stdout",
     "output_type": "stream",
     "text": [
      "O resultado será 1\n",
      "O resultado será 3\n",
      "O resultado será 6\n"
     ]
    }
   ],
   "source": [
    "soma = 0\n",
    "\n",
    "for numero in range(1, 4):\n",
    "    soma += numero\n",
    "    print(f\"O resultado será {soma}\")"
   ]
  },
  {
   "cell_type": "code",
   "execution_count": 10,
   "metadata": {},
   "outputs": [
    {
     "name": "stdout",
     "output_type": "stream",
     "text": [
      "O resultado será -1\n",
      "O resultado será -3\n",
      "O resultado será -6\n"
     ]
    }
   ],
   "source": [
    "sub = 0\n",
    "\n",
    "for numero in range(1, 4):\n",
    "    sub -= numero\n",
    "    print(f\"O resultado será {sub}\")"
   ]
  },
  {
   "attachments": {},
   "cell_type": "markdown",
   "metadata": {},
   "source": [
    "# Exercício 1"
   ]
  },
  {
   "cell_type": "code",
   "execution_count": 12,
   "metadata": {},
   "outputs": [
    {
     "name": "stdout",
     "output_type": "stream",
     "text": [
      "O resultado é 1 Carvalho\n",
      "O resultado é 3 Carvalho\n",
      "O resultado é 6 Carvalho\n",
      "O resultado é 10 Carvalho\n",
      "O resultado é 15 Carvalho\n",
      "O resultado é 21 Carvalho\n",
      "O resultado é 28 Carvalho\n",
      "O resultado é 36 Carvalho\n",
      "O resultado é 45 Carvalho\n",
      "O resultado é 55 Carvalho\n",
      "O resultado é 66 Carvalho\n",
      "O resultado é 78 Carvalho\n",
      "O resultado é 91 Carvalho\n",
      "O resultado é 105 Carvalho\n",
      "O resultado é 120 Carvalho\n",
      "O resultado é 136 Carvalho\n",
      "O resultado é 153 Carvalho\n",
      "O resultado é 171 Carvalho\n",
      "O resultado é 190 Carvalho\n",
      "O resultado é 210 Carvalho\n",
      "O resultado é 231 Carvalho\n",
      "O resultado é 253 Carvalho\n",
      "O resultado é 276 Carvalho\n",
      "O resultado é 300 Carvalho\n",
      "O resultado é 325 Carvalho\n",
      "O resultado é 351 Carvalho\n",
      "O resultado é 378 Carvalho\n",
      "O resultado é 406 Carvalho\n",
      "O resultado é 435 Carvalho\n",
      "O resultado é 465 Carvalho\n",
      "O resultado é 496 Carvalho\n",
      "O resultado é 528 Carvalho\n",
      "O resultado é 561 Carvalho\n",
      "O resultado é 595 Carvalho\n",
      "O resultado é 630 Carvalho\n",
      "O resultado é 666 Carvalho\n",
      "O resultado é 703 Carvalho\n",
      "O resultado é 741 Carvalho\n",
      "O resultado é 780 Carvalho\n",
      "O resultado é 820 Carvalho\n",
      "O resultado é 861 Carvalho\n",
      "O resultado é 903 Carvalho\n",
      "O resultado é 946 Carvalho\n",
      "O resultado é 990 Carvalho\n",
      "O resultado é 1035 Carvalho\n",
      "O resultado é 1081 Carvalho\n",
      "O resultado é 1128 Carvalho\n",
      "O resultado é 1176 Carvalho\n",
      "O resultado é 1225 Carvalho\n",
      "O resultado é 1275 Carvalho\n",
      "O resultado é 1326 Carvalho\n",
      "O resultado é 1378 Carvalho\n",
      "O resultado é 1431 Carvalho\n",
      "O resultado é 1485 Carvalho\n",
      "O resultado é 1540 Carvalho\n",
      "O resultado é 1596 Carvalho\n",
      "O resultado é 1653 Carvalho\n",
      "O resultado é 1711 Carvalho\n",
      "O resultado é 1770 Carvalho\n",
      "O resultado é 1830 Carvalho\n",
      "O resultado é 1891 Carvalho\n",
      "O resultado é 1953 Carvalho\n",
      "O resultado é 2016 Carvalho\n",
      "O resultado é 2080 Carvalho\n",
      "O resultado é 2145 Carvalho\n",
      "O resultado é 2211 Carvalho\n",
      "O resultado é 2278 Carvalho\n",
      "O resultado é 2346 Carvalho\n",
      "O resultado é 2415 Carvalho\n",
      "O resultado é 2485 Carvalho\n",
      "O resultado é 2556 Carvalho\n",
      "O resultado é 2628 Carvalho\n",
      "O resultado é 2701 Carvalho\n",
      "O resultado é 2775 Carvalho\n",
      "O resultado é 2850 Carvalho\n",
      "O resultado é 2926 Carvalho\n",
      "O resultado é 3003 Carvalho\n",
      "O resultado é 3081 Carvalho\n",
      "O resultado é 3160 Carvalho\n",
      "O resultado é 3240 Carvalho\n",
      "O resultado é 3321 Carvalho\n",
      "O resultado é 3403 Carvalho\n",
      "O resultado é 3486 Carvalho\n",
      "O resultado é 3570 Carvalho\n",
      "O resultado é 3655 Carvalho\n",
      "O resultado é 3741 Carvalho\n",
      "O resultado é 3828 Carvalho\n",
      "O resultado é 3916 Carvalho\n",
      "O resultado é 4005 Carvalho\n",
      "O resultado é 4095 Carvalho\n",
      "O resultado é 4186 Carvalho\n",
      "O resultado é 4278 Carvalho\n",
      "O resultado é 4371 Carvalho\n",
      "O resultado é 4465 Carvalho\n",
      "O resultado é 4560 Carvalho\n",
      "O resultado é 4656 Carvalho\n",
      "O resultado é 4753 Carvalho\n",
      "O resultado é 4851 Carvalho\n",
      "O resultado é 4950 Carvalho\n",
      "O resultado é 5050 Carvalho\n"
     ]
    }
   ],
   "source": [
    "soma = 0\n",
    "\n",
    "for numero in range(1, 101):\n",
    "    soma += numero\n",
    "    print(f\"O resultado é {soma} Carvalho\")"
   ]
  },
  {
   "attachments": {},
   "cell_type": "markdown",
   "metadata": {},
   "source": [
    "# Exercício 2"
   ]
  },
  {
   "cell_type": "code",
   "execution_count": 30,
   "metadata": {},
   "outputs": [
    {
     "name": "stdout",
     "output_type": "stream",
     "text": [
      "Os números pares são: 2\n",
      "Os números pares são: 4\n",
      "Os números pares são: 6\n",
      "Os números pares são: 8\n",
      "Os números pares são: 10\n",
      "Os números pares são: 12\n",
      "Os números pares são: 14\n",
      "Os números pares são: 16\n",
      "Os números pares são: 18\n",
      "Os números pares são: 20\n",
      "Os números pares são: 22\n",
      "Os números pares são: 24\n",
      "Os números pares são: 26\n",
      "Os números pares são: 28\n",
      "Os números pares são: 30\n",
      "Os números pares são: 32\n",
      "Os números pares são: 34\n",
      "Os números pares são: 36\n",
      "Os números pares são: 38\n",
      "Os números pares são: 40\n",
      "Os números pares são: 42\n",
      "Os números pares são: 44\n",
      "Os números pares são: 46\n",
      "Os números pares são: 48\n",
      "Os números pares são: 50\n",
      "A soma total é 650\n"
     ]
    }
   ],
   "source": [
    "pares = []\n",
    "\n",
    "for numero in range(1 , 51):\n",
    "    if numero %2 == 0:\n",
    "        pares.append(numero)\n",
    "\n",
    "for par in pares:\n",
    "    print(f\"Os números pares são: {par}\")        \n",
    "\n",
    "soma_pares = 0\n",
    "\n",
    "for n in pares:\n",
    "    soma_pares += n\n",
    "\n",
    "print(f\"A soma total é {soma_pares}\")\n"
   ]
  },
  {
   "cell_type": "code",
   "execution_count": 32,
   "metadata": {},
   "outputs": [
    {
     "name": "stdout",
     "output_type": "stream",
     "text": [
      "Os números pares são: 1\n",
      "Os números pares são: 2\n",
      "Os números pares são: 3\n",
      "Os números pares são: 4\n",
      "Os números pares são: 5\n",
      "Os números pares são: 6\n",
      "Os números pares são: 7\n",
      "Os números pares são: 8\n",
      "Os números pares são: 9\n",
      "Os números pares são: 10\n",
      "Os números pares são: 11\n",
      "Os números pares são: 12\n",
      "Os números pares são: 13\n",
      "Os números pares são: 14\n",
      "Os números pares são: 15\n",
      "Os números pares são: 16\n",
      "Os números pares são: 17\n",
      "Os números pares são: 18\n",
      "Os números pares são: 19\n",
      "Os números pares são: 20\n",
      "Os números pares são: 21\n",
      "Os números pares são: 22\n",
      "Os números pares são: 23\n",
      "Os números pares são: 24\n",
      "Os números pares são: 25\n",
      "Os números pares são: 26\n",
      "Os números pares são: 27\n",
      "Os números pares são: 28\n",
      "Os números pares são: 29\n",
      "Os números pares são: 30\n",
      "Os números pares são: 31\n",
      "Os números pares são: 32\n",
      "Os números pares são: 33\n",
      "Os números pares são: 34\n",
      "Os números pares são: 35\n",
      "Os números pares são: 36\n",
      "Os números pares são: 37\n",
      "Os números pares são: 38\n",
      "Os números pares são: 39\n",
      "Os números pares são: 40\n",
      "Os números pares são: 41\n",
      "Os números pares são: 42\n",
      "Os números pares são: 43\n",
      "Os números pares são: 44\n",
      "Os números pares são: 45\n",
      "Os números pares são: 46\n",
      "Os números pares são: 47\n",
      "Os números pares são: 48\n",
      "Os números pares são: 49\n",
      "Os números pares são: 50\n",
      "A soma total dos números pares são 650\n"
     ]
    }
   ],
   "source": [
    "numeros = range (1, 51)\n",
    "soma = 0\n",
    "\n",
    "for i in numeros:\n",
    "    print(f\"Os números pares são: {i}\")\n",
    "    if i %2 == 0:\n",
    "        soma += i\n",
    "\n",
    "print(f\"A soma total dos números pares são {soma}\")"
   ]
  },
  {
   "attachments": {},
   "cell_type": "markdown",
   "metadata": {},
   "source": [
    "# Exercício 3"
   ]
  },
  {
   "cell_type": "code",
   "execution_count": 5,
   "metadata": {},
   "outputs": [
    {
     "name": "stdout",
     "output_type": "stream",
     "text": [
      "Os valores impares são: [1, 3, 5, 7, 9, 11, 13, 15, 17, 19, 21, 23, 25, 27, 29, 31, 33, 35, 37, 39, 41, 43, 45, 47, 49]\n",
      "A média é 25.0\n"
     ]
    }
   ],
   "source": [
    "numeros = range(1, 51)\n",
    "soma = 0\n",
    "impares = []\n",
    "\n",
    "\n",
    "for i in numeros:\n",
    "    if i %2 != 0:\n",
    "        soma += i\n",
    "        impares.append(i)\n",
    "              \n",
    "print(f\"Os valores impares são: {impares}\")\n",
    "media = soma / len(impares)\n",
    "\n",
    "print(f\"A média é {media}\")"
   ]
  },
  {
   "attachments": {},
   "cell_type": "markdown",
   "metadata": {},
   "source": [
    "# Exercício 4"
   ]
  },
  {
   "cell_type": "code",
   "execution_count": 11,
   "metadata": {},
   "outputs": [
    {
     "name": "stdout",
     "output_type": "stream",
     "text": [
      "14.0\n"
     ]
    }
   ],
   "source": [
    "valores = float(input(\"Insira valores: \"))\n",
    "soma = 0\n",
    "\n",
    "while valores != 0:\n",
    "    soma += valores\n",
    "    valores = float(input(\"Insira valores: \"))\n",
    "    \n",
    "print(soma)"
   ]
  }
 ],
 "metadata": {
  "kernelspec": {
   "display_name": "Python 3",
   "language": "python",
   "name": "python3"
  },
  "language_info": {
   "codemirror_mode": {
    "name": "ipython",
    "version": 3
   },
   "file_extension": ".py",
   "mimetype": "text/x-python",
   "name": "python",
   "nbconvert_exporter": "python",
   "pygments_lexer": "ipython3",
   "version": "3.11.4"
  },
  "orig_nbformat": 4
 },
 "nbformat": 4,
 "nbformat_minor": 2
}
