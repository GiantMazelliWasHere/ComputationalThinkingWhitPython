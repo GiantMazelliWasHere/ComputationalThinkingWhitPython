{
 "cells": [
  {
   "cell_type": "markdown",
   "metadata": {},
   "source": [
    "# Caculo de Desconto"
   ]
  },
  {
   "cell_type": "code",
   "execution_count": 3,
   "metadata": {},
   "outputs": [
    {
     "name": "stdout",
     "output_type": "stream",
     "text": [
      "O valor do desconto foi 0.0001 e com isso a mercadoria passou a custar R$999.9999\n"
     ]
    }
   ],
   "source": [
    "# Colentando os dados\n",
    "preço = float(input(\"Qual é o preço do produto sem o desconto?\"))\n",
    "percentual_de_desconto = float(input(\"Qual o percentual de desconto? \"))\n",
    "\n",
    "# Calculo do desconto\n",
    "desconto = (percentual_de_desconto / preço)/100\n",
    "preço_após_desconto = preço - desconto\n",
    "\n",
    "# Exibindo dados\n",
    "print(f\"O valor do desconto foi {desconto} e com isso a mercadoria passou a custar R${preço_após_desconto}\")"
   ]
  }
 ],
 "metadata": {
  "kernelspec": {
   "display_name": "base",
   "language": "python",
   "name": "python3"
  },
  "language_info": {
   "codemirror_mode": {
    "name": "ipython",
    "version": 3
   },
   "file_extension": ".py",
   "mimetype": "text/x-python",
   "name": "python",
   "nbconvert_exporter": "python",
   "pygments_lexer": "ipython3",
   "version": "3.10.9"
  },
  "orig_nbformat": 4
 },
 "nbformat": 4,
 "nbformat_minor": 2
}
