{
 "cells": [
  {
   "cell_type": "markdown",
   "metadata": {},
   "source": [
    "# Calculo de total de segundos baseado no périodo de tempo fornecido"
   ]
  },
  {
   "cell_type": "code",
   "execution_count": 3,
   "metadata": {},
   "outputs": [
    {
     "name": "stdout",
     "output_type": "stream",
     "text": [
      "O total em segundo é 882150\n"
     ]
    }
   ],
   "source": [
    "# Coletar dados Dia, Hora, Minutos, Segundos \n",
    "dias = int(input(\"Total de dias passados: \"))\n",
    "horas = int(input(\"Total de horas passadas: \"))\n",
    "minutos = int(input(\"Total de minutos passados: \"))\n",
    "segundos = int(input(\"Total de segundos passados: \"))\n",
    "\n",
    "# Conversão do dados necessários\n",
    "dias_segundos = dias * 86400\n",
    "horas_segundos = horas * 3600\n",
    "minutos_segundos = minutos * 60\n",
    "\n",
    "# Soma total de segundos\n",
    "periodo_total = [dias_segundos, horas_segundos, minutos_segundos, segundos]\n",
    "resultado_soma = sum(periodo_total)\n",
    "\n",
    "# Exibindo resultado\n",
    "print(\"O total em segundo é %d\"%(resultado_soma))"
   ]
  }
 ],
 "metadata": {
  "kernelspec": {
   "display_name": "base",
   "language": "python",
   "name": "python3"
  },
  "language_info": {
   "codemirror_mode": {
    "name": "ipython",
    "version": 3
   },
   "file_extension": ".py",
   "mimetype": "text/x-python",
   "name": "python",
   "nbconvert_exporter": "python",
   "pygments_lexer": "ipython3",
   "version": "3.10.9"
  },
  "orig_nbformat": 4
 },
 "nbformat": 4,
 "nbformat_minor": 2
}
