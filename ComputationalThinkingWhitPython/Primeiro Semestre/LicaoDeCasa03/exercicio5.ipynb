{
 "cells": [
  {
   "cell_type": "markdown",
   "metadata": {},
   "source": [
    "# Convertendo ºC para ºF"
   ]
  },
  {
   "cell_type": "code",
   "execution_count": 1,
   "metadata": {},
   "outputs": [
    {
     "name": "stdout",
     "output_type": "stream",
     "text": [
      "o resultado da conversão da temperatura 20ºC é 68.0ºF\n"
     ]
    }
   ],
   "source": [
    "# Coletando o dado ºc\n",
    "celcius = int(input(\"Temperatura em ºC: \"))\n",
    "\n",
    "# Realizando a conversão\n",
    "conversao = ((9 * celcius) / 5) + 32\n",
    "\n",
    "# Exibindo o resultao\n",
    "print(f\"o resultado da conversão da temperatura {celcius}ºC é {conversao}ºF\")"
   ]
  }
 ],
 "metadata": {
  "kernelspec": {
   "display_name": "base",
   "language": "python",
   "name": "python3"
  },
  "language_info": {
   "codemirror_mode": {
    "name": "ipython",
    "version": 3
   },
   "file_extension": ".py",
   "mimetype": "text/x-python",
   "name": "python",
   "nbconvert_exporter": "python",
   "pygments_lexer": "ipython3",
   "version": "3.10.9"
  },
  "orig_nbformat": 4
 },
 "nbformat": 4,
 "nbformat_minor": 2
}
