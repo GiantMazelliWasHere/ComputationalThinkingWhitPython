{
 "cells": [
  {
   "cell_type": "code",
   "execution_count": 5,
   "metadata": {},
   "outputs": [
    {
     "name": "stdout",
     "output_type": "stream",
     "text": [
      "Você ficou um total de 20 dias e rodou um total de 100km, o valor que deve pagar é R$1215.0\n"
     ]
    }
   ],
   "source": [
    "# Coleta de dados\n",
    "km = int(input(\"Quantos kilometros você rodou com o carro? \"))\n",
    "dias = int(input(\"Quantos dias ficou com o carro? \"))\n",
    "\n",
    "# Calculo das taxas e do preço\n",
    "valor_km = km * 0.15\n",
    "valor_dias = dias * 60\n",
    "\n",
    "valor_a_pagar = valor_dias + valor_km\n",
    "\n",
    "# Exibindo o valor a pagar\n",
    "print(f\"Você ficou um total de {dias} dias e rodou um total de {km}km, o valor que deve pagar é R${valor_a_pagar}\")"
   ]
  }
 ],
 "metadata": {
  "kernelspec": {
   "display_name": "base",
   "language": "python",
   "name": "python3"
  },
  "language_info": {
   "codemirror_mode": {
    "name": "ipython",
    "version": 3
   },
   "file_extension": ".py",
   "mimetype": "text/x-python",
   "name": "python",
   "nbconvert_exporter": "python",
   "pygments_lexer": "ipython3",
   "version": "3.10.9"
  },
  "orig_nbformat": 4
 },
 "nbformat": 4,
 "nbformat_minor": 2
}
