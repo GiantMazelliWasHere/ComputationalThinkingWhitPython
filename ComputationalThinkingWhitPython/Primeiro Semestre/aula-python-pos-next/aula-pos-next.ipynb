{
 "cells": [
  {
   "cell_type": "code",
   "execution_count": null,
   "metadata": {},
   "outputs": [],
   "source": [
    "def pureza_drogas(droga ,pureza):\n",
    "    # Testar a pureza de certas drogas\n",
    "\n",
    "    if droga == 'maconha' and pureza == 'jamaicana': # Maconha\n",
    "        print(\"Essa bateu forte\")\n",
    "\n",
    "    elif droga == 'cocaina' and pureza == 'colombiana': # Cocaina\n",
    "        print(\"Essa deixa até Keith Richards doido\")\n",
    "\n",
    "    elif droga == 'metafetamina' and pureza == 'heisenberg': # Metafetamina\n",
    "        print(\"Não é viagra mas esse é da azuzinha\")\n",
    "\n",
    "    elif droga == 'ayuasca' and pureza == 'peruana': # Ayuasca\n",
    "        print('Essa é melhor que terapia')\n",
    "\n",
    "    elif droga == 'opioide' and pureza == 'chines': # Opioide\n",
    "        print('Essa deruba até o partido Comunista') \n",
    "\n",
    "    else:\n",
    "        print('Essa não é da boa')\n",
    "\n",
    "pureza_drogas('maconha', 'jamaicana')\n",
    "pureza_drogas('cocaina', 'colombiana')\n",
    "pureza_drogas('metafetamina', 'heisenberg')\n",
    "pureza_drogas('ayuasca', 'peruana')\n",
    "pureza_drogas('opioide', 'chines')\n",
    "pureza_drogas('heroina', 'detroit')\n"
   ]
  },
  {
   "cell_type": "code",
   "execution_count": null,
   "metadata": {},
   "outputs": [],
   "source": [
    "def teste(a, b):\n",
    "    soma = a + b\n",
    "    return soma\n",
    "\n",
    "teste(5, 6)"
   ]
  },
  {
   "cell_type": "code",
   "execution_count": null,
   "metadata": {},
   "outputs": [],
   "source": [
    "def par(x):\n",
    "    return x % 2 == 0\n",
    "\n",
    "print(par(2))\n",
    "print(par(3))\n",
    "print(par(10))"
   ]
  },
  {
   "cell_type": "code",
   "execution_count": null,
   "metadata": {},
   "outputs": [],
   "source": [
    "def par(x):\n",
    "    if x % 2 == 0:\n",
    "        print('O número é par')\n",
    "    else:\n",
    "        print('O número é impar')\n",
    "\n",
    "par(2)\n",
    "par(3)\n",
    "par(10)"
   ]
  },
  {
   "cell_type": "code",
   "execution_count": null,
   "metadata": {},
   "outputs": [],
   "source": [
    "def soma(a, b, imprime = False):\n",
    "    s = a + b\n",
    "    \n",
    "    if imprime:\n",
    "        print(s)\n",
    "    return s\n",
    "\n",
    "soma(4, 5, True)"
   ]
  },
  {
   "cell_type": "code",
   "execution_count": null,
   "metadata": {},
   "outputs": [],
   "source": [
    "def exibir_mensagem(mensagem, vezes=1):\n",
    "    for i in range(vezes):\n",
    "        print(mensagem)\n",
    "\n",
    "exibir_mensagem(\"FUCK THE CIA AND THE FBI!!\", 25)\n"
   ]
  },
  {
   "cell_type": "code",
   "execution_count": null,
   "metadata": {},
   "outputs": [],
   "source": [
    "def par(x):\n",
    "    return x % 2 == 0\n",
    "\n",
    "def par_ou_impar(x):\n",
    "    if par(x):\n",
    "        return \"par\"\n",
    "    else:\n",
    "        return \"ímpar\"\n",
    "    \n",
    "print(par_ou_impar(4))\n",
    "print(par_ou_impar(5))"
   ]
  },
  {
   "cell_type": "code",
   "execution_count": 25,
   "metadata": {},
   "outputs": [
    {
     "name": "stdout",
     "output_type": "stream",
     "text": [
      "0\n",
      "None\n",
      "2\n"
     ]
    }
   ],
   "source": [
    "def pesquise(lista, valor):\n",
    "    for x, i in enumerate(lista):\n",
    "        if i == valor:\n",
    "            return x\n",
    "    return None\n",
    "\n",
    "L = [10, 20, 25, 30]\n",
    "\n",
    "print(pesquise(L, 10))\n",
    "print(pesquise(L, 50))\n",
    "print(pesquise(L, 25))"
   ]
  },
  {
   "cell_type": "code",
   "execution_count": 28,
   "metadata": {},
   "outputs": [
    {
     "name": "stdout",
     "output_type": "stream",
     "text": [
      "21.25\n"
     ]
    }
   ],
   "source": [
    "L = [10, 20, 25, 30]\n",
    "\n",
    "def soma(L):\n",
    "    total = 0\n",
    "    for i in L:\n",
    "        total += i\n",
    "    return total\n",
    "\n",
    "def media(L):\n",
    "    return soma(L)/len(L)\n",
    "\n",
    "print(media(L))"
   ]
  },
  {
   "attachments": {},
   "cell_type": "markdown",
   "metadata": {},
   "source": [
    "# 1."
   ]
  },
  {
   "cell_type": "code",
   "execution_count": 42,
   "metadata": {},
   "outputs": [
    {
     "name": "stdout",
     "output_type": "stream",
     "text": [
      "a média dessa lista é 30.0\n"
     ]
    }
   ],
   "source": [
    "L = [10, 15, 20, 25, 30, 35, 40, 45, 50]\n",
    "\n",
    "def soma(L):\n",
    "    total = 0\n",
    "    for i in L:\n",
    "        total += i\n",
    "    return total\n",
    "\n",
    "def media(L):\n",
    "    return soma(L)/len(L)\n",
    "\n",
    "print(f\"a média dessa lista é {media(L)}\")"
   ]
  },
  {
   "attachments": {},
   "cell_type": "markdown",
   "metadata": {},
   "source": [
    "# 2."
   ]
  },
  {
   "cell_type": "code",
   "execution_count": 41,
   "metadata": {},
   "outputs": [
    {
     "name": "stdout",
     "output_type": "stream",
     "text": [
      "O valor da força é 100.0 Newtons\n"
     ]
    }
   ],
   "source": [
    "def forca(massa, aceleracao):\n",
    "    return massa * aceleracao\n",
    "\n",
    "massa = float(input(\"Qual o valor da massa? \"))\n",
    "aceleracao = float(input(\"Qual o valor da aceleracao? \"))\n",
    "\n",
    "print(f\"O valor da força é {forca(massa, aceleracao)} Newtons\")"
   ]
  },
  {
   "attachments": {},
   "cell_type": "markdown",
   "metadata": {},
   "source": [
    "# 3."
   ]
  },
  {
   "cell_type": "code",
   "execution_count": 37,
   "metadata": {},
   "outputs": [
    {
     "name": "stdout",
     "output_type": "stream",
     "text": [
      "A area do triângulo é 100.0cm\n"
     ]
    }
   ],
   "source": [
    "def area_triangulo(base, altura):\n",
    "    return (base * altura) / 2 \n",
    "\n",
    "base = float(input(\"Forneca a base do triângulo: \"))\n",
    "altura = float(input(\"Forneca a altura do triângulo: \"))\n",
    "\n",
    "print(f\"A area do triângulo é {area_triangulo(base, altura)}m²\")"
   ]
  },
  {
   "attachments": {},
   "cell_type": "markdown",
   "metadata": {},
   "source": [
    "# 4."
   ]
  },
  {
   "cell_type": "code",
   "execution_count": 38,
   "metadata": {},
   "outputs": [
    {
     "name": "stdout",
     "output_type": "stream",
     "text": [
      "O volume do cubo é 6000.0l\n"
     ]
    }
   ],
   "source": [
    "def volume_cubo(largura, altura, comprimento):\n",
    "    return largura * altura * comprimento\n",
    "\n",
    "largura = float(input(\"Qual a largura do cubo? \"))\n",
    "altura = float(input(\"Qual a altura do cubo? \"))\n",
    "comprimento = float(input(\"Qual o comprimento do cubo? \"))\n",
    "\n",
    "print(f\"O volume do cubo é {volume_cubo(largura, altura, comprimento)}l\")"
   ]
  },
  {
   "attachments": {},
   "cell_type": "markdown",
   "metadata": {},
   "source": [
    "# 5."
   ]
  },
  {
   "cell_type": "code",
   "execution_count": 47,
   "metadata": {},
   "outputs": [
    {
     "name": "stdout",
     "output_type": "stream",
     "text": [
      "A área da sala é 2.0m²\n"
     ]
    }
   ],
   "source": [
    "def area_sala(largura, comprimento):\n",
    "    return largura * comprimento\n",
    "\n",
    "largura = float(input(\"Qual a largura da sala? \"))\n",
    "comprimento = float(input(\"Qual o comprimento da sala? \"))\n",
    "\n",
    "print(f\"A área da sala é {area_sala(largura, comprimento)}m²\")"
   ]
  }
 ],
 "metadata": {
  "kernelspec": {
   "display_name": "Python 3",
   "language": "python",
   "name": "python3"
  },
  "language_info": {
   "codemirror_mode": {
    "name": "ipython",
    "version": 3
   },
   "file_extension": ".py",
   "mimetype": "text/x-python",
   "name": "python",
   "nbconvert_exporter": "python",
   "pygments_lexer": "ipython3",
   "version": "3.11.4"
  },
  "orig_nbformat": 4
 },
 "nbformat": 4,
 "nbformat_minor": 2
}
