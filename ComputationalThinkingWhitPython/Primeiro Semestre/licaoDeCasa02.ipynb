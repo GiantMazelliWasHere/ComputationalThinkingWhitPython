{
 "cells": [
  {
   "attachments": {},
   "cell_type": "markdown",
   "metadata": {},
   "source": [
    "# Calculo do E=mc²"
   ]
  },
  {
   "cell_type": "code",
   "execution_count": 2,
   "metadata": {},
   "outputs": [
    {
     "name": "stdout",
     "output_type": "stream",
     "text": [
      "O resultado é 69555600000.00003 Joules\n"
     ]
    }
   ],
   "source": [
    "# Constante Velocidade da luz\n",
    "c = 300000\n",
    "\n",
    "# Transformando a Velocidade da Luz em Metros por segundo\n",
    "c_ms= c * 0.278\n",
    "\n",
    "# Coletando o dado de Massa\n",
    "m = float(input(\"Qual a massa do objeto? \"))\n",
    "\n",
    "# Calculando a formula de Einstein\n",
    "e = m * c_ms**2\n",
    "\n",
    "# Imprimindo o resultado\n",
    "print(F\"O resultado é {e} Joules\")"
   ]
  },
  {
   "attachments": {},
   "cell_type": "markdown",
   "metadata": {},
   "source": [
    "# Mensagem de Idade"
   ]
  },
  {
   "cell_type": "code",
   "execution_count": 7,
   "metadata": {},
   "outputs": [
    {
     "name": "stdout",
     "output_type": "stream",
     "text": [
      "Idoso\n"
     ]
    }
   ],
   "source": [
    "# Coletando o Dado Idade\n",
    "idade = int(input(\"Qual a sua idade?\"))\n",
    "\n",
    "# Lógica para a impresão da Mensagem\n",
    "if 0 <= idade <= 11:\n",
    "    print(\"Criança\")\n",
    "elif 12 <= idade <= 20:\n",
    "    print(\"Adolescente\")\n",
    "elif 21 <= idade <= 40:\n",
    "    print(\"Adulto-jovem\")\n",
    "elif 41 <= idade <= 65:\n",
    "    print(\"Meia idade\")\n",
    "else:\n",
    "    print(\"Idoso\")"
   ]
  },
  {
   "attachments": {},
   "cell_type": "markdown",
   "metadata": {},
   "source": [
    "# Media faculdade excluindo a menor nota"
   ]
  },
  {
   "cell_type": "code",
   "execution_count": 14,
   "metadata": {},
   "outputs": [
    {
     "name": "stdout",
     "output_type": "stream",
     "text": [
      "A média desse aluno foi 9.666666666666666\n"
     ]
    }
   ],
   "source": [
    "notas_validas = []\n",
    "\n",
    "n1 = float(input(\"Qual foi a primeira nota? \"))\n",
    "n2 = float(input(\"Qual foi a segunda nota? \"))\n",
    "n3 = float(input(\"Qual foi a terceira nota? \"))\n",
    "n4 = float(input(\"Qual foi a quarta nota? \"))\n",
    "\n",
    "if n1 > n2 and n1 > n3 and n1 > n4:\n",
    "    notas_validas.append(n1)\n",
    "else:\n",
    "    menor = n1\n",
    "    notas_validas.append(n2)\n",
    "\n",
    "\n",
    "\n",
    "if n3 > menor:\n",
    "    notas_validas.append(n3)\n",
    "else:\n",
    "    notas_validas.append(menor)\n",
    "    menor = n3\n",
    "\n",
    "\n",
    "\n",
    "if n4 > menor:\n",
    "    notas_validas.append(n4)\n",
    "else:\n",
    "    notas_validas.append(menor)\n",
    "    menor = n4\n",
    "    \n",
    "media = (notas_validas[0] + notas_validas[1] + notas_validas[2]) / 3\n",
    "\n",
    "print(f\"A média desse aluno foi {media}\")"
   ]
  },
  {
   "attachments": {},
   "cell_type": "markdown",
   "metadata": {},
   "source": [
    "# Calculo da Potência"
   ]
  },
  {
   "cell_type": "code",
   "execution_count": 10,
   "metadata": {},
   "outputs": [
    {
     "name": "stdout",
     "output_type": "stream",
     "text": [
      "A potência é 1.0 watts\n"
     ]
    }
   ],
   "source": [
    "# Coleta do Quais variaveis serão usadas\n",
    "var1 = int(input(\"Qual será a primeira variável dada? [1]Tensão(V) [2]Corrente(I) [3]Resistência(R)\"))\n",
    "var2 = int(input(\"Qual será a segunda variável dada? [1]Tensão(V) [2]Corrente(I) [3]Resistência(R)\"))\n",
    "\n",
    "# Coleta do valor da variável\n",
    "valor_var1= float(input(\"Qual o valor da primeira variável? \"))\n",
    "valor_var2= float(input(\"Qual o valor da segunda variável? \"))\n",
    "\n",
    "# Logica para que o Calculo seja realizado usando a formula que corresponde as variáveis dadas\n",
    "if var1 == 1 or var1 == 2 and var2 == 2 or var2 == 1:\n",
    "    p = valor_var1 * valor_var2\n",
    "elif var1 == 3 or var1 == 2 and var2 == 2 or var2 == 3:\n",
    "    if var1 == 2:\n",
    "        p = valor_var2 * valor_var1 * valor_var1\n",
    "    else:\n",
    "        p = valor_var1 * valor_var2 * valor_var2    \n",
    "else:\n",
    "    if var1 == 1:\n",
    "        p = valor_var1**2 / valor_var2\n",
    "    else:\n",
    "        p = valor_var2**2 / valor_var2\n",
    "\n",
    "# Impressão do resultado                                                                                                                                                                                                                                                                                                                                                                                                                                                                                                                                                                                                                                                                                                                                                                                                                                                                                                                                                                                                                                                                                                                                                                                                                                                                                                                                                                                                                                                                                                                                                                                                                                                                                                                                                                                                                                                                                                                                                                                                                                                                                                                                                                                                                                                                                                                                                                                                                                                                                                                                                                                                                                                                                                                                                                                                                                                                                                                                                                                                                                                                                                                                                                                                                                                                                                                                                                                                                                                                                                                                                               \n",
    "print(F\"A potência é {p} watts\")"
   ]
  }
 ],
 "metadata": {
  "kernelspec": {
   "display_name": "base",
   "language": "python",
   "name": "python3"
  },
  "language_info": {
   "codemirror_mode": {
    "name": "ipython",
    "version": 3
   },
   "file_extension": ".py",
   "mimetype": "text/x-python",
   "name": "python",
   "nbconvert_exporter": "python",
   "pygments_lexer": "ipython3",
   "version": "3.11.4"
  },
  "orig_nbformat": 4
 },
 "nbformat": 4,
 "nbformat_minor": 2
}
