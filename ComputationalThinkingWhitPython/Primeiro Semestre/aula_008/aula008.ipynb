{
 "cells": [
  {
   "attachments": {},
   "cell_type": "markdown",
   "metadata": {},
   "source": [
    "# Aula 008 - 09/10/2023"
   ]
  },
  {
   "cell_type": "code",
   "execution_count": null,
   "metadata": {},
   "outputs": [],
   "source": [
    "nome = input(\"Qual seu nome?\").title()\n",
    "\n",
    "usuario = [\"Nathan\", \"Julia\", \"Maria\", \"Joao\"]\n",
    "\n",
    "if nome not in usuario:\n",
    "        usuario.append(nome)\n",
    "\n",
    "print(usuario)"
   ]
  },
  {
   "cell_type": "code",
   "execution_count": null,
   "metadata": {},
   "outputs": [],
   "source": [
    "for x in range(1,10):\n",
    "    for y in range(1,10):\n",
    "        print(x*y)"
   ]
  },
  {
   "cell_type": "code",
   "execution_count": null,
   "metadata": {},
   "outputs": [],
   "source": [
    "for i in range(2,4):\n",
    "    for j in range(1,11):\n",
    "        if i == j:\n",
    "            break\n",
    "        print(i*j)"
   ]
  },
  {
   "cell_type": "code",
   "execution_count": null,
   "metadata": {},
   "outputs": [],
   "source": [
    "for i in range(2,4):\n",
    "    for j in range(1,11):\n",
    "        if i == j:\n",
    "            continue\n",
    "        print(i*j)"
   ]
  },
  {
   "cell_type": "code",
   "execution_count": 23,
   "metadata": {},
   "outputs": [
    {
     "name": "stdout",
     "output_type": "stream",
     "text": [
      "Valor da máxima: 20. Valor da mínima: 10\n"
     ]
    }
   ],
   "source": [
    "numeros = [10, 11, 15, 18, 20]\n",
    "\n",
    "minima = min(numeros)\n",
    "maxima = max(numeros) \n",
    "print(f'Valor da máxima: {maxima}. Valor da mínima: {minima}')"
   ]
  },
  {
   "cell_type": "code",
   "execution_count": 22,
   "metadata": {},
   "outputs": [
    {
     "name": "stdout",
     "output_type": "stream",
     "text": [
      "O valor da mádia será 14.8\n",
      "O valor da mediana será 15\n"
     ]
    }
   ],
   "source": [
    "from statistics import mean, median\n",
    "\n",
    "numeros = [10, 11, 15, 18, 20]\n",
    "\n",
    "media = mean(numeros)\n",
    "mediana = median(numeros)\n",
    "\n",
    "print(f'O valor da mádia será {media}')\n",
    "print(f'O valor da mediana será {mediana}')"
   ]
  },
  {
   "cell_type": "code",
   "execution_count": 24,
   "metadata": {},
   "outputs": [
    {
     "name": "stdout",
     "output_type": "stream",
     "text": [
      "1\n",
      "3\n",
      "5\n"
     ]
    }
   ],
   "source": [
    "for i in range(1,6,2):\n",
    "    print(i)"
   ]
  },
  {
   "cell_type": "code",
   "execution_count": 25,
   "metadata": {},
   "outputs": [
    {
     "name": "stdout",
     "output_type": "stream",
     "text": [
      "74\n"
     ]
    }
   ],
   "source": [
    "numeros = [10, 11, 15, 18, 20]\n",
    "\n",
    "soma = sum(numeros)\n",
    "print(soma)"
   ]
  },
  {
   "cell_type": "code",
   "execution_count": 27,
   "metadata": {},
   "outputs": [
    {
     "name": "stdout",
     "output_type": "stream",
     "text": [
      "-54\n",
      "74\n"
     ]
    }
   ],
   "source": [
    "from functools import reduce\n",
    "from operator import sub, add\n",
    "\n",
    "numeros = [10, 11, 15, 18, 20]\n",
    "\n",
    "[-1, 15, 18, 20]\n",
    "[-16, 18, 20]\n",
    "\n",
    "resultados = reduce(sub, numeros)\n",
    "resultadoa = reduce(add, numeros)\n",
    "print(resultados)\n",
    "print(resultadoa)"
   ]
  },
  {
   "cell_type": "code",
   "execution_count": 28,
   "metadata": {},
   "outputs": [
    {
     "name": "stdout",
     "output_type": "stream",
     "text": [
      "a1\n",
      "a2\n",
      "a3\n",
      "b1\n",
      "b2\n",
      "b3\n",
      "c1\n",
      "c2\n",
      "c3\n"
     ]
    }
   ],
   "source": [
    "for letra in 'abc':\n",
    "    for numeros in '123':\n",
    "        print(letra + numeros)"
   ]
  },
  {
   "cell_type": "code",
   "execution_count": 29,
   "metadata": {},
   "outputs": [
    {
     "name": "stdout",
     "output_type": "stream",
     "text": [
      "1\n",
      "4\n",
      "8\n"
     ]
    }
   ],
   "source": [
    "soma = 0\n",
    "\n",
    "for x in [1, 2, 3, 4]:\n",
    "    if x == 2:\n",
    "        continue\n",
    "    soma += x\n",
    "    print(soma)"
   ]
  },
  {
   "cell_type": "code",
   "execution_count": 40,
   "metadata": {},
   "outputs": [
    {
     "name": "stdout",
     "output_type": "stream",
     "text": [
      "[('A', 2.25), ('B', 1.6), ('C', 1.3), ('D', 2.6999999999999997)]\n"
     ]
    }
   ],
   "source": [
    "notas = [7.5, 8, 6.5, 9]\n",
    "peso = [0.3, 0.2, 0.2, 0.3]\n",
    "aluno = ['A', 'B', 'C', 'D']\n",
    "\n",
    "# Podemos usar operações dentro dos [] que usaremos zip\n",
    "combine = [(c , a * b) for a, b, c in zip(notas, peso, aluno)]\n",
    "print(combine)"
   ]
  },
  {
   "cell_type": "code",
   "execution_count": null,
   "metadata": {},
   "outputs": [],
   "source": [
    "notas = [7.5, 8, 6.5, 9]\n",
    "peso = [0.3, 0.2, 0.2, 0.3]\n",
    "aluno = ['A', 'B', 'C', 'D']\n",
    "\n",
    "for i in range(len(notas)):\n",
    "    resultado = notas[i] * peso[i]\n",
    "    print(resultado)"
   ]
  },
  {
   "cell_type": "code",
   "execution_count": 54,
   "metadata": {},
   "outputs": [],
   "source": [
    "dic = {'nathan':'direita', 'victor':'esquerda', 'Estella':'2 cadeiras a direita'}\n",
    "\n",
    "print(dic['Estella'])"
   ]
  },
  {
   "cell_type": "code",
   "execution_count": 72,
   "metadata": {},
   "outputs": [
    {
     "name": "stdout",
     "output_type": "stream",
     "text": [
      "a2c2c1\n"
     ]
    }
   ],
   "source": [
    "import random\n",
    "\n",
    "letras = input('Digite quais letras quer na sua senha: ')\n",
    "numeros =  input('Digite quais numero quer na sua senha: ')\n",
    "\n",
    "combine = []\n",
    "\n",
    "for i in letras:\n",
    "    for j in numeros:\n",
    "        combine.append(i + j)\n",
    "\n",
    "senha = []\n",
    "\n",
    "for i in range(len(combine)):\n",
    "    z = random.randrange(len(combine))\n",
    "    senha.append(combine[z])\n",
    "    if len(senha) == 3:\n",
    "        break\n",
    "\n",
    "\n",
    "print(f'{senha[0]}{senha[1]}{senha[2]}')\n",
    "\n",
    "\n",
    "\n"
   ]
  },
  {
   "cell_type": "code",
   "execution_count": 77,
   "metadata": {},
   "outputs": [
    {
     "name": "stdout",
     "output_type": "stream",
     "text": [
      "1\n"
     ]
    }
   ],
   "source": [
    "import random\n",
    "\n",
    "print(random.randrange(0 , 10))"
   ]
  }
 ],
 "metadata": {
  "kernelspec": {
   "display_name": "Python 3",
   "language": "python",
   "name": "python3"
  },
  "language_info": {
   "codemirror_mode": {
    "name": "ipython",
    "version": 3
   },
   "file_extension": ".py",
   "mimetype": "text/x-python",
   "name": "python",
   "nbconvert_exporter": "python",
   "pygments_lexer": "ipython3",
   "version": "3.11.4"
  },
  "orig_nbformat": 4
 },
 "nbformat": 4,
 "nbformat_minor": 2
}
