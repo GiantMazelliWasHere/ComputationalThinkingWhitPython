{
 "cells": [
  {
   "cell_type": "code",
   "execution_count": 1,
   "metadata": {},
   "outputs": [
    {
     "name": "stdout",
     "output_type": "stream",
     "text": [
      "Collecting pandas\n",
      "  Downloading pandas-2.2.2-cp311-cp311-win_amd64.whl (11.6 MB)\n",
      "                                              0.0/11.6 MB ? eta -:--:--\n",
      "                                              0.1/11.6 MB 2.9 MB/s eta 0:00:04\n",
      "                                              0.2/11.6 MB 2.4 MB/s eta 0:00:05\n",
      "     -                                        0.5/11.6 MB 3.1 MB/s eta 0:00:04\n",
      "     --                                       0.8/11.6 MB 4.2 MB/s eta 0:00:03\n",
      "     ---                                      1.1/11.6 MB 4.9 MB/s eta 0:00:03\n",
      "     ----                                     1.4/11.6 MB 4.9 MB/s eta 0:00:03\n",
      "     -----                                    1.6/11.6 MB 5.0 MB/s eta 0:00:03\n",
      "     ------                                   1.9/11.6 MB 5.0 MB/s eta 0:00:02\n",
      "     -------                                  2.1/11.6 MB 5.0 MB/s eta 0:00:02\n",
      "     --------                                 2.4/11.6 MB 5.0 MB/s eta 0:00:02\n",
      "     --------                                 2.4/11.6 MB 5.1 MB/s eta 0:00:02\n",
      "     --------                                 2.4/11.6 MB 5.1 MB/s eta 0:00:02\n",
      "     --------                                 2.4/11.6 MB 5.1 MB/s eta 0:00:02\n",
      "     --------                                 2.4/11.6 MB 5.1 MB/s eta 0:00:02\n",
      "     --------                                 2.4/11.6 MB 5.1 MB/s eta 0:00:02\n",
      "     --------                                 2.5/11.6 MB 3.4 MB/s eta 0:00:03\n",
      "     ---------                                2.6/11.6 MB 3.3 MB/s eta 0:00:03\n",
      "     ---------                                2.8/11.6 MB 3.3 MB/s eta 0:00:03\n",
      "     ---------                                2.9/11.6 MB 3.2 MB/s eta 0:00:03\n",
      "     ----------                               3.0/11.6 MB 3.2 MB/s eta 0:00:03\n",
      "     ----------                               3.2/11.6 MB 3.2 MB/s eta 0:00:03\n",
      "     -----------                              3.4/11.6 MB 3.3 MB/s eta 0:00:03\n",
      "     ------------                             3.7/11.6 MB 3.4 MB/s eta 0:00:03\n",
      "     -------------                            4.0/11.6 MB 3.5 MB/s eta 0:00:03\n",
      "     --------------                           4.2/11.6 MB 3.6 MB/s eta 0:00:03\n",
      "     --------------                           4.2/11.6 MB 3.6 MB/s eta 0:00:03\n",
      "     --------------                           4.2/11.6 MB 3.6 MB/s eta 0:00:03\n",
      "     --------------                           4.2/11.6 MB 3.6 MB/s eta 0:00:03\n",
      "     --------------                           4.2/11.6 MB 3.6 MB/s eta 0:00:03\n",
      "     --------------                           4.2/11.6 MB 3.6 MB/s eta 0:00:03\n",
      "     --------------                           4.2/11.6 MB 2.9 MB/s eta 0:00:03\n",
      "     --------------                           4.2/11.6 MB 2.9 MB/s eta 0:00:03\n",
      "     ---------------                          4.4/11.6 MB 2.8 MB/s eta 0:00:03\n",
      "     ---------------                          4.5/11.6 MB 2.9 MB/s eta 0:00:03\n",
      "     ----------------                         4.7/11.6 MB 2.9 MB/s eta 0:00:03\n",
      "     ----------------                         4.9/11.6 MB 2.9 MB/s eta 0:00:03\n",
      "     -----------------                        5.0/11.6 MB 2.9 MB/s eta 0:00:03\n",
      "     -----------------                        5.1/11.6 MB 2.9 MB/s eta 0:00:03\n",
      "     -----------------                        5.2/11.6 MB 2.8 MB/s eta 0:00:03\n",
      "     ------------------                       5.4/11.6 MB 2.9 MB/s eta 0:00:03\n",
      "     -------------------                      5.6/11.6 MB 2.9 MB/s eta 0:00:03\n",
      "     -------------------                      5.7/11.6 MB 2.9 MB/s eta 0:00:03\n",
      "     --------------------                     5.9/11.6 MB 2.9 MB/s eta 0:00:02\n",
      "     ---------------------                    6.1/11.6 MB 3.0 MB/s eta 0:00:02\n",
      "     ---------------------                    6.2/11.6 MB 3.0 MB/s eta 0:00:02\n",
      "     ---------------------                    6.3/11.6 MB 2.9 MB/s eta 0:00:02\n",
      "     ---------------------                    6.4/11.6 MB 2.9 MB/s eta 0:00:02\n",
      "     ----------------------                   6.4/11.6 MB 2.9 MB/s eta 0:00:02\n",
      "     ----------------------                   6.5/11.6 MB 2.8 MB/s eta 0:00:02\n",
      "     ----------------------                   6.5/11.6 MB 2.8 MB/s eta 0:00:02\n",
      "     -----------------------                  6.7/11.6 MB 2.8 MB/s eta 0:00:02\n",
      "     -----------------------                  6.9/11.6 MB 2.8 MB/s eta 0:00:02\n",
      "     ------------------------                 7.1/11.6 MB 2.9 MB/s eta 0:00:02\n",
      "     -------------------------                7.5/11.6 MB 2.9 MB/s eta 0:00:02\n",
      "     --------------------------               7.7/11.6 MB 3.0 MB/s eta 0:00:02\n",
      "     ----------------------------             8.2/11.6 MB 3.1 MB/s eta 0:00:02\n",
      "     -----------------------------            8.5/11.6 MB 3.2 MB/s eta 0:00:01\n",
      "     -----------------------------            8.6/11.6 MB 3.2 MB/s eta 0:00:01\n",
      "     -----------------------------            8.6/11.6 MB 3.2 MB/s eta 0:00:01\n",
      "     -----------------------------            8.6/11.6 MB 3.2 MB/s eta 0:00:01\n",
      "     -----------------------------            8.6/11.6 MB 3.2 MB/s eta 0:00:01\n",
      "     -----------------------------            8.6/11.6 MB 3.2 MB/s eta 0:00:01\n",
      "     -----------------------------            8.6/11.6 MB 3.2 MB/s eta 0:00:01\n",
      "     -----------------------------            8.6/11.6 MB 3.2 MB/s eta 0:00:01\n",
      "     -----------------------------            8.6/11.6 MB 3.2 MB/s eta 0:00:01\n",
      "     -----------------------------            8.6/11.6 MB 3.2 MB/s eta 0:00:01\n",
      "     -----------------------------            8.6/11.6 MB 3.2 MB/s eta 0:00:01\n",
      "     -----------------------------            8.6/11.6 MB 3.2 MB/s eta 0:00:01\n",
      "     -----------------------------            8.6/11.6 MB 3.2 MB/s eta 0:00:01\n",
      "     -----------------------------            8.6/11.6 MB 3.2 MB/s eta 0:00:01\n",
      "     -----------------------------            8.6/11.6 MB 3.2 MB/s eta 0:00:01\n",
      "     -----------------------------            8.6/11.6 MB 2.6 MB/s eta 0:00:02\n",
      "     ------------------------------           8.9/11.6 MB 2.6 MB/s eta 0:00:02\n",
      "     -------------------------------          9.1/11.6 MB 2.6 MB/s eta 0:00:01\n",
      "     -------------------------------          9.3/11.6 MB 2.6 MB/s eta 0:00:01\n",
      "     --------------------------------         9.5/11.6 MB 2.7 MB/s eta 0:00:01\n",
      "     ---------------------------------        9.6/11.6 MB 2.7 MB/s eta 0:00:01\n",
      "     ---------------------------------        9.7/11.6 MB 2.7 MB/s eta 0:00:01\n",
      "     ---------------------------------        9.9/11.6 MB 2.7 MB/s eta 0:00:01\n",
      "     ----------------------------------       10.0/11.6 MB 2.7 MB/s eta 0:00:01\n",
      "     ----------------------------------       10.1/11.6 MB 2.7 MB/s eta 0:00:01\n",
      "     -----------------------------------      10.2/11.6 MB 2.7 MB/s eta 0:00:01\n",
      "     -----------------------------------      10.4/11.6 MB 2.7 MB/s eta 0:00:01\n",
      "     ------------------------------------     10.6/11.6 MB 2.7 MB/s eta 0:00:01\n",
      "     -------------------------------------    10.9/11.6 MB 2.7 MB/s eta 0:00:01\n",
      "     -------------------------------------    11.0/11.6 MB 2.7 MB/s eta 0:00:01\n",
      "     --------------------------------------   11.2/11.6 MB 2.6 MB/s eta 0:00:01\n",
      "     --------------------------------------   11.3/11.6 MB 2.6 MB/s eta 0:00:01\n",
      "     ---------------------------------------  11.3/11.6 MB 2.6 MB/s eta 0:00:01\n",
      "     ---------------------------------------  11.6/11.6 MB 2.6 MB/s eta 0:00:01\n",
      "     ---------------------------------------  11.6/11.6 MB 2.6 MB/s eta 0:00:01\n",
      "     ---------------------------------------  11.6/11.6 MB 2.6 MB/s eta 0:00:01\n",
      "     ---------------------------------------- 11.6/11.6 MB 2.5 MB/s eta 0:00:00\n",
      "Collecting numpy>=1.23.2 (from pandas)\n",
      "  Downloading numpy-1.26.4-cp311-cp311-win_amd64.whl (15.8 MB)\n",
      "                                              0.0/15.8 MB ? eta -:--:--\n",
      "                                              0.2/15.8 MB 7.4 MB/s eta 0:00:03\n",
      "     -                                        0.6/15.8 MB 7.6 MB/s eta 0:00:02\n",
      "     --                                       0.9/15.8 MB 6.9 MB/s eta 0:00:03\n",
      "     --                                       1.1/15.8 MB 6.5 MB/s eta 0:00:03\n",
      "     ---                                      1.4/15.8 MB 6.3 MB/s eta 0:00:03\n",
      "     ----                                     1.6/15.8 MB 5.9 MB/s eta 0:00:03\n",
      "     ----                                     1.8/15.8 MB 5.6 MB/s eta 0:00:03\n",
      "     ----                                     1.8/15.8 MB 5.5 MB/s eta 0:00:03\n",
      "     ----                                     1.8/15.8 MB 5.5 MB/s eta 0:00:03\n",
      "     ----                                     1.8/15.8 MB 5.5 MB/s eta 0:00:03\n",
      "     ----                                     1.8/15.8 MB 5.5 MB/s eta 0:00:03\n",
      "     ----                                     1.8/15.8 MB 5.5 MB/s eta 0:00:03\n",
      "     ----                                     1.9/15.8 MB 3.1 MB/s eta 0:00:05\n",
      "     -----                                    2.0/15.8 MB 3.1 MB/s eta 0:00:05\n",
      "     -----                                    2.3/15.8 MB 3.3 MB/s eta 0:00:05\n",
      "     ------                                   2.6/15.8 MB 3.5 MB/s eta 0:00:04\n",
      "     -------                                  2.8/15.8 MB 3.6 MB/s eta 0:00:04\n",
      "     -------                                  2.9/15.8 MB 3.6 MB/s eta 0:00:04\n",
      "     -------                                  3.0/15.8 MB 3.4 MB/s eta 0:00:04\n",
      "     -------                                  3.1/15.8 MB 3.4 MB/s eta 0:00:04\n",
      "     --------                                 3.3/15.8 MB 3.4 MB/s eta 0:00:04\n",
      "     --------                                 3.5/15.8 MB 3.4 MB/s eta 0:00:04\n",
      "     ---------                                3.6/15.8 MB 3.4 MB/s eta 0:00:04\n",
      "     ---------                                3.7/15.8 MB 3.3 MB/s eta 0:00:04\n",
      "     ---------                                3.9/15.8 MB 3.3 MB/s eta 0:00:04\n",
      "     ----------                               4.1/15.8 MB 3.4 MB/s eta 0:00:04\n",
      "     ----------                               4.3/15.8 MB 3.4 MB/s eta 0:00:04\n",
      "     -----------                              4.4/15.8 MB 3.4 MB/s eta 0:00:04\n",
      "     -----------                              4.7/15.8 MB 3.5 MB/s eta 0:00:04\n",
      "     ------------                             4.9/15.8 MB 3.5 MB/s eta 0:00:04\n",
      "     ------------                             5.1/15.8 MB 3.5 MB/s eta 0:00:04\n",
      "     -------------                            5.2/15.8 MB 3.5 MB/s eta 0:00:04\n",
      "     -------------                            5.3/15.8 MB 3.5 MB/s eta 0:00:04\n",
      "     -------------                            5.5/15.8 MB 3.5 MB/s eta 0:00:03\n",
      "     --------------                           5.6/15.8 MB 3.4 MB/s eta 0:00:04\n",
      "     --------------                           5.8/15.8 MB 3.4 MB/s eta 0:00:03\n",
      "     ---------------                          6.0/15.8 MB 3.5 MB/s eta 0:00:03\n",
      "     ---------------                          6.2/15.8 MB 3.5 MB/s eta 0:00:03\n",
      "     ---------------                          6.3/15.8 MB 3.5 MB/s eta 0:00:03\n",
      "     ----------------                         6.5/15.8 MB 3.5 MB/s eta 0:00:03\n",
      "     -----------------                        6.7/15.8 MB 3.5 MB/s eta 0:00:03\n",
      "     -----------------                        7.1/15.8 MB 3.6 MB/s eta 0:00:03\n",
      "     ------------------                       7.2/15.8 MB 3.6 MB/s eta 0:00:03\n",
      "     ------------------                       7.3/15.8 MB 3.6 MB/s eta 0:00:03\n",
      "     ------------------                       7.3/15.8 MB 3.6 MB/s eta 0:00:03\n",
      "     ------------------                       7.3/15.8 MB 3.6 MB/s eta 0:00:03\n",
      "     ------------------                       7.3/15.8 MB 3.6 MB/s eta 0:00:03\n",
      "     ------------------                       7.3/15.8 MB 3.6 MB/s eta 0:00:03\n",
      "     ------------------                       7.3/15.8 MB 3.6 MB/s eta 0:00:03\n",
      "     ------------------                       7.4/15.8 MB 3.2 MB/s eta 0:00:03\n",
      "     -------------------                      7.5/15.8 MB 3.2 MB/s eta 0:00:03\n",
      "     -------------------                      7.6/15.8 MB 3.1 MB/s eta 0:00:03\n",
      "     -------------------                      7.7/15.8 MB 3.1 MB/s eta 0:00:03\n",
      "     -------------------                      7.7/15.8 MB 3.1 MB/s eta 0:00:03\n",
      "     -------------------                      7.8/15.8 MB 3.1 MB/s eta 0:00:03\n",
      "     --------------------                     8.1/15.8 MB 3.1 MB/s eta 0:00:03\n",
      "     ---------------------                    8.3/15.8 MB 3.1 MB/s eta 0:00:03\n",
      "     ---------------------                    8.4/15.8 MB 3.1 MB/s eta 0:00:03\n",
      "     ---------------------                    8.4/15.8 MB 3.1 MB/s eta 0:00:03\n",
      "     ---------------------                    8.6/15.8 MB 3.1 MB/s eta 0:00:03\n",
      "     ----------------------                   8.7/15.8 MB 3.1 MB/s eta 0:00:03\n",
      "     ----------------------                   8.9/15.8 MB 3.1 MB/s eta 0:00:03\n",
      "     -----------------------                  9.1/15.8 MB 3.1 MB/s eta 0:00:03\n",
      "     -----------------------                  9.4/15.8 MB 3.1 MB/s eta 0:00:03\n",
      "     ------------------------                 9.8/15.8 MB 3.2 MB/s eta 0:00:02\n",
      "     -------------------------                10.1/15.8 MB 3.3 MB/s eta 0:00:02\n",
      "     --------------------------               10.4/15.8 MB 3.3 MB/s eta 0:00:02\n",
      "     --------------------------               10.4/15.8 MB 3.3 MB/s eta 0:00:02\n",
      "     --------------------------               10.4/15.8 MB 3.3 MB/s eta 0:00:02\n",
      "     --------------------------               10.4/15.8 MB 3.3 MB/s eta 0:00:02\n",
      "     --------------------------               10.4/15.8 MB 3.3 MB/s eta 0:00:02\n",
      "     --------------------------               10.5/15.8 MB 3.1 MB/s eta 0:00:02\n",
      "     --------------------------               10.6/15.8 MB 3.1 MB/s eta 0:00:02\n",
      "     ---------------------------              10.7/15.8 MB 3.0 MB/s eta 0:00:02\n",
      "     ---------------------------              10.9/15.8 MB 3.0 MB/s eta 0:00:02\n",
      "     ----------------------------             11.3/15.8 MB 3.0 MB/s eta 0:00:02\n",
      "     -----------------------------            11.7/15.8 MB 3.0 MB/s eta 0:00:02\n",
      "     ------------------------------           11.9/15.8 MB 3.1 MB/s eta 0:00:02\n",
      "     ------------------------------           12.2/15.8 MB 3.3 MB/s eta 0:00:02\n",
      "     ------------------------------           12.2/15.8 MB 3.3 MB/s eta 0:00:02\n",
      "     ------------------------------           12.2/15.8 MB 3.3 MB/s eta 0:00:02\n",
      "     ------------------------------           12.2/15.8 MB 3.3 MB/s eta 0:00:02\n",
      "     ------------------------------           12.2/15.8 MB 3.3 MB/s eta 0:00:02\n",
      "     ------------------------------           12.2/15.8 MB 3.1 MB/s eta 0:00:02\n",
      "     ------------------------------           12.2/15.8 MB 3.1 MB/s eta 0:00:02\n",
      "     -------------------------------          12.4/15.8 MB 3.1 MB/s eta 0:00:02\n",
      "     -------------------------------          12.6/15.8 MB 3.0 MB/s eta 0:00:02\n",
      "     --------------------------------         12.9/15.8 MB 3.0 MB/s eta 0:00:01\n",
      "     ---------------------------------        13.1/15.8 MB 3.1 MB/s eta 0:00:01\n",
      "     ---------------------------------        13.2/15.8 MB 3.1 MB/s eta 0:00:01\n",
      "     ---------------------------------        13.4/15.8 MB 3.1 MB/s eta 0:00:01\n",
      "     ---------------------------------        13.4/15.8 MB 3.1 MB/s eta 0:00:01\n",
      "     ----------------------------------       13.5/15.8 MB 3.0 MB/s eta 0:00:01\n",
      "     ----------------------------------       13.7/15.8 MB 3.0 MB/s eta 0:00:01\n",
      "     -----------------------------------      14.1/15.8 MB 3.1 MB/s eta 0:00:01\n",
      "     -----------------------------------      14.1/15.8 MB 3.1 MB/s eta 0:00:01\n",
      "     -----------------------------------      14.1/15.8 MB 3.1 MB/s eta 0:00:01\n",
      "     -----------------------------------      14.1/15.8 MB 3.0 MB/s eta 0:00:01\n",
      "     -----------------------------------      14.2/15.8 MB 3.0 MB/s eta 0:00:01\n",
      "     ------------------------------------     14.4/15.8 MB 3.0 MB/s eta 0:00:01\n",
      "     -------------------------------------    14.7/15.8 MB 3.0 MB/s eta 0:00:01\n",
      "     -------------------------------------    15.0/15.8 MB 3.0 MB/s eta 0:00:01\n",
      "     --------------------------------------   15.3/15.8 MB 3.0 MB/s eta 0:00:01\n",
      "     ---------------------------------------  15.5/15.8 MB 3.1 MB/s eta 0:00:01\n",
      "     ---------------------------------------  15.7/15.8 MB 3.1 MB/s eta 0:00:01\n",
      "     ---------------------------------------  15.8/15.8 MB 3.1 MB/s eta 0:00:01\n",
      "     ---------------------------------------  15.8/15.8 MB 3.1 MB/s eta 0:00:01\n",
      "     ---------------------------------------  15.8/15.8 MB 3.1 MB/s eta 0:00:01\n",
      "     ---------------------------------------- 15.8/15.8 MB 3.0 MB/s eta 0:00:00\n",
      "Requirement already satisfied: python-dateutil>=2.8.2 in c:\\python311\\lib\\site-packages (from pandas) (2.8.2)\n",
      "Collecting pytz>=2020.1 (from pandas)\n",
      "  Downloading pytz-2024.1-py2.py3-none-any.whl (505 kB)\n",
      "                                              0.0/505.5 kB ? eta -:--:--\n",
      "     ---------                              122.9/505.5 kB 2.4 MB/s eta 0:00:01\n",
      "     ---------------------                  286.7/505.5 kB 2.9 MB/s eta 0:00:01\n",
      "     ------------------------------------   491.5/505.5 kB 3.4 MB/s eta 0:00:01\n",
      "     -------------------------------------- 505.5/505.5 kB 3.2 MB/s eta 0:00:00\n",
      "Collecting tzdata>=2022.7 (from pandas)\n",
      "  Downloading tzdata-2024.1-py2.py3-none-any.whl (345 kB)\n",
      "                                              0.0/345.4 kB ? eta -:--:--\n",
      "     -------------                          122.9/345.4 kB 3.6 MB/s eta 0:00:01\n",
      "     ------------------------               225.3/345.4 kB 2.8 MB/s eta 0:00:01\n",
      "     -------------------------------------  337.9/345.4 kB 2.6 MB/s eta 0:00:01\n",
      "     -------------------------------------- 345.4/345.4 kB 2.7 MB/s eta 0:00:00\n",
      "Requirement already satisfied: six>=1.5 in c:\\python311\\lib\\site-packages (from python-dateutil>=2.8.2->pandas) (1.16.0)\n",
      "Installing collected packages: pytz, tzdata, numpy, pandas\n",
      "Successfully installed numpy-1.26.4 pandas-2.2.2 pytz-2024.1 tzdata-2024.1\n",
      "Note: you may need to restart the kernel to use updated packages.\n"
     ]
    },
    {
     "name": "stderr",
     "output_type": "stream",
     "text": [
      "\n",
      "[notice] A new release of pip is available: 23.1.2 -> 24.0\n",
      "[notice] To update, run: python.exe -m pip install --upgrade pip\n"
     ]
    }
   ],
   "source": [
    "pip install pandas"
   ]
  },
  {
   "cell_type": "code",
   "execution_count": 2,
   "metadata": {},
   "outputs": [],
   "source": [
    "import pandas as pd"
   ]
  },
  {
   "cell_type": "code",
   "execution_count": 5,
   "metadata": {},
   "outputs": [
    {
     "data": {
      "text/html": [
       "<div>\n",
       "<style scoped>\n",
       "    .dataframe tbody tr th:only-of-type {\n",
       "        vertical-align: middle;\n",
       "    }\n",
       "\n",
       "    .dataframe tbody tr th {\n",
       "        vertical-align: top;\n",
       "    }\n",
       "\n",
       "    .dataframe thead th {\n",
       "        text-align: right;\n",
       "    }\n",
       "</style>\n",
       "<table border=\"1\" class=\"dataframe\">\n",
       "  <thead>\n",
       "    <tr style=\"text-align: right;\">\n",
       "      <th></th>\n",
       "      <th>A</th>\n",
       "      <th>B</th>\n",
       "      <th>C</th>\n",
       "    </tr>\n",
       "  </thead>\n",
       "  <tbody>\n",
       "    <tr>\n",
       "      <th>0</th>\n",
       "      <td>2.0</td>\n",
       "      <td>3.0</td>\n",
       "      <td>1.414214</td>\n",
       "    </tr>\n",
       "  </tbody>\n",
       "</table>\n",
       "</div>"
      ],
      "text/plain": [
       "     A    B         C\n",
       "0  2.0  3.0  1.414214"
      ]
     },
     "execution_count": 5,
     "metadata": {},
     "output_type": "execute_result"
    }
   ],
   "source": [
    "import numpy as np\n",
    "\n",
    "df = pd.DataFrame([[4,9,2]], columns=['A','B','C'])\n",
    "\n",
    "\n",
    "df.apply(np.sqrt)\n",
    "\n"
   ]
  },
  {
   "cell_type": "code",
   "execution_count": 6,
   "metadata": {},
   "outputs": [
    {
     "data": {
      "text/plain": [
       "A    4\n",
       "B    9\n",
       "C    2\n",
       "dtype: int64"
      ]
     },
     "execution_count": 6,
     "metadata": {},
     "output_type": "execute_result"
    }
   ],
   "source": [
    "df.apply(np.sum, axis=0)"
   ]
  },
  {
   "cell_type": "code",
   "execution_count": 8,
   "metadata": {},
   "outputs": [
    {
     "data": {
      "text/html": [
       "<div>\n",
       "<style scoped>\n",
       "    .dataframe tbody tr th:only-of-type {\n",
       "        vertical-align: middle;\n",
       "    }\n",
       "\n",
       "    .dataframe tbody tr th {\n",
       "        vertical-align: top;\n",
       "    }\n",
       "\n",
       "    .dataframe thead th {\n",
       "        text-align: right;\n",
       "    }\n",
       "</style>\n",
       "<table border=\"1\" class=\"dataframe\">\n",
       "  <thead>\n",
       "    <tr style=\"text-align: right;\">\n",
       "      <th></th>\n",
       "      <th>A</th>\n",
       "      <th>B</th>\n",
       "      <th>C</th>\n",
       "      <th>D</th>\n",
       "    </tr>\n",
       "  </thead>\n",
       "  <tbody>\n",
       "    <tr>\n",
       "      <th>0</th>\n",
       "      <td>4</td>\n",
       "      <td>9</td>\n",
       "      <td>2</td>\n",
       "      <td>8</td>\n",
       "    </tr>\n",
       "  </tbody>\n",
       "</table>\n",
       "</div>"
      ],
      "text/plain": [
       "   A  B  C  D\n",
       "0  4  9  2  8"
      ]
     },
     "execution_count": 8,
     "metadata": {},
     "output_type": "execute_result"
    }
   ],
   "source": [
    "df['D'] = df['A'].apply(lambda X: X*2)\n",
    "df"
   ]
  },
  {
   "cell_type": "code",
   "execution_count": 9,
   "metadata": {},
   "outputs": [
    {
     "data": {
      "text/plain": [
       "0    13\n",
       "dtype: int64"
      ]
     },
     "execution_count": 9,
     "metadata": {},
     "output_type": "execute_result"
    }
   ],
   "source": [
    "reusultado = df.apply(lambda row: row['A'] + row['B'], axis=1)\n",
    "reusultado"
   ]
  },
  {
   "cell_type": "code",
   "execution_count": 10,
   "metadata": {},
   "outputs": [
    {
     "data": {
      "text/plain": [
       "4.0"
      ]
     },
     "execution_count": 10,
     "metadata": {},
     "output_type": "execute_result"
    }
   ],
   "source": [
    "reusultado = df['A'].apply(lambda x: x).mean()\n",
    "reusultado"
   ]
  },
  {
   "cell_type": "code",
   "execution_count": 26,
   "metadata": {},
   "outputs": [
    {
     "data": {
      "text/html": [
       "<div>\n",
       "<style scoped>\n",
       "    .dataframe tbody tr th:only-of-type {\n",
       "        vertical-align: middle;\n",
       "    }\n",
       "\n",
       "    .dataframe tbody tr th {\n",
       "        vertical-align: top;\n",
       "    }\n",
       "\n",
       "    .dataframe thead th {\n",
       "        text-align: right;\n",
       "    }\n",
       "</style>\n",
       "<table border=\"1\" class=\"dataframe\">\n",
       "  <thead>\n",
       "    <tr style=\"text-align: right;\">\n",
       "      <th></th>\n",
       "      <th>A</th>\n",
       "      <th>B</th>\n",
       "    </tr>\n",
       "  </thead>\n",
       "  <tbody>\n",
       "    <tr>\n",
       "      <th>0</th>\n",
       "      <td>0.1</td>\n",
       "      <td>0.135593</td>\n",
       "    </tr>\n",
       "    <tr>\n",
       "      <th>1</th>\n",
       "      <td>0.0</td>\n",
       "      <td>0.177966</td>\n",
       "    </tr>\n",
       "    <tr>\n",
       "      <th>2</th>\n",
       "      <td>0.6</td>\n",
       "      <td>1.000000</td>\n",
       "    </tr>\n",
       "    <tr>\n",
       "      <th>3</th>\n",
       "      <td>0.7</td>\n",
       "      <td>0.559322</td>\n",
       "    </tr>\n",
       "    <tr>\n",
       "      <th>4</th>\n",
       "      <td>1.0</td>\n",
       "      <td>0.000000</td>\n",
       "    </tr>\n",
       "  </tbody>\n",
       "</table>\n",
       "</div>"
      ],
      "text/plain": [
       "     A         B\n",
       "0  0.1  0.135593\n",
       "1  0.0  0.177966\n",
       "2  0.6  1.000000\n",
       "3  0.7  0.559322\n",
       "4  1.0  0.000000"
      ]
     },
     "execution_count": 26,
     "metadata": {},
     "output_type": "execute_result"
    }
   ],
   "source": [
    "# 1. Crie uma programa para fazer a normalização das seguintes variáveis:\n",
    "\n",
    "# Coluna A: 6, 5, 11, 12, 15\n",
    "# Coluna B: [100, 105, 202, 150, 84]\n",
    "\n",
    "# nomralização = (x - xmin)/ (xmax - xmin)\n",
    "\n",
    "dados={\n",
    "    'A': [6, 5, 11, 12, 15],\n",
    "    'B': [100, 105, 202, 150, 84]\n",
    "}\n",
    "\n",
    "df_dados = pd.DataFrame(dados)\n",
    "\n",
    "df_dados= df_dados.apply(lambda x: (x - x.min()) / (x.max() - x.min()))\n",
    "df_dados\n",
    "\n"
   ]
  },
  {
   "cell_type": "code",
   "execution_count": 30,
   "metadata": {},
   "outputs": [
    {
     "data": {
      "text/html": [
       "<div>\n",
       "<style scoped>\n",
       "    .dataframe tbody tr th:only-of-type {\n",
       "        vertical-align: middle;\n",
       "    }\n",
       "\n",
       "    .dataframe tbody tr th {\n",
       "        vertical-align: top;\n",
       "    }\n",
       "\n",
       "    .dataframe thead th {\n",
       "        text-align: right;\n",
       "    }\n",
       "</style>\n",
       "<table border=\"1\" class=\"dataframe\">\n",
       "  <thead>\n",
       "    <tr style=\"text-align: right;\">\n",
       "      <th></th>\n",
       "      <th>A</th>\n",
       "      <th>B</th>\n",
       "      <th>A_norm</th>\n",
       "    </tr>\n",
       "  </thead>\n",
       "  <tbody>\n",
       "    <tr>\n",
       "      <th>0</th>\n",
       "      <td>6</td>\n",
       "      <td>100</td>\n",
       "      <td>0.1</td>\n",
       "    </tr>\n",
       "    <tr>\n",
       "      <th>1</th>\n",
       "      <td>5</td>\n",
       "      <td>105</td>\n",
       "      <td>0.0</td>\n",
       "    </tr>\n",
       "    <tr>\n",
       "      <th>2</th>\n",
       "      <td>11</td>\n",
       "      <td>202</td>\n",
       "      <td>0.6</td>\n",
       "    </tr>\n",
       "    <tr>\n",
       "      <th>3</th>\n",
       "      <td>12</td>\n",
       "      <td>150</td>\n",
       "      <td>0.7</td>\n",
       "    </tr>\n",
       "    <tr>\n",
       "      <th>4</th>\n",
       "      <td>15</td>\n",
       "      <td>84</td>\n",
       "      <td>1.0</td>\n",
       "    </tr>\n",
       "  </tbody>\n",
       "</table>\n",
       "</div>"
      ],
      "text/plain": [
       "    A    B  A_norm\n",
       "0   6  100     0.1\n",
       "1   5  105     0.0\n",
       "2  11  202     0.6\n",
       "3  12  150     0.7\n",
       "4  15   84     1.0"
      ]
     },
     "execution_count": 30,
     "metadata": {},
     "output_type": "execute_result"
    }
   ],
   "source": [
    "# 2. agora faça a normalização utilizado apenas a função def\n",
    "\n",
    "dados={\n",
    "    'A': [6, 5, 11, 12, 15],\n",
    "    'B': [100, 105, 202, 150, 84]\n",
    "}\n",
    "\n",
    "df_dados = pd.DataFrame(dados)\n",
    "\n",
    "def normalizar(x):\n",
    "     return (x - x.min()) / (x.max() - x.min())\n",
    "\n",
    "df_dados['A_norm'] = normalizar(df_dados['A'])\n",
    "df_dados\n"
   ]
  },
  {
   "cell_type": "code",
   "execution_count": 31,
   "metadata": {},
   "outputs": [
    {
     "name": "stdout",
     "output_type": "stream",
     "text": [
      "20.0\n"
     ]
    }
   ],
   "source": [
    "# 3a. Crie um programa parra calcular a média simples usando a função def.\n",
    "\n",
    "amostra = [10,12,14,16,18,20,22,24,26,28,30]\n",
    "\n",
    "\n",
    "def media(lista):\n",
    "    return sum(lista) / len(lista)\n",
    "\n",
    "print(media(amostra))\n"
   ]
  },
  {
   "cell_type": "code",
   "execution_count": 34,
   "metadata": {},
   "outputs": [
    {
     "name": "stdout",
     "output_type": "stream",
     "text": [
      "[11.0, 13.0, 15.0, 17.0, 19.0, 21.0, 23.0, 25.0, 27.0, 29.0]\n"
     ]
    }
   ],
   "source": [
    "# 3b. Crie um programa parra calcular a média rolante (móvel) usando a função  def, lista vazia, range e len, append e retorne a média rolante ou média móvel.\n",
    "\n",
    "amostra = [10,12,14,16,18,20,22,24,26,28,30]\n",
    "janela = int(input('Digite a janela deslizante desejada: '))\n",
    "\n",
    "def media(lista):\n",
    "    return sum(lista) / len(lista)\n",
    "\n",
    "\n",
    "def media_rola(lista, janela):\n",
    "    media_rola = []\n",
    "\n",
    "    for i in range(len(lista) - janela + 1):\n",
    "        media_s = media(lista[i:i+janela])\n",
    "        media_rola.append(media_s)\n",
    "    return media_rola\n",
    "\n",
    "print(media_rola(amostra, janela))\n"
   ]
  },
  {
   "cell_type": "code",
   "execution_count": 38,
   "metadata": {},
   "outputs": [
    {
     "name": "stdout",
     "output_type": "stream",
     "text": [
      "[11.0, 13.0, 15.0, 17.0, 19.0, 21.0, 23.0, 25.0, 27.0, 29.0]\n"
     ]
    }
   ],
   "source": [
    "# 4. Crie um programa para calcular a média móvel utilizando a função para uma janela deslizante = 2\n",
    "amostra = [10,12,14,16,18,20,22,24,26,28,30]\n",
    "janela = 2\n",
    "\n",
    "\n",
    "def media_mov(lista, janela):\n",
    "    media_mov = []\n",
    "\n",
    "    for i in range(len(lista) - janela + 1):\n",
    "        media = (lambda x: sum(x) / len(x)) (lista[i:i+janela])\n",
    "        media_mov.append(media)\n",
    "    return media_mov\n",
    "\n",
    "\n",
    "\n",
    "print(media_mov(amostra, janela))"
   ]
  }
 ],
 "metadata": {
  "kernelspec": {
   "display_name": "Python 3",
   "language": "python",
   "name": "python3"
  },
  "language_info": {
   "codemirror_mode": {
    "name": "ipython",
    "version": 3
   },
   "file_extension": ".py",
   "mimetype": "text/x-python",
   "name": "python",
   "nbconvert_exporter": "python",
   "pygments_lexer": "ipython3",
   "version": "3.11.4"
  },
  "orig_nbformat": 4
 },
 "nbformat": 4,
 "nbformat_minor": 2
}
