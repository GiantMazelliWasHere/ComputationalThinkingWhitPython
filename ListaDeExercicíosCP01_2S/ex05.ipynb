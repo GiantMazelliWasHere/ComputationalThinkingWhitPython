{
 "cells": [
  {
   "cell_type": "markdown",
   "metadata": {},
   "source": [
    "# 5. Operação entre Pandas Series e NumPy"
   ]
  },
  {
   "cell_type": "code",
   "execution_count": 1,
   "metadata": {},
   "outputs": [],
   "source": [
    "import pandas as pd\n",
    "import numpy as np"
   ]
  },
  {
   "cell_type": "code",
   "execution_count": 11,
   "metadata": {},
   "outputs": [
    {
     "name": "stdout",
     "output_type": "stream",
     "text": [
      "a.\n",
      "0     1\n",
      "1     2\n",
      "2     3\n",
      "3     4\n",
      "4     5\n",
      "5     6\n",
      "6     7\n",
      "7     8\n",
      "8     9\n",
      "9    10\n",
      "dtype: int64\n",
      "b. [ 1  2  3  4  5  6  7  8  9 10]\n",
      "c. Soma: [ 2  4  6  8 10 12 14 16 18 20], Subtração: [0 0 0 0 0 0 0 0 0 0], Multiplicação: [  1   4   9  16  25  36  49  64  81 100] e Divisão: [1. 1. 1. 1. 1. 1. 1. 1. 1. 1.]\n",
      "e.\n",
      "0      1\n",
      "1      4\n",
      "2      9\n",
      "3     16\n",
      "4     25\n",
      "5     36\n",
      "6     49\n",
      "7     64\n",
      "8     81\n",
      "9    100\n",
      "dtype: int64\n"
     ]
    }
   ],
   "source": [
    "# a. Crie uma Panda Series a partir de uma lista de números\n",
    "\n",
    "numeros = [1,2,3,4,5,6,7,8,9,10]\n",
    "numeros_serie = pd.Series(numeros)\n",
    "print(f'a.\\n{numeros_serie}')\n",
    "\n",
    "# b. Converta essa Series em um array NumPy\n",
    "\n",
    "numeros_array = np.array(numeros_serie)\n",
    "print(f'b. {numeros_array}')\n",
    "\n",
    "# c. Realize uma operação matemática (por exemplo, multiplicação por um escalar) no array NumPy\n",
    "\n",
    "numero_soma = numeros_array + numeros_array\n",
    "numeros_sub = numeros_array - numeros_array\n",
    "numeros_mult = numeros_array * numeros_array\n",
    "numeros_div = numeros_array / numeros_array\n",
    "print(f'c. Soma: {numero_soma}, Subtração: {numeros_sub}, Multiplicação: {numeros_mult} e Divisão: {numeros_div}')\n",
    "\n",
    "# d. Coverta o array resultante de volta para um Panda Series\n",
    "\n",
    "series_mult = pd.Series(numeros_mult)\n",
    "print(f'd.\\n{series_mult}')\n",
    "\n",
    "# e. Exiba a nova series e verifique se os elementos foram alterados conforme a operação realizada\n",
    "\n",
    "print(f'e.\\n{series_mult}')"
   ]
  }
 ],
 "metadata": {
  "kernelspec": {
   "display_name": "Python 3",
   "language": "python",
   "name": "python3"
  },
  "language_info": {
   "codemirror_mode": {
    "name": "ipython",
    "version": 3
   },
   "file_extension": ".py",
   "mimetype": "text/x-python",
   "name": "python",
   "nbconvert_exporter": "python",
   "pygments_lexer": "ipython3",
   "version": "3.12.2"
  }
 },
 "nbformat": 4,
 "nbformat_minor": 2
}
