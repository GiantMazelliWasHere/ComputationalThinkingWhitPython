{
 "cells": [
  {
   "cell_type": "markdown",
   "metadata": {},
   "source": [
    "# 2. Operação com Panda Series"
   ]
  },
  {
   "cell_type": "code",
   "execution_count": null,
   "metadata": {},
   "outputs": [],
   "source": [
    "pip install pandas"
   ]
  },
  {
   "cell_type": "code",
   "execution_count": 1,
   "metadata": {},
   "outputs": [],
   "source": [
    "import pandas as pd"
   ]
  },
  {
   "cell_type": "code",
   "execution_count": 11,
   "metadata": {},
   "outputs": [
    {
     "name": "stdout",
     "output_type": "stream",
     "text": [
      "a.\n",
      "0          USA\n",
      "1    Australia\n",
      "2       Canada\n",
      "3      England\n",
      "dtype: object\n",
      "b.\n",
      "0    331.90\n",
      "1     25.69\n",
      "2     38.25\n",
      "3     55.98\n",
      "dtype: float64\n",
      "c.\n",
      "USA          331.90\n",
      "Australia     25.69\n",
      "Canada        38.25\n",
      "England       55.98\n",
      "dtype: float64\n",
      "d. a média populacional entre os páises listados é: 112.955\n"
     ]
    }
   ],
   "source": [
    "# a. Crie um Panda Series a partir de uma lista de nomes de países\n",
    "\n",
    "paises = ['USA', 'Australia', 'Canada', 'England']\n",
    "paises_series = pd.Series(paises)\n",
    "print(f'a.\\n{paises_series}')\n",
    "\n",
    "# b. Crie outra Panda Series a partir de uma lista de populações correspondentes aos países\n",
    "\n",
    "populacao = [331.90, 25.69, 38.25, 55.98]\n",
    "populacao_series = pd.Series(populacao)\n",
    "print(f'b.\\n{populacao_series}')\n",
    "\n",
    "# c. Utilize a primeira Series como índice da segunda\n",
    "\n",
    "pais_populacao = pd.Series(populacao, index=paises)\n",
    "print(f'c.\\n{pais_populacao}')\n",
    "\n",
    "# d. Calcule a população média dos países listados\n",
    "\n",
    "media = pais_populacao.mean()\n",
    "print(f'd. a média populacional entre os páises listados é: {media}')"
   ]
  }
 ],
 "metadata": {
  "kernelspec": {
   "display_name": "Python 3",
   "language": "python",
   "name": "python3"
  },
  "language_info": {
   "codemirror_mode": {
    "name": "ipython",
    "version": 3
   },
   "file_extension": ".py",
   "mimetype": "text/x-python",
   "name": "python",
   "nbconvert_exporter": "python",
   "pygments_lexer": "ipython3",
   "version": "3.12.2"
  }
 },
 "nbformat": 4,
 "nbformat_minor": 2
}
