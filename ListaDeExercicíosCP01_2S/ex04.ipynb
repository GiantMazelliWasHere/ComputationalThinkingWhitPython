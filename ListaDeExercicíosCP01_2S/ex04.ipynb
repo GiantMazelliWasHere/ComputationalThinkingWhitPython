{
 "cells": [
  {
   "cell_type": "markdown",
   "metadata": {},
   "source": [
    "# 4. Concatenação de Panda Series"
   ]
  },
  {
   "cell_type": "code",
   "execution_count": 1,
   "metadata": {},
   "outputs": [],
   "source": [
    "import pandas as pd"
   ]
  },
  {
   "cell_type": "code",
   "execution_count": 6,
   "metadata": {},
   "outputs": [
    {
     "name": "stdout",
     "output_type": "stream",
     "text": [
      "a.\n",
      "0    1\n",
      "1    2\n",
      "2    3\n",
      "3    4\n",
      "4    5\n",
      "dtype: int64\n",
      "0     6\n",
      "1     7\n",
      "2     8\n",
      "3     9\n",
      "4    10\n",
      "dtype: int64\n",
      "b.\n",
      "0     1\n",
      "1     2\n",
      "2     3\n",
      "3     4\n",
      "4     5\n",
      "0     6\n",
      "1     7\n",
      "2     8\n",
      "3     9\n",
      "4    10\n",
      "dtype: int64\n",
      "c. A média é: 5.5\n"
     ]
    }
   ],
   "source": [
    "# a. Crie duas Pandas Series a partir de duas listas de números\n",
    "\n",
    "numeros_1 = [1,2,3,4,5]\n",
    "numeros_2 = [6,7,8,9,10]\n",
    "n1_series = pd.Series(numeros_1)\n",
    "n2_Series = pd.Series(numeros_2)\n",
    "print(f'a.\\n{n1_series}\\n{n2_Series}')\n",
    "\n",
    "# b. Concatene as duas Series\n",
    "numeros_concat = pd.concat([n1_series, n2_Series])\n",
    "print(f'b.\\n{numeros_concat}')\n",
    "\n",
    "# c. Em seguida, calcule a média dso elementos resultantes\n",
    "\n",
    "media = numeros_concat.mean()\n",
    "print(f'c. A média é: {media}')\n"
   ]
  }
 ],
 "metadata": {
  "kernelspec": {
   "display_name": "Python 3",
   "language": "python",
   "name": "python3"
  },
  "language_info": {
   "codemirror_mode": {
    "name": "ipython",
    "version": 3
   },
   "file_extension": ".py",
   "mimetype": "text/x-python",
   "name": "python",
   "nbconvert_exporter": "python",
   "pygments_lexer": "ipython3",
   "version": "3.12.2"
  }
 },
 "nbformat": 4,
 "nbformat_minor": 2
}
