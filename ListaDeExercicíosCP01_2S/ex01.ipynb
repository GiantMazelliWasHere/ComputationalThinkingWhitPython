{
 "cells": [
  {
   "cell_type": "markdown",
   "metadata": {},
   "source": [
    "# 1. Criação de uma lista e tupla combinada"
   ]
  },
  {
   "cell_type": "code",
   "execution_count": null,
   "metadata": {},
   "outputs": [],
   "source": [
    "pip install Numpy"
   ]
  },
  {
   "cell_type": "code",
   "execution_count": 2,
   "metadata": {},
   "outputs": [],
   "source": [
    "import numpy as np"
   ]
  },
  {
   "cell_type": "code",
   "execution_count": 5,
   "metadata": {},
   "outputs": [
    {
     "name": "stdout",
     "output_type": "stream",
     "text": [
      "a. [1, 2, 3, 4, 5]\n",
      "b. (1, 2, 3, 4, 5)\n",
      "c. [1 2 3 4 5]\n",
      "d. 3.0\n"
     ]
    }
   ],
   "source": [
    "# a. Crie uma lista de 5 elementos númericos\n",
    "\n",
    "numeros = [1,2,3,4,5]\n",
    "print(f'a. {numeros}')\n",
    "\n",
    "# b. Converta essa lista para tupla\n",
    "\n",
    "numeros_tupla = tuple(numeros)\n",
    "print(f'b. {numeros_tupla}')\n",
    "\n",
    "# c. Utilize NumPy para criar um array apartir da tupla\n",
    "\n",
    "numeros_array = np.array(numeros_tupla)\n",
    "print(f'c. {numeros_array}')\n",
    "\n",
    "# d. Em seguida, calcule a média dos elementos desse array\n",
    "\n",
    "média = numeros_array.mean()\n",
    "print(f'd. A média é: {média}')\n"
   ]
  }
 ],
 "metadata": {
  "kernelspec": {
   "display_name": "Python 3",
   "language": "python",
   "name": "python3"
  },
  "language_info": {
   "codemirror_mode": {
    "name": "ipython",
    "version": 3
   },
   "file_extension": ".py",
   "mimetype": "text/x-python",
   "name": "python",
   "nbconvert_exporter": "python",
   "pygments_lexer": "ipython3",
   "version": "3.12.2"
  }
 },
 "nbformat": 4,
 "nbformat_minor": 2
}
