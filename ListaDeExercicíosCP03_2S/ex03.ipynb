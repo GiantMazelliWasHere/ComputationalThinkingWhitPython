{
 "cells": [
  {
   "cell_type": "markdown",
   "metadata": {},
   "source": [
    "# 3. Manipulação de listas e tuplas com NumPy"
   ]
  },
  {
   "cell_type": "code",
   "execution_count": null,
   "metadata": {},
   "outputs": [],
   "source": [
    "pip install numpy"
   ]
  },
  {
   "cell_type": "code",
   "execution_count": 2,
   "metadata": {},
   "outputs": [],
   "source": [
    "import numpy as np"
   ]
  },
  {
   "cell_type": "code",
   "execution_count": 5,
   "metadata": {},
   "outputs": [
    {
     "name": "stdout",
     "output_type": "stream",
     "text": [
      "a. [1, 2, 3, 4, 5, 6, 7, 8, 9, 10]\n",
      "b. [ 1  2  3  4  5  6  7  8  9 10]\n",
      "c. Máximo: 10, Mínimo: 1 e Média: 5.5\n"
     ]
    }
   ],
   "source": [
    "# a. Crie uma lista de 10 números inteiros\n",
    "\n",
    "numeros = [1,2,3,4,5,6,7,8,9,10]\n",
    "print(f'a. {numeros}')\n",
    "\n",
    "# b. Converta essa lista em um array NumPy\n",
    "\n",
    "numeros_array = np.array(numeros)\n",
    "print(f'b. {numeros_array}')\n",
    "\n",
    "# c. Utilize NumPy para encontrar o máximo, mínimo e média dos elementos do array\n",
    "\n",
    "max_numeros = np.max(numeros_array)\n",
    "min_numeros = np.min(numeros_array)\n",
    "media_numeros = np.mean(numeros_array)\n",
    "print(f'c. Máximo: {max_numeros}, Mínimo: {min_numeros} e Média: {media_numeros}')"
   ]
  }
 ],
 "metadata": {
  "kernelspec": {
   "display_name": "Python 3",
   "language": "python",
   "name": "python3"
  },
  "language_info": {
   "codemirror_mode": {
    "name": "ipython",
    "version": 3
   },
   "file_extension": ".py",
   "mimetype": "text/x-python",
   "name": "python",
   "nbconvert_exporter": "python",
   "pygments_lexer": "ipython3",
   "version": "3.12.2"
  }
 },
 "nbformat": 4,
 "nbformat_minor": 2
}
