{
 "cells": [
  {
   "cell_type": "code",
   "execution_count": 5,
   "metadata": {},
   "outputs": [
    {
     "name": "stdout",
     "output_type": "stream",
     "text": [
      "A terceira lista é: [6]\n"
     ]
    },
    {
     "name": "stdout",
     "output_type": "stream",
     "text": [
      "A terceira lista é: [6, 8]\n",
      "A terceira lista é: [6, 8, 10]\n",
      "A terceira lista é: [6, 8, 10, 12]\n"
     ]
    }
   ],
   "source": [
    "lista1 = [1,2,3,4]\n",
    "lista2 = [5,6,7,8]\n",
    "soma_elementos = []\n",
    "\n",
    "for i in range(len(lista1)):\n",
    "    soma_elementos.append(lista1[i] + lista2[i])\n",
    "    print(f'A terceira lista é: {soma_elementos}')"
   ]
  },
  {
   "cell_type": "code",
   "execution_count": 3,
   "metadata": {},
   "outputs": [
    {
     "name": "stdout",
     "output_type": "stream",
     "text": [
      "Requirement already satisfied: pandas in c:\\python311\\lib\\site-packages (2.1.1)Note: you may need to restart the kernel to use updated packages.\n",
      "\n",
      "Requirement already satisfied: numpy>=1.23.2 in c:\\python311\\lib\\site-packages (from pandas) (1.26.1)\n",
      "Requirement already satisfied: python-dateutil>=2.8.2 in c:\\python311\\lib\\site-packages (from pandas) (2.8.2)\n",
      "Requirement already satisfied: pytz>=2020.1 in c:\\python311\\lib\\site-packages (from pandas) (2023.3.post1)\n",
      "Requirement already satisfied: tzdata>=2022.1 in c:\\python311\\lib\\site-packages (from pandas) (2023.3)\n",
      "Requirement already satisfied: six>=1.5 in c:\\python311\\lib\\site-packages (from python-dateutil>=2.8.2->pandas) (1.16.0)\n"
     ]
    },
    {
     "name": "stderr",
     "output_type": "stream",
     "text": [
      "\n",
      "[notice] A new release of pip is available: 23.1.2 -> 23.3\n",
      "[notice] To update, run: python.exe -m pip install --upgrade pip\n"
     ]
    }
   ],
   "source": [
    "pip install pandas"
   ]
  },
  {
   "cell_type": "code",
   "execution_count": 4,
   "metadata": {},
   "outputs": [],
   "source": [
    "import pandas as pd"
   ]
  },
  {
   "cell_type": "code",
   "execution_count": 14,
   "metadata": {},
   "outputs": [],
   "source": [
    "data = {'indice' : [0,1,2,3,4],\n",
    "        'numero1' : [1,2,3,4,5,],\n",
    "        'numero2' : [4,3,5,1,9],\n",
    "        'texto1' : ['x', 'y', 'z', 'y', 'w']\n",
    "        }\n",
    "\n",
    "df = pd.DataFrame(data)"
   ]
  },
  {
   "cell_type": "code",
   "execution_count": 15,
   "metadata": {},
   "outputs": [
    {
     "data": {
      "text/html": [
       "<div>\n",
       "<style scoped>\n",
       "    .dataframe tbody tr th:only-of-type {\n",
       "        vertical-align: middle;\n",
       "    }\n",
       "\n",
       "    .dataframe tbody tr th {\n",
       "        vertical-align: top;\n",
       "    }\n",
       "\n",
       "    .dataframe thead th {\n",
       "        text-align: right;\n",
       "    }\n",
       "</style>\n",
       "<table border=\"1\" class=\"dataframe\">\n",
       "  <thead>\n",
       "    <tr style=\"text-align: right;\">\n",
       "      <th></th>\n",
       "      <th>indice</th>\n",
       "      <th>numero1</th>\n",
       "      <th>numero2</th>\n",
       "      <th>texto1</th>\n",
       "    </tr>\n",
       "  </thead>\n",
       "  <tbody>\n",
       "    <tr>\n",
       "      <th>0</th>\n",
       "      <td>0</td>\n",
       "      <td>1</td>\n",
       "      <td>4</td>\n",
       "      <td>x</td>\n",
       "    </tr>\n",
       "    <tr>\n",
       "      <th>1</th>\n",
       "      <td>1</td>\n",
       "      <td>2</td>\n",
       "      <td>3</td>\n",
       "      <td>y</td>\n",
       "    </tr>\n",
       "    <tr>\n",
       "      <th>2</th>\n",
       "      <td>2</td>\n",
       "      <td>3</td>\n",
       "      <td>5</td>\n",
       "      <td>z</td>\n",
       "    </tr>\n",
       "    <tr>\n",
       "      <th>3</th>\n",
       "      <td>3</td>\n",
       "      <td>4</td>\n",
       "      <td>1</td>\n",
       "      <td>y</td>\n",
       "    </tr>\n",
       "    <tr>\n",
       "      <th>4</th>\n",
       "      <td>4</td>\n",
       "      <td>5</td>\n",
       "      <td>9</td>\n",
       "      <td>w</td>\n",
       "    </tr>\n",
       "  </tbody>\n",
       "</table>\n",
       "</div>"
      ],
      "text/plain": [
       "   indice  numero1  numero2 texto1\n",
       "0       0        1        4      x\n",
       "1       1        2        3      y\n",
       "2       2        3        5      z\n",
       "3       3        4        1      y\n",
       "4       4        5        9      w"
      ]
     },
     "execution_count": 15,
     "metadata": {},
     "output_type": "execute_result"
    }
   ],
   "source": [
    "df"
   ]
  },
  {
   "cell_type": "code",
   "execution_count": 17,
   "metadata": {},
   "outputs": [],
   "source": [
    "df.to_csv(\"primero_dataframe.csv\")"
   ]
  },
  {
   "cell_type": "code",
   "execution_count": 18,
   "metadata": {},
   "outputs": [
    {
     "name": "stdout",
     "output_type": "stream",
     "text": [
      "Collecting matplotlib\n",
      "  Downloading matplotlib-3.8.0-cp311-cp311-win_amd64.whl (7.6 MB)\n",
      "                                              0.0/7.6 MB ? eta -:--:--\n",
      "     --                                       0.5/7.6 MB 14.9 MB/s eta 0:00:01\n",
      "     -----                                    1.0/7.6 MB 11.0 MB/s eta 0:00:01\n",
      "     --------                                 1.6/7.6 MB 11.3 MB/s eta 0:00:01\n",
      "     --------                                 1.6/7.6 MB 11.6 MB/s eta 0:00:01\n",
      "     --------                                 1.6/7.6 MB 11.6 MB/s eta 0:00:01\n",
      "     --------                                 1.6/7.6 MB 11.6 MB/s eta 0:00:01\n",
      "     --------                                 1.6/7.6 MB 11.6 MB/s eta 0:00:01\n",
      "     --------                                 1.6/7.6 MB 11.6 MB/s eta 0:00:01\n",
      "     ----------                               2.0/7.6 MB 4.8 MB/s eta 0:00:02\n",
      "     -------------                            2.6/7.6 MB 5.5 MB/s eta 0:00:01\n",
      "     ----------------                         3.1/7.6 MB 6.1 MB/s eta 0:00:01\n",
      "     ------------------                       3.5/7.6 MB 6.5 MB/s eta 0:00:01\n",
      "     ------------------                       3.5/7.6 MB 6.5 MB/s eta 0:00:01\n",
      "     ------------------                       3.5/7.6 MB 6.5 MB/s eta 0:00:01\n",
      "     ------------------                       3.5/7.6 MB 6.5 MB/s eta 0:00:01\n",
      "     ------------------                       3.5/7.6 MB 6.5 MB/s eta 0:00:01\n",
      "     ------------------                       3.5/7.6 MB 6.5 MB/s eta 0:00:01\n",
      "     ------------------                       3.5/7.6 MB 6.5 MB/s eta 0:00:01\n",
      "     ------------------                       3.5/7.6 MB 6.5 MB/s eta 0:00:01\n",
      "     ------------------                       3.5/7.6 MB 6.5 MB/s eta 0:00:01\n",
      "     ------------------                       3.5/7.6 MB 6.5 MB/s eta 0:00:01\n",
      "     ------------------                       3.5/7.6 MB 6.5 MB/s eta 0:00:01\n",
      "     ------------------                       3.5/7.6 MB 6.5 MB/s eta 0:00:01\n",
      "     ------------------                       3.5/7.6 MB 6.5 MB/s eta 0:00:01\n",
      "     ------------------                       3.5/7.6 MB 6.5 MB/s eta 0:00:01\n",
      "     ------------------                       3.5/7.6 MB 2.9 MB/s eta 0:00:02\n",
      "     ---------------------                    4.1/7.6 MB 3.2 MB/s eta 0:00:02\n",
      "     ------------------------                 4.6/7.6 MB 3.5 MB/s eta 0:00:01\n",
      "     --------------------------               5.2/7.6 MB 3.8 MB/s eta 0:00:01\n",
      "     ---------------------------              5.3/7.6 MB 3.9 MB/s eta 0:00:01\n",
      "     ---------------------------              5.3/7.6 MB 3.9 MB/s eta 0:00:01\n",
      "     ---------------------------              5.3/7.6 MB 3.9 MB/s eta 0:00:01\n",
      "     ---------------------------              5.3/7.6 MB 3.9 MB/s eta 0:00:01\n",
      "     ---------------------------              5.3/7.6 MB 3.9 MB/s eta 0:00:01\n",
      "     ---------------------------              5.3/7.6 MB 3.9 MB/s eta 0:00:01\n",
      "     ---------------------------              5.3/7.6 MB 3.9 MB/s eta 0:00:01\n",
      "     ---------------------------              5.3/7.6 MB 3.9 MB/s eta 0:00:01\n",
      "     ---------------------------              5.3/7.6 MB 3.9 MB/s eta 0:00:01\n",
      "     ---------------------------              5.3/7.6 MB 3.9 MB/s eta 0:00:01\n",
      "     ---------------------------              5.3/7.6 MB 3.9 MB/s eta 0:00:01\n",
      "     ---------------------------              5.3/7.6 MB 3.9 MB/s eta 0:00:01\n",
      "     ---------------------------              5.3/7.6 MB 3.9 MB/s eta 0:00:01\n",
      "     ---------------------------              5.3/7.6 MB 3.9 MB/s eta 0:00:01\n",
      "     -----------------------------            5.6/7.6 MB 2.7 MB/s eta 0:00:01\n",
      "     -------------------------------          6.0/7.6 MB 2.9 MB/s eta 0:00:01\n",
      "     ----------------------------------       6.5/7.6 MB 3.0 MB/s eta 0:00:01\n",
      "     ------------------------------------     7.0/7.6 MB 3.2 MB/s eta 0:00:01\n",
      "     -------------------------------------    7.2/7.6 MB 3.3 MB/s eta 0:00:01\n",
      "     -------------------------------------    7.2/7.6 MB 3.3 MB/s eta 0:00:01\n",
      "     -------------------------------------    7.2/7.6 MB 3.3 MB/s eta 0:00:01\n",
      "     -------------------------------------    7.2/7.6 MB 3.3 MB/s eta 0:00:01\n",
      "     -------------------------------------    7.2/7.6 MB 3.3 MB/s eta 0:00:01\n",
      "     -------------------------------------    7.2/7.6 MB 3.3 MB/s eta 0:00:01\n",
      "     -------------------------------------    7.2/7.6 MB 3.3 MB/s eta 0:00:01\n",
      "     -------------------------------------    7.2/7.6 MB 3.3 MB/s eta 0:00:01\n",
      "     -------------------------------------    7.2/7.6 MB 3.3 MB/s eta 0:00:01\n",
      "     -------------------------------------    7.2/7.6 MB 3.3 MB/s eta 0:00:01\n",
      "     -------------------------------------    7.2/7.6 MB 3.3 MB/s eta 0:00:01\n",
      "     -------------------------------------    7.2/7.6 MB 3.3 MB/s eta 0:00:01\n",
      "     -------------------------------------    7.2/7.6 MB 3.3 MB/s eta 0:00:01\n",
      "     -------------------------------------    7.2/7.6 MB 3.3 MB/s eta 0:00:01\n",
      "     --------------------------------------   7.4/7.6 MB 2.6 MB/s eta 0:00:01\n",
      "     ---------------------------------------  7.6/7.6 MB 2.6 MB/s eta 0:00:01\n",
      "     ---------------------------------------  7.6/7.6 MB 2.6 MB/s eta 0:00:01\n",
      "     ---------------------------------------- 7.6/7.6 MB 2.6 MB/s eta 0:00:00\n",
      "Collecting contourpy>=1.0.1 (from matplotlib)\n",
      "  Downloading contourpy-1.1.1-cp311-cp311-win_amd64.whl (480 kB)\n",
      "                                              0.0/480.5 kB ? eta -:--:--\n",
      "     -------------------------------------  471.0/480.5 kB 9.8 MB/s eta 0:00:01\n",
      "     -------------------------------------- 480.5/480.5 kB 7.6 MB/s eta 0:00:00\n",
      "Collecting cycler>=0.10 (from matplotlib)\n",
      "  Downloading cycler-0.12.1-py3-none-any.whl (8.3 kB)\n",
      "Collecting fonttools>=4.22.0 (from matplotlib)\n",
      "  Downloading fonttools-4.43.1-cp311-cp311-win_amd64.whl (2.1 MB)\n",
      "                                              0.0/2.1 MB ? eta -:--:--\n",
      "     --------                                 0.5/2.1 MB 15.2 MB/s eta 0:00:01\n",
      "     -----------------                        0.9/2.1 MB 11.7 MB/s eta 0:00:01\n",
      "     ---------------------------              1.5/2.1 MB 11.6 MB/s eta 0:00:01\n",
      "     ----------------------------------       1.8/2.1 MB 11.6 MB/s eta 0:00:01\n",
      "     ----------------------------------       1.8/2.1 MB 11.6 MB/s eta 0:00:01\n",
      "     ----------------------------------       1.8/2.1 MB 11.6 MB/s eta 0:00:01\n",
      "     ----------------------------------       1.8/2.1 MB 11.6 MB/s eta 0:00:01\n",
      "     ----------------------------------       1.8/2.1 MB 11.6 MB/s eta 0:00:01\n",
      "     ----------------------------------       1.8/2.1 MB 11.6 MB/s eta 0:00:01\n",
      "     ----------------------------------       1.8/2.1 MB 11.6 MB/s eta 0:00:01\n",
      "     ----------------------------------       1.8/2.1 MB 11.6 MB/s eta 0:00:01\n",
      "     ----------------------------------       1.8/2.1 MB 11.6 MB/s eta 0:00:01\n",
      "     ----------------------------------       1.8/2.1 MB 11.6 MB/s eta 0:00:01\n",
      "     ----------------------------------       1.8/2.1 MB 11.6 MB/s eta 0:00:01\n",
      "     ----------------------------------       1.8/2.1 MB 11.6 MB/s eta 0:00:01\n",
      "     ----------------------------------       1.8/2.1 MB 11.6 MB/s eta 0:00:01\n",
      "     ----------------------------------       1.8/2.1 MB 11.6 MB/s eta 0:00:01\n",
      "     -------------------------------------    2.0/2.1 MB 2.4 MB/s eta 0:00:01\n",
      "     ---------------------------------------  2.1/2.1 MB 2.5 MB/s eta 0:00:01\n",
      "     ---------------------------------------- 2.1/2.1 MB 2.4 MB/s eta 0:00:00\n",
      "Collecting kiwisolver>=1.0.1 (from matplotlib)\n",
      "  Downloading kiwisolver-1.4.5-cp311-cp311-win_amd64.whl (56 kB)\n",
      "                                              0.0/56.1 kB ? eta -:--:--\n",
      "     ---------------------------------------- 56.1/56.1 kB ? eta 0:00:00\n",
      "Requirement already satisfied: numpy<2,>=1.21 in c:\\python311\\lib\\site-packages (from matplotlib) (1.26.1)\n",
      "Requirement already satisfied: packaging>=20.0 in c:\\python311\\lib\\site-packages (from matplotlib) (23.1)\n",
      "Collecting pillow>=6.2.0 (from matplotlib)\n",
      "  Downloading Pillow-10.1.0-cp311-cp311-win_amd64.whl (2.6 MB)\n",
      "                                              0.0/2.6 MB ? eta -:--:--\n",
      "     --------                                 0.5/2.6 MB 10.9 MB/s eta 0:00:01\n",
      "     ---------------                          1.0/2.6 MB 10.7 MB/s eta 0:00:01\n",
      "     -----------------------                  1.5/2.6 MB 10.7 MB/s eta 0:00:01\n",
      "     ---------------------------              1.8/2.6 MB 10.5 MB/s eta 0:00:01\n",
      "     ---------------------------              1.8/2.6 MB 10.5 MB/s eta 0:00:01\n",
      "     ---------------------------              1.8/2.6 MB 10.5 MB/s eta 0:00:01\n",
      "     ---------------------------              1.8/2.6 MB 10.5 MB/s eta 0:00:01\n",
      "     ---------------------------              1.8/2.6 MB 10.5 MB/s eta 0:00:01\n",
      "     ---------------------------              1.8/2.6 MB 10.5 MB/s eta 0:00:01\n",
      "     ---------------------------              1.8/2.6 MB 10.5 MB/s eta 0:00:01\n",
      "     ---------------------------              1.8/2.6 MB 10.5 MB/s eta 0:00:01\n",
      "     ---------------------------              1.8/2.6 MB 10.5 MB/s eta 0:00:01\n",
      "     ---------------------------              1.8/2.6 MB 10.5 MB/s eta 0:00:01\n",
      "     ---------------------------              1.8/2.6 MB 10.5 MB/s eta 0:00:01\n",
      "     ---------------------------              1.8/2.6 MB 10.5 MB/s eta 0:00:01\n",
      "     ---------------------------              1.8/2.6 MB 10.5 MB/s eta 0:00:01\n",
      "     ---------------------------              1.8/2.6 MB 10.5 MB/s eta 0:00:01\n",
      "     ----------------------------             1.9/2.6 MB 2.2 MB/s eta 0:00:01\n",
      "     ----------------------------------       2.3/2.6 MB 2.5 MB/s eta 0:00:01\n",
      "     ---------------------------------------  2.6/2.6 MB 2.8 MB/s eta 0:00:01\n",
      "     ---------------------------------------- 2.6/2.6 MB 2.6 MB/s eta 0:00:00\n",
      "Collecting pyparsing>=2.3.1 (from matplotlib)\n",
      "  Downloading pyparsing-3.1.1-py3-none-any.whl (103 kB)\n",
      "                                              0.0/103.1 kB ? eta -:--:--\n",
      "     -------------------------------------- 103.1/103.1 kB 5.8 MB/s eta 0:00:00\n",
      "Requirement already satisfied: python-dateutil>=2.7 in c:\\python311\\lib\\site-packages (from matplotlib) (2.8.2)\n",
      "Requirement already satisfied: six>=1.5 in c:\\python311\\lib\\site-packages (from python-dateutil>=2.7->matplotlib) (1.16.0)\n",
      "Installing collected packages: pyparsing, pillow, kiwisolver, fonttools, cycler, contourpy, matplotlib\n",
      "Successfully installed contourpy-1.1.1 cycler-0.12.1 fonttools-4.43.1 kiwisolver-1.4.5 matplotlib-3.8.0 pillow-10.1.0 pyparsing-3.1.1\n",
      "Note: you may need to restart the kernel to use updated packages.\n"
     ]
    },
    {
     "name": "stderr",
     "output_type": "stream",
     "text": [
      "\n",
      "[notice] A new release of pip is available: 23.1.2 -> 23.3\n",
      "[notice] To update, run: python.exe -m pip install --upgrade pip\n"
     ]
    }
   ],
   "source": [
    "pip install matplotlib"
   ]
  },
  {
   "cell_type": "code",
   "execution_count": 19,
   "metadata": {},
   "outputs": [
    {
     "name": "stderr",
     "output_type": "stream",
     "text": [
      "Matplotlib is building the font cache; this may take a moment.\n"
     ]
    }
   ],
   "source": [
    "# plote de um gráfico\n",
    "import matplotlib.pyplot as plt"
   ]
  },
  {
   "cell_type": "code",
   "execution_count": 24,
   "metadata": {},
   "outputs": [
    {
     "data": {
      "image/png": "[encoded data removed]",
      "text/plain": [
       "<Figure size 640x480 with 1 Axes>"
      ]
     },
     "metadata": {},
     "output_type": "display_data"
    }
   ],
   "source": [
    "# definição de x e y\n",
    "\n",
    "x = df['indice']\n",
    "y1 = df['numero1']\n",
    "y2 = df['numero2']\n",
    "\n",
    "plt.plot(x, y1 , x, y2)\n",
    "plt.xlabel('Eixo x')\n",
    "plt.ylabel('Eixo y')\n",
    "plt.title('Y em função de X')\n",
    "plt.grid()\n",
    "plt.legend(['var1', 'var 2'])\n",
    "plt.show()"
   ]
  },
  {
   "cell_type": "code",
   "execution_count": 26,
   "metadata": {},
   "outputs": [
    {
     "data": {
      "text/html": [
       "<div>\n",
       "<style scoped>\n",
       "    .dataframe tbody tr th:only-of-type {\n",
       "        vertical-align: middle;\n",
       "    }\n",
       "\n",
       "    .dataframe tbody tr th {\n",
       "        vertical-align: top;\n",
       "    }\n",
       "\n",
       "    .dataframe thead th {\n",
       "        text-align: right;\n",
       "    }\n",
       "</style>\n",
       "<table border=\"1\" class=\"dataframe\">\n",
       "  <thead>\n",
       "    <tr style=\"text-align: right;\">\n",
       "      <th></th>\n",
       "      <th>indice</th>\n",
       "      <th>numero1</th>\n",
       "      <th>numero2</th>\n",
       "      <th>texto1</th>\n",
       "      <th>Média</th>\n",
       "    </tr>\n",
       "  </thead>\n",
       "  <tbody>\n",
       "    <tr>\n",
       "      <th>0</th>\n",
       "      <td>0</td>\n",
       "      <td>1</td>\n",
       "      <td>4</td>\n",
       "      <td>x</td>\n",
       "      <td>3.0</td>\n",
       "    </tr>\n",
       "    <tr>\n",
       "      <th>1</th>\n",
       "      <td>1</td>\n",
       "      <td>2</td>\n",
       "      <td>3</td>\n",
       "      <td>y</td>\n",
       "      <td>3.5</td>\n",
       "    </tr>\n",
       "    <tr>\n",
       "      <th>2</th>\n",
       "      <td>2</td>\n",
       "      <td>3</td>\n",
       "      <td>5</td>\n",
       "      <td>z</td>\n",
       "      <td>5.5</td>\n",
       "    </tr>\n",
       "    <tr>\n",
       "      <th>3</th>\n",
       "      <td>3</td>\n",
       "      <td>4</td>\n",
       "      <td>1</td>\n",
       "      <td>y</td>\n",
       "      <td>4.5</td>\n",
       "    </tr>\n",
       "    <tr>\n",
       "      <th>4</th>\n",
       "      <td>4</td>\n",
       "      <td>5</td>\n",
       "      <td>9</td>\n",
       "      <td>w</td>\n",
       "      <td>9.5</td>\n",
       "    </tr>\n",
       "  </tbody>\n",
       "</table>\n",
       "</div>"
      ],
      "text/plain": [
       "   indice  numero1  numero2 texto1  Média\n",
       "0       0        1        4      x    3.0\n",
       "1       1        2        3      y    3.5\n",
       "2       2        3        5      z    5.5\n",
       "3       3        4        1      y    4.5\n",
       "4       4        5        9      w    9.5"
      ]
     },
     "execution_count": 26,
     "metadata": {},
     "output_type": "execute_result"
    }
   ],
   "source": [
    "# Calcular a média\n",
    "\n",
    "df['Média'] = (df['numero1'] + df['numero2']/2)\n",
    "df"
   ]
  },
  {
   "cell_type": "code",
   "execution_count": 35,
   "metadata": {},
   "outputs": [],
   "source": [
    "df['soma'] = 0\n",
    "\n",
    "for index, row in df.iterrows():\n",
    "    df.at[index, 'soma'] = row['numero1'] + row['numero2']"
   ]
  },
  {
   "cell_type": "code",
   "execution_count": 36,
   "metadata": {},
   "outputs": [
    {
     "data": {
      "text/html": [
       "<div>\n",
       "<style scoped>\n",
       "    .dataframe tbody tr th:only-of-type {\n",
       "        vertical-align: middle;\n",
       "    }\n",
       "\n",
       "    .dataframe tbody tr th {\n",
       "        vertical-align: top;\n",
       "    }\n",
       "\n",
       "    .dataframe thead th {\n",
       "        text-align: right;\n",
       "    }\n",
       "</style>\n",
       "<table border=\"1\" class=\"dataframe\">\n",
       "  <thead>\n",
       "    <tr style=\"text-align: right;\">\n",
       "      <th></th>\n",
       "      <th>indice</th>\n",
       "      <th>numero1</th>\n",
       "      <th>numero2</th>\n",
       "      <th>texto1</th>\n",
       "      <th>Média</th>\n",
       "      <th>media</th>\n",
       "      <th>soma</th>\n",
       "    </tr>\n",
       "  </thead>\n",
       "  <tbody>\n",
       "    <tr>\n",
       "      <th>0</th>\n",
       "      <td>0</td>\n",
       "      <td>1</td>\n",
       "      <td>4</td>\n",
       "      <td>x</td>\n",
       "      <td>3.0</td>\n",
       "      <td>0</td>\n",
       "      <td>5</td>\n",
       "    </tr>\n",
       "    <tr>\n",
       "      <th>1</th>\n",
       "      <td>1</td>\n",
       "      <td>2</td>\n",
       "      <td>3</td>\n",
       "      <td>y</td>\n",
       "      <td>3.5</td>\n",
       "      <td>0</td>\n",
       "      <td>5</td>\n",
       "    </tr>\n",
       "    <tr>\n",
       "      <th>2</th>\n",
       "      <td>2</td>\n",
       "      <td>3</td>\n",
       "      <td>5</td>\n",
       "      <td>z</td>\n",
       "      <td>5.5</td>\n",
       "      <td>0</td>\n",
       "      <td>8</td>\n",
       "    </tr>\n",
       "    <tr>\n",
       "      <th>3</th>\n",
       "      <td>3</td>\n",
       "      <td>4</td>\n",
       "      <td>1</td>\n",
       "      <td>y</td>\n",
       "      <td>4.5</td>\n",
       "      <td>0</td>\n",
       "      <td>5</td>\n",
       "    </tr>\n",
       "    <tr>\n",
       "      <th>4</th>\n",
       "      <td>4</td>\n",
       "      <td>5</td>\n",
       "      <td>9</td>\n",
       "      <td>w</td>\n",
       "      <td>9.5</td>\n",
       "      <td>0</td>\n",
       "      <td>14</td>\n",
       "    </tr>\n",
       "  </tbody>\n",
       "</table>\n",
       "</div>"
      ],
      "text/plain": [
       "   indice  numero1  numero2 texto1  Média  media  soma\n",
       "0       0        1        4      x    3.0      0     5\n",
       "1       1        2        3      y    3.5      0     5\n",
       "2       2        3        5      z    5.5      0     8\n",
       "3       3        4        1      y    4.5      0     5\n",
       "4       4        5        9      w    9.5      0    14"
      ]
     },
     "execution_count": 36,
     "metadata": {},
     "output_type": "execute_result"
    }
   ],
   "source": [
    "df"
   ]
  },
  {
   "cell_type": "code",
   "execution_count": 47,
   "metadata": {},
   "outputs": [],
   "source": [
    "df.to_csv('novo_exemplo.csv')"
   ]
  },
  {
   "cell_type": "code",
   "execution_count": 51,
   "metadata": {},
   "outputs": [],
   "source": [
    "new_data = pd.read_csv('novo_exemplo.csv')"
   ]
  }
 ],
 "metadata": {
  "kernelspec": {
   "display_name": "Python 3",
   "language": "python",
   "name": "python3"
  },
  "language_info": {
   "codemirror_mode": {
    "name": "ipython",
    "version": 3
   },
   "file_extension": ".py",
   "mimetype": "text/x-python",
   "name": "python",
   "nbconvert_exporter": "python",
   "pygments_lexer": "ipython3",
   "version": "3.11.4"
  },
  "orig_nbformat": 4
 },
 "nbformat": 4,
 "nbformat_minor": 2
}
